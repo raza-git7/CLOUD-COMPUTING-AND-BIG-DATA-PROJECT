{
  "nbformat": 4,
  "nbformat_minor": 0,
  "metadata": {
    "colab": {
      "provenance": []
    },
    "kernelspec": {
      "name": "python3",
      "display_name": "Python 3"
    },
    "language_info": {
      "name": "python"
    }
  },
  "cells": [
    {
      "cell_type": "markdown",
      "source": [
        "**MOVIE RECOMMENDATION SYSTEM**"
      ],
      "metadata": {
        "id": "f8S0z_eL2Q-8"
      }
    },
    {
      "cell_type": "markdown",
      "source": [
        "A recommender system is a system that seeks to predict or filter preferences according to the user’s choices. Recommender systems are utilized in a variety of areas including movies, music, news, books, research articles, search queries, social tags, and products in general.\n",
        "\n",
        "Recommender systems produce a list of recommendations in any of two ways: Collaborative filtering: Collaborative filtering approaches build a model from the user’s past behavior (i.e., items purchased or searched by the user) as well as similar decisions made by other users. This model is then used to predict items (or ratings for items) that users may have an interest in.\n",
        "\n",
        "Content-based filtering: Content-based filtering approaches use a series of discrete characteristics of an item to recommend additional items with similar properties. Content-based filtering methods are entirely based on a description of the item and a profile of the user’s preferences. It recommends items based on the user’s past preferences.\n",
        "\n",
        "Let’s develop a basic recommendation system using Python and Pandas. This system will suggest items that are most similar to a particular item, in this case, movies. It simply tells what movies/items are most similar to the user’s movie choice.\n",
        "\n"
      ],
      "metadata": {
        "id": "AcHfy56u2f8X"
      }
    },
    {
      "cell_type": "markdown",
      "source": [
        "**IMPORT LIBRARY**"
      ],
      "metadata": {
        "id": "SnYsThgV2uWR"
      }
    },
    {
      "cell_type": "code",
      "source": [
        "import pandas as pd"
      ],
      "metadata": {
        "id": "IDjHE9hf263g"
      },
      "execution_count": null,
      "outputs": []
    },
    {
      "cell_type": "code",
      "source": [
        "import numpy as np"
      ],
      "metadata": {
        "id": "gh-lMAgI3BSf"
      },
      "execution_count": null,
      "outputs": []
    },
    {
      "cell_type": "markdown",
      "source": [
        "**IMPORT DATASET**"
      ],
      "metadata": {
        "id": "sZ3dTVD83H_F"
      }
    },
    {
      "cell_type": "code",
      "source": [
        "df=pd.read_csv('https://github.com/YBI-Foundation/Dataset/raw/main/Movies%20Recommendation.csv')"
      ],
      "metadata": {
        "id": "zHdZvLpD3Qnn"
      },
      "execution_count": null,
      "outputs": []
    },
    {
      "cell_type": "code",
      "source": [
        "df.head()"
      ],
      "metadata": {
        "colab": {
          "base_uri": "https://localhost:8080/",
          "height": 672
        },
        "id": "TIhGoVCJ3Quj",
        "outputId": "9d1a89b9-8b7e-4194-cfb4-7fdf946ae9c2"
      },
      "execution_count": null,
      "outputs": [
        {
          "output_type": "execute_result",
          "data": {
            "text/plain": [
              "   Movie_ID      Movie_Title                       Movie_Genre Movie_Language  \\\n",
              "0         1       Four Rooms                      Crime Comedy             en   \n",
              "1         2        Star Wars  Adventure Action Science Fiction             en   \n",
              "2         3     Finding Nemo                  Animation Family             en   \n",
              "3         4     Forrest Gump              Comedy Drama Romance             en   \n",
              "4         5  American Beauty                             Drama             en   \n",
              "\n",
              "   Movie_Budget  Movie_Popularity Movie_Release_Date  Movie_Revenue  \\\n",
              "0       4000000         22.876230         09-12-1995        4300000   \n",
              "1      11000000        126.393695         25-05-1977      775398007   \n",
              "2      94000000         85.688789         30-05-2003      940335536   \n",
              "3      55000000        138.133331         06-07-1994      677945399   \n",
              "4      15000000         80.878605         15-09-1999      356296601   \n",
              "\n",
              "   Movie_Runtime  Movie_Vote  ...  \\\n",
              "0           98.0         6.5  ...   \n",
              "1          121.0         8.1  ...   \n",
              "2          100.0         7.6  ...   \n",
              "3          142.0         8.2  ...   \n",
              "4          122.0         7.9  ...   \n",
              "\n",
              "                                      Movie_Homepage  \\\n",
              "0                                                NaN   \n",
              "1  http://www.starwars.com/films/star-wars-episod...   \n",
              "2              http://movies.disney.com/finding-nemo   \n",
              "3                                                NaN   \n",
              "4                      http://www.dreamworks.com/ab/   \n",
              "\n",
              "                                      Movie_Keywords  \\\n",
              "0          hotel new year's eve witch bet hotel room   \n",
              "1        android galaxy hermit death star lightsaber   \n",
              "2  father son relationship harbor underwater fish...   \n",
              "3  vietnam veteran hippie mentally disabled runni...   \n",
              "4  male nudity female nudity adultery midlife cri...   \n",
              "\n",
              "                                      Movie_Overview  \\\n",
              "0  It's Ted the Bellhop's first night on the job....   \n",
              "1  Princess Leia is captured and held hostage by ...   \n",
              "2  Nemo, an adventurous young clownfish, is unexp...   \n",
              "3  A man with a low IQ has accomplished great thi...   \n",
              "4  Lester Burnham, a depressed suburban father in...   \n",
              "\n",
              "                              Movie_Production_House  \\\n",
              "0  [{\"name\": \"Miramax Films\", \"id\": 14}, {\"name\":...   \n",
              "1  [{\"name\": \"Lucasfilm\", \"id\": 1}, {\"name\": \"Twe...   \n",
              "2     [{\"name\": \"Pixar Animation Studios\", \"id\": 3}]   \n",
              "3          [{\"name\": \"Paramount Pictures\", \"id\": 4}]   \n",
              "4  [{\"name\": \"DreamWorks SKG\", \"id\": 27}, {\"name\"...   \n",
              "\n",
              "                            Movie_Production_Country  \\\n",
              "0  [{\"iso_3166_1\": \"US\", \"name\": \"United States o...   \n",
              "1  [{\"iso_3166_1\": \"US\", \"name\": \"United States o...   \n",
              "2  [{\"iso_3166_1\": \"US\", \"name\": \"United States o...   \n",
              "3  [{\"iso_3166_1\": \"US\", \"name\": \"United States o...   \n",
              "4  [{\"iso_3166_1\": \"US\", \"name\": \"United States o...   \n",
              "\n",
              "                      Movie_Spoken_Language  \\\n",
              "0  [{\"iso_639_1\": \"en\", \"name\": \"English\"}]   \n",
              "1  [{\"iso_639_1\": \"en\", \"name\": \"English\"}]   \n",
              "2  [{\"iso_639_1\": \"en\", \"name\": \"English\"}]   \n",
              "3  [{\"iso_639_1\": \"en\", \"name\": \"English\"}]   \n",
              "4  [{\"iso_639_1\": \"en\", \"name\": \"English\"}]   \n",
              "\n",
              "                                       Movie_Tagline  \\\n",
              "0  Twelve outrageous guests. Four scandalous requ...   \n",
              "1       A long time ago in a galaxy far, far away...   \n",
              "2  There are 3.7 trillion fish in the ocean, they...   \n",
              "3  The world will never be the same, once you've ...   \n",
              "4                                       Look closer.   \n",
              "\n",
              "                                          Movie_Cast  \\\n",
              "0  Tim Roth Antonio Banderas Jennifer Beals Madon...   \n",
              "1  Mark Hamill Harrison Ford Carrie Fisher Peter ...   \n",
              "2  Albert Brooks Ellen DeGeneres Alexander Gould ...   \n",
              "3  Tom Hanks Robin Wright Gary Sinise Mykelti Wil...   \n",
              "4  Kevin Spacey Annette Bening Thora Birch Wes Be...   \n",
              "\n",
              "                                          Movie_Crew   Movie_Director  \n",
              "0  [{'name': 'Allison Anders', 'gender': 1, 'depa...   Allison Anders  \n",
              "1  [{'name': 'George Lucas', 'gender': 2, 'depart...     George Lucas  \n",
              "2  [{'name': 'Andrew Stanton', 'gender': 2, 'depa...   Andrew Stanton  \n",
              "3  [{'name': 'Alan Silvestri', 'gender': 2, 'depa...  Robert Zemeckis  \n",
              "4  [{'name': 'Thomas Newman', 'gender': 2, 'depar...       Sam Mendes  \n",
              "\n",
              "[5 rows x 21 columns]"
            ],
            "text/html": [
              "\n",
              "  <div id=\"df-668e8f04-6119-4930-94a3-16b3bf78292d\" class=\"colab-df-container\">\n",
              "    <div>\n",
              "<style scoped>\n",
              "    .dataframe tbody tr th:only-of-type {\n",
              "        vertical-align: middle;\n",
              "    }\n",
              "\n",
              "    .dataframe tbody tr th {\n",
              "        vertical-align: top;\n",
              "    }\n",
              "\n",
              "    .dataframe thead th {\n",
              "        text-align: right;\n",
              "    }\n",
              "</style>\n",
              "<table border=\"1\" class=\"dataframe\">\n",
              "  <thead>\n",
              "    <tr style=\"text-align: right;\">\n",
              "      <th></th>\n",
              "      <th>Movie_ID</th>\n",
              "      <th>Movie_Title</th>\n",
              "      <th>Movie_Genre</th>\n",
              "      <th>Movie_Language</th>\n",
              "      <th>Movie_Budget</th>\n",
              "      <th>Movie_Popularity</th>\n",
              "      <th>Movie_Release_Date</th>\n",
              "      <th>Movie_Revenue</th>\n",
              "      <th>Movie_Runtime</th>\n",
              "      <th>Movie_Vote</th>\n",
              "      <th>...</th>\n",
              "      <th>Movie_Homepage</th>\n",
              "      <th>Movie_Keywords</th>\n",
              "      <th>Movie_Overview</th>\n",
              "      <th>Movie_Production_House</th>\n",
              "      <th>Movie_Production_Country</th>\n",
              "      <th>Movie_Spoken_Language</th>\n",
              "      <th>Movie_Tagline</th>\n",
              "      <th>Movie_Cast</th>\n",
              "      <th>Movie_Crew</th>\n",
              "      <th>Movie_Director</th>\n",
              "    </tr>\n",
              "  </thead>\n",
              "  <tbody>\n",
              "    <tr>\n",
              "      <th>0</th>\n",
              "      <td>1</td>\n",
              "      <td>Four Rooms</td>\n",
              "      <td>Crime Comedy</td>\n",
              "      <td>en</td>\n",
              "      <td>4000000</td>\n",
              "      <td>22.876230</td>\n",
              "      <td>09-12-1995</td>\n",
              "      <td>4300000</td>\n",
              "      <td>98.0</td>\n",
              "      <td>6.5</td>\n",
              "      <td>...</td>\n",
              "      <td>NaN</td>\n",
              "      <td>hotel new year's eve witch bet hotel room</td>\n",
              "      <td>It's Ted the Bellhop's first night on the job....</td>\n",
              "      <td>[{\"name\": \"Miramax Films\", \"id\": 14}, {\"name\":...</td>\n",
              "      <td>[{\"iso_3166_1\": \"US\", \"name\": \"United States o...</td>\n",
              "      <td>[{\"iso_639_1\": \"en\", \"name\": \"English\"}]</td>\n",
              "      <td>Twelve outrageous guests. Four scandalous requ...</td>\n",
              "      <td>Tim Roth Antonio Banderas Jennifer Beals Madon...</td>\n",
              "      <td>[{'name': 'Allison Anders', 'gender': 1, 'depa...</td>\n",
              "      <td>Allison Anders</td>\n",
              "    </tr>\n",
              "    <tr>\n",
              "      <th>1</th>\n",
              "      <td>2</td>\n",
              "      <td>Star Wars</td>\n",
              "      <td>Adventure Action Science Fiction</td>\n",
              "      <td>en</td>\n",
              "      <td>11000000</td>\n",
              "      <td>126.393695</td>\n",
              "      <td>25-05-1977</td>\n",
              "      <td>775398007</td>\n",
              "      <td>121.0</td>\n",
              "      <td>8.1</td>\n",
              "      <td>...</td>\n",
              "      <td>http://www.starwars.com/films/star-wars-episod...</td>\n",
              "      <td>android galaxy hermit death star lightsaber</td>\n",
              "      <td>Princess Leia is captured and held hostage by ...</td>\n",
              "      <td>[{\"name\": \"Lucasfilm\", \"id\": 1}, {\"name\": \"Twe...</td>\n",
              "      <td>[{\"iso_3166_1\": \"US\", \"name\": \"United States o...</td>\n",
              "      <td>[{\"iso_639_1\": \"en\", \"name\": \"English\"}]</td>\n",
              "      <td>A long time ago in a galaxy far, far away...</td>\n",
              "      <td>Mark Hamill Harrison Ford Carrie Fisher Peter ...</td>\n",
              "      <td>[{'name': 'George Lucas', 'gender': 2, 'depart...</td>\n",
              "      <td>George Lucas</td>\n",
              "    </tr>\n",
              "    <tr>\n",
              "      <th>2</th>\n",
              "      <td>3</td>\n",
              "      <td>Finding Nemo</td>\n",
              "      <td>Animation Family</td>\n",
              "      <td>en</td>\n",
              "      <td>94000000</td>\n",
              "      <td>85.688789</td>\n",
              "      <td>30-05-2003</td>\n",
              "      <td>940335536</td>\n",
              "      <td>100.0</td>\n",
              "      <td>7.6</td>\n",
              "      <td>...</td>\n",
              "      <td>http://movies.disney.com/finding-nemo</td>\n",
              "      <td>father son relationship harbor underwater fish...</td>\n",
              "      <td>Nemo, an adventurous young clownfish, is unexp...</td>\n",
              "      <td>[{\"name\": \"Pixar Animation Studios\", \"id\": 3}]</td>\n",
              "      <td>[{\"iso_3166_1\": \"US\", \"name\": \"United States o...</td>\n",
              "      <td>[{\"iso_639_1\": \"en\", \"name\": \"English\"}]</td>\n",
              "      <td>There are 3.7 trillion fish in the ocean, they...</td>\n",
              "      <td>Albert Brooks Ellen DeGeneres Alexander Gould ...</td>\n",
              "      <td>[{'name': 'Andrew Stanton', 'gender': 2, 'depa...</td>\n",
              "      <td>Andrew Stanton</td>\n",
              "    </tr>\n",
              "    <tr>\n",
              "      <th>3</th>\n",
              "      <td>4</td>\n",
              "      <td>Forrest Gump</td>\n",
              "      <td>Comedy Drama Romance</td>\n",
              "      <td>en</td>\n",
              "      <td>55000000</td>\n",
              "      <td>138.133331</td>\n",
              "      <td>06-07-1994</td>\n",
              "      <td>677945399</td>\n",
              "      <td>142.0</td>\n",
              "      <td>8.2</td>\n",
              "      <td>...</td>\n",
              "      <td>NaN</td>\n",
              "      <td>vietnam veteran hippie mentally disabled runni...</td>\n",
              "      <td>A man with a low IQ has accomplished great thi...</td>\n",
              "      <td>[{\"name\": \"Paramount Pictures\", \"id\": 4}]</td>\n",
              "      <td>[{\"iso_3166_1\": \"US\", \"name\": \"United States o...</td>\n",
              "      <td>[{\"iso_639_1\": \"en\", \"name\": \"English\"}]</td>\n",
              "      <td>The world will never be the same, once you've ...</td>\n",
              "      <td>Tom Hanks Robin Wright Gary Sinise Mykelti Wil...</td>\n",
              "      <td>[{'name': 'Alan Silvestri', 'gender': 2, 'depa...</td>\n",
              "      <td>Robert Zemeckis</td>\n",
              "    </tr>\n",
              "    <tr>\n",
              "      <th>4</th>\n",
              "      <td>5</td>\n",
              "      <td>American Beauty</td>\n",
              "      <td>Drama</td>\n",
              "      <td>en</td>\n",
              "      <td>15000000</td>\n",
              "      <td>80.878605</td>\n",
              "      <td>15-09-1999</td>\n",
              "      <td>356296601</td>\n",
              "      <td>122.0</td>\n",
              "      <td>7.9</td>\n",
              "      <td>...</td>\n",
              "      <td>http://www.dreamworks.com/ab/</td>\n",
              "      <td>male nudity female nudity adultery midlife cri...</td>\n",
              "      <td>Lester Burnham, a depressed suburban father in...</td>\n",
              "      <td>[{\"name\": \"DreamWorks SKG\", \"id\": 27}, {\"name\"...</td>\n",
              "      <td>[{\"iso_3166_1\": \"US\", \"name\": \"United States o...</td>\n",
              "      <td>[{\"iso_639_1\": \"en\", \"name\": \"English\"}]</td>\n",
              "      <td>Look closer.</td>\n",
              "      <td>Kevin Spacey Annette Bening Thora Birch Wes Be...</td>\n",
              "      <td>[{'name': 'Thomas Newman', 'gender': 2, 'depar...</td>\n",
              "      <td>Sam Mendes</td>\n",
              "    </tr>\n",
              "  </tbody>\n",
              "</table>\n",
              "<p>5 rows × 21 columns</p>\n",
              "</div>\n",
              "    <div class=\"colab-df-buttons\">\n",
              "\n",
              "  <div class=\"colab-df-container\">\n",
              "    <button class=\"colab-df-convert\" onclick=\"convertToInteractive('df-668e8f04-6119-4930-94a3-16b3bf78292d')\"\n",
              "            title=\"Convert this dataframe to an interactive table.\"\n",
              "            style=\"display:none;\">\n",
              "\n",
              "  <svg xmlns=\"http://www.w3.org/2000/svg\" height=\"24px\" viewBox=\"0 -960 960 960\">\n",
              "    <path d=\"M120-120v-720h720v720H120Zm60-500h600v-160H180v160Zm220 220h160v-160H400v160Zm0 220h160v-160H400v160ZM180-400h160v-160H180v160Zm440 0h160v-160H620v160ZM180-180h160v-160H180v160Zm440 0h160v-160H620v160Z\"/>\n",
              "  </svg>\n",
              "    </button>\n",
              "\n",
              "  <style>\n",
              "    .colab-df-container {\n",
              "      display:flex;\n",
              "      gap: 12px;\n",
              "    }\n",
              "\n",
              "    .colab-df-convert {\n",
              "      background-color: #E8F0FE;\n",
              "      border: none;\n",
              "      border-radius: 50%;\n",
              "      cursor: pointer;\n",
              "      display: none;\n",
              "      fill: #1967D2;\n",
              "      height: 32px;\n",
              "      padding: 0 0 0 0;\n",
              "      width: 32px;\n",
              "    }\n",
              "\n",
              "    .colab-df-convert:hover {\n",
              "      background-color: #E2EBFA;\n",
              "      box-shadow: 0px 1px 2px rgba(60, 64, 67, 0.3), 0px 1px 3px 1px rgba(60, 64, 67, 0.15);\n",
              "      fill: #174EA6;\n",
              "    }\n",
              "\n",
              "    .colab-df-buttons div {\n",
              "      margin-bottom: 4px;\n",
              "    }\n",
              "\n",
              "    [theme=dark] .colab-df-convert {\n",
              "      background-color: #3B4455;\n",
              "      fill: #D2E3FC;\n",
              "    }\n",
              "\n",
              "    [theme=dark] .colab-df-convert:hover {\n",
              "      background-color: #434B5C;\n",
              "      box-shadow: 0px 1px 3px 1px rgba(0, 0, 0, 0.15);\n",
              "      filter: drop-shadow(0px 1px 2px rgba(0, 0, 0, 0.3));\n",
              "      fill: #FFFFFF;\n",
              "    }\n",
              "  </style>\n",
              "\n",
              "    <script>\n",
              "      const buttonEl =\n",
              "        document.querySelector('#df-668e8f04-6119-4930-94a3-16b3bf78292d button.colab-df-convert');\n",
              "      buttonEl.style.display =\n",
              "        google.colab.kernel.accessAllowed ? 'block' : 'none';\n",
              "\n",
              "      async function convertToInteractive(key) {\n",
              "        const element = document.querySelector('#df-668e8f04-6119-4930-94a3-16b3bf78292d');\n",
              "        const dataTable =\n",
              "          await google.colab.kernel.invokeFunction('convertToInteractive',\n",
              "                                                    [key], {});\n",
              "        if (!dataTable) return;\n",
              "\n",
              "        const docLinkHtml = 'Like what you see? Visit the ' +\n",
              "          '<a target=\"_blank\" href=https://colab.research.google.com/notebooks/data_table.ipynb>data table notebook</a>'\n",
              "          + ' to learn more about interactive tables.';\n",
              "        element.innerHTML = '';\n",
              "        dataTable['output_type'] = 'display_data';\n",
              "        await google.colab.output.renderOutput(dataTable, element);\n",
              "        const docLink = document.createElement('div');\n",
              "        docLink.innerHTML = docLinkHtml;\n",
              "        element.appendChild(docLink);\n",
              "      }\n",
              "    </script>\n",
              "  </div>\n",
              "\n",
              "\n",
              "<div id=\"df-aed1a4a2-e96c-455c-8be5-610bd52a87b7\">\n",
              "  <button class=\"colab-df-quickchart\" onclick=\"quickchart('df-aed1a4a2-e96c-455c-8be5-610bd52a87b7')\"\n",
              "            title=\"Suggest charts\"\n",
              "            style=\"display:none;\">\n",
              "\n",
              "<svg xmlns=\"http://www.w3.org/2000/svg\" height=\"24px\"viewBox=\"0 0 24 24\"\n",
              "     width=\"24px\">\n",
              "    <g>\n",
              "        <path d=\"M19 3H5c-1.1 0-2 .9-2 2v14c0 1.1.9 2 2 2h14c1.1 0 2-.9 2-2V5c0-1.1-.9-2-2-2zM9 17H7v-7h2v7zm4 0h-2V7h2v10zm4 0h-2v-4h2v4z\"/>\n",
              "    </g>\n",
              "</svg>\n",
              "  </button>\n",
              "\n",
              "<style>\n",
              "  .colab-df-quickchart {\n",
              "      --bg-color: #E8F0FE;\n",
              "      --fill-color: #1967D2;\n",
              "      --hover-bg-color: #E2EBFA;\n",
              "      --hover-fill-color: #174EA6;\n",
              "      --disabled-fill-color: #AAA;\n",
              "      --disabled-bg-color: #DDD;\n",
              "  }\n",
              "\n",
              "  [theme=dark] .colab-df-quickchart {\n",
              "      --bg-color: #3B4455;\n",
              "      --fill-color: #D2E3FC;\n",
              "      --hover-bg-color: #434B5C;\n",
              "      --hover-fill-color: #FFFFFF;\n",
              "      --disabled-bg-color: #3B4455;\n",
              "      --disabled-fill-color: #666;\n",
              "  }\n",
              "\n",
              "  .colab-df-quickchart {\n",
              "    background-color: var(--bg-color);\n",
              "    border: none;\n",
              "    border-radius: 50%;\n",
              "    cursor: pointer;\n",
              "    display: none;\n",
              "    fill: var(--fill-color);\n",
              "    height: 32px;\n",
              "    padding: 0;\n",
              "    width: 32px;\n",
              "  }\n",
              "\n",
              "  .colab-df-quickchart:hover {\n",
              "    background-color: var(--hover-bg-color);\n",
              "    box-shadow: 0 1px 2px rgba(60, 64, 67, 0.3), 0 1px 3px 1px rgba(60, 64, 67, 0.15);\n",
              "    fill: var(--button-hover-fill-color);\n",
              "  }\n",
              "\n",
              "  .colab-df-quickchart-complete:disabled,\n",
              "  .colab-df-quickchart-complete:disabled:hover {\n",
              "    background-color: var(--disabled-bg-color);\n",
              "    fill: var(--disabled-fill-color);\n",
              "    box-shadow: none;\n",
              "  }\n",
              "\n",
              "  .colab-df-spinner {\n",
              "    border: 2px solid var(--fill-color);\n",
              "    border-color: transparent;\n",
              "    border-bottom-color: var(--fill-color);\n",
              "    animation:\n",
              "      spin 1s steps(1) infinite;\n",
              "  }\n",
              "\n",
              "  @keyframes spin {\n",
              "    0% {\n",
              "      border-color: transparent;\n",
              "      border-bottom-color: var(--fill-color);\n",
              "      border-left-color: var(--fill-color);\n",
              "    }\n",
              "    20% {\n",
              "      border-color: transparent;\n",
              "      border-left-color: var(--fill-color);\n",
              "      border-top-color: var(--fill-color);\n",
              "    }\n",
              "    30% {\n",
              "      border-color: transparent;\n",
              "      border-left-color: var(--fill-color);\n",
              "      border-top-color: var(--fill-color);\n",
              "      border-right-color: var(--fill-color);\n",
              "    }\n",
              "    40% {\n",
              "      border-color: transparent;\n",
              "      border-right-color: var(--fill-color);\n",
              "      border-top-color: var(--fill-color);\n",
              "    }\n",
              "    60% {\n",
              "      border-color: transparent;\n",
              "      border-right-color: var(--fill-color);\n",
              "    }\n",
              "    80% {\n",
              "      border-color: transparent;\n",
              "      border-right-color: var(--fill-color);\n",
              "      border-bottom-color: var(--fill-color);\n",
              "    }\n",
              "    90% {\n",
              "      border-color: transparent;\n",
              "      border-bottom-color: var(--fill-color);\n",
              "    }\n",
              "  }\n",
              "</style>\n",
              "\n",
              "  <script>\n",
              "    async function quickchart(key) {\n",
              "      const quickchartButtonEl =\n",
              "        document.querySelector('#' + key + ' button');\n",
              "      quickchartButtonEl.disabled = true;  // To prevent multiple clicks.\n",
              "      quickchartButtonEl.classList.add('colab-df-spinner');\n",
              "      try {\n",
              "        const charts = await google.colab.kernel.invokeFunction(\n",
              "            'suggestCharts', [key], {});\n",
              "      } catch (error) {\n",
              "        console.error('Error during call to suggestCharts:', error);\n",
              "      }\n",
              "      quickchartButtonEl.classList.remove('colab-df-spinner');\n",
              "      quickchartButtonEl.classList.add('colab-df-quickchart-complete');\n",
              "    }\n",
              "    (() => {\n",
              "      let quickchartButtonEl =\n",
              "        document.querySelector('#df-aed1a4a2-e96c-455c-8be5-610bd52a87b7 button');\n",
              "      quickchartButtonEl.style.display =\n",
              "        google.colab.kernel.accessAllowed ? 'block' : 'none';\n",
              "    })();\n",
              "  </script>\n",
              "</div>\n",
              "\n",
              "    </div>\n",
              "  </div>\n"
            ],
            "application/vnd.google.colaboratory.intrinsic+json": {
              "type": "dataframe",
              "variable_name": "df"
            }
          },
          "metadata": {},
          "execution_count": 8
        }
      ]
    },
    {
      "cell_type": "code",
      "source": [
        "df.info()"
      ],
      "metadata": {
        "colab": {
          "base_uri": "https://localhost:8080/"
        },
        "id": "E4pcV9GD3_Xx",
        "outputId": "2f6a3945-c4b4-47c5-d360-e9c020566926"
      },
      "execution_count": null,
      "outputs": [
        {
          "output_type": "stream",
          "name": "stdout",
          "text": [
            "<class 'pandas.core.frame.DataFrame'>\n",
            "RangeIndex: 4760 entries, 0 to 4759\n",
            "Data columns (total 21 columns):\n",
            " #   Column                    Non-Null Count  Dtype  \n",
            "---  ------                    --------------  -----  \n",
            " 0   Movie_ID                  4760 non-null   int64  \n",
            " 1   Movie_Title               4760 non-null   object \n",
            " 2   Movie_Genre               4760 non-null   object \n",
            " 3   Movie_Language            4760 non-null   object \n",
            " 4   Movie_Budget              4760 non-null   int64  \n",
            " 5   Movie_Popularity          4760 non-null   float64\n",
            " 6   Movie_Release_Date        4760 non-null   object \n",
            " 7   Movie_Revenue             4760 non-null   int64  \n",
            " 8   Movie_Runtime             4758 non-null   float64\n",
            " 9   Movie_Vote                4760 non-null   float64\n",
            " 10  Movie_Vote_Count          4760 non-null   int64  \n",
            " 11  Movie_Homepage            1699 non-null   object \n",
            " 12  Movie_Keywords            4373 non-null   object \n",
            " 13  Movie_Overview            4757 non-null   object \n",
            " 14  Movie_Production_House    4760 non-null   object \n",
            " 15  Movie_Production_Country  4760 non-null   object \n",
            " 16  Movie_Spoken_Language     4760 non-null   object \n",
            " 17  Movie_Tagline             3942 non-null   object \n",
            " 18  Movie_Cast                4733 non-null   object \n",
            " 19  Movie_Crew                4760 non-null   object \n",
            " 20  Movie_Director            4738 non-null   object \n",
            "dtypes: float64(3), int64(4), object(14)\n",
            "memory usage: 781.1+ KB\n"
          ]
        }
      ]
    },
    {
      "cell_type": "code",
      "source": [
        "df.shape"
      ],
      "metadata": {
        "colab": {
          "base_uri": "https://localhost:8080/"
        },
        "id": "G3vf6Apn4EuJ",
        "outputId": "f37eede6-cc16-41db-aeb5-adbbde2b2331"
      },
      "execution_count": null,
      "outputs": [
        {
          "output_type": "execute_result",
          "data": {
            "text/plain": [
              "(4760, 21)"
            ]
          },
          "metadata": {},
          "execution_count": 10
        }
      ]
    },
    {
      "cell_type": "code",
      "source": [
        "df.columns"
      ],
      "metadata": {
        "colab": {
          "base_uri": "https://localhost:8080/"
        },
        "id": "yOhyuQGB4JJM",
        "outputId": "117c345e-08d6-43a4-bed9-baf51687dde5"
      },
      "execution_count": null,
      "outputs": [
        {
          "output_type": "execute_result",
          "data": {
            "text/plain": [
              "Index(['Movie_ID', 'Movie_Title', 'Movie_Genre', 'Movie_Language',\n",
              "       'Movie_Budget', 'Movie_Popularity', 'Movie_Release_Date',\n",
              "       'Movie_Revenue', 'Movie_Runtime', 'Movie_Vote', 'Movie_Vote_Count',\n",
              "       'Movie_Homepage', 'Movie_Keywords', 'Movie_Overview',\n",
              "       'Movie_Production_House', 'Movie_Production_Country',\n",
              "       'Movie_Spoken_Language', 'Movie_Tagline', 'Movie_Cast', 'Movie_Crew',\n",
              "       'Movie_Director'],\n",
              "      dtype='object')"
            ]
          },
          "metadata": {},
          "execution_count": 11
        }
      ]
    },
    {
      "cell_type": "markdown",
      "source": [
        "**GET FEATURE SELECTION**"
      ],
      "metadata": {
        "id": "FKlJ2yhK4O_9"
      }
    },
    {
      "cell_type": "code",
      "source": [
        "df_features = df[['Movie_Genre','Movie_Keywords','Movie_Tagline','Movie_Cast','Movie_Director']].fillna('')"
      ],
      "metadata": {
        "id": "Pbm7mvst4Xvj"
      },
      "execution_count": null,
      "outputs": []
    },
    {
      "cell_type": "code",
      "source": [
        "df_features.shape"
      ],
      "metadata": {
        "colab": {
          "base_uri": "https://localhost:8080/"
        },
        "id": "mynO8z7K4d9X",
        "outputId": "17b86a7e-0073-4fba-bb8e-c7447745b0d3"
      },
      "execution_count": null,
      "outputs": [
        {
          "output_type": "execute_result",
          "data": {
            "text/plain": [
              "(4760, 5)"
            ]
          },
          "metadata": {},
          "execution_count": 13
        }
      ]
    },
    {
      "cell_type": "code",
      "source": [
        "df_features"
      ],
      "metadata": {
        "colab": {
          "base_uri": "https://localhost:8080/",
          "height": 493
        },
        "id": "lo3IyY144hyA",
        "outputId": "542fed00-9750-4f6a-e59f-80dbbc8a6e9a"
      },
      "execution_count": null,
      "outputs": [
        {
          "output_type": "execute_result",
          "data": {
            "text/plain": [
              "                           Movie_Genre  \\\n",
              "0                         Crime Comedy   \n",
              "1     Adventure Action Science Fiction   \n",
              "2                     Animation Family   \n",
              "3                 Comedy Drama Romance   \n",
              "4                                Drama   \n",
              "...                                ...   \n",
              "4755                            Horror   \n",
              "4756               Comedy Family Drama   \n",
              "4757                    Thriller Drama   \n",
              "4758                            Family   \n",
              "4759                       Documentary   \n",
              "\n",
              "                                         Movie_Keywords  \\\n",
              "0             hotel new year's eve witch bet hotel room   \n",
              "1           android galaxy hermit death star lightsaber   \n",
              "2     father son relationship harbor underwater fish...   \n",
              "3     vietnam veteran hippie mentally disabled runni...   \n",
              "4     male nudity female nudity adultery midlife cri...   \n",
              "...                                                 ...   \n",
              "4755                                                      \n",
              "4756                                                      \n",
              "4757                     christian film sex trafficking   \n",
              "4758                                                      \n",
              "4759  music actors legendary perfomer classic hollyw...   \n",
              "\n",
              "                                          Movie_Tagline  \\\n",
              "0     Twelve outrageous guests. Four scandalous requ...   \n",
              "1          A long time ago in a galaxy far, far away...   \n",
              "2     There are 3.7 trillion fish in the ocean, they...   \n",
              "3     The world will never be the same, once you've ...   \n",
              "4                                          Look closer.   \n",
              "...                                                 ...   \n",
              "4755                The hot spot where Satan's waitin'.   \n",
              "4756           It’s better to stand out than to fit in.   \n",
              "4757           She never knew it could happen to her...   \n",
              "4758                                                      \n",
              "4759                                                      \n",
              "\n",
              "                                             Movie_Cast     Movie_Director  \n",
              "0     Tim Roth Antonio Banderas Jennifer Beals Madon...     Allison Anders  \n",
              "1     Mark Hamill Harrison Ford Carrie Fisher Peter ...       George Lucas  \n",
              "2     Albert Brooks Ellen DeGeneres Alexander Gould ...     Andrew Stanton  \n",
              "3     Tom Hanks Robin Wright Gary Sinise Mykelti Wil...    Robert Zemeckis  \n",
              "4     Kevin Spacey Annette Bening Thora Birch Wes Be...         Sam Mendes  \n",
              "...                                                 ...                ...  \n",
              "4755  Lisa Hart Carroll Michael Des Barres Paul Drak...         Pece Dingo  \n",
              "4756  Roni Akurati Brighton Sharbino Jason Lee Anjul...       Frank Lotito  \n",
              "4757  Nicole Smolen Kim Baldwin Ariana Stephens Brys...       Jaco Booyens  \n",
              "4758                                                                        \n",
              "4759                                    Tony Oppedisano  Simon Napier-Bell  \n",
              "\n",
              "[4760 rows x 5 columns]"
            ],
            "text/html": [
              "\n",
              "  <div id=\"df-7a4d4dae-dc0f-4750-a34f-5756929333c6\" class=\"colab-df-container\">\n",
              "    <div>\n",
              "<style scoped>\n",
              "    .dataframe tbody tr th:only-of-type {\n",
              "        vertical-align: middle;\n",
              "    }\n",
              "\n",
              "    .dataframe tbody tr th {\n",
              "        vertical-align: top;\n",
              "    }\n",
              "\n",
              "    .dataframe thead th {\n",
              "        text-align: right;\n",
              "    }\n",
              "</style>\n",
              "<table border=\"1\" class=\"dataframe\">\n",
              "  <thead>\n",
              "    <tr style=\"text-align: right;\">\n",
              "      <th></th>\n",
              "      <th>Movie_Genre</th>\n",
              "      <th>Movie_Keywords</th>\n",
              "      <th>Movie_Tagline</th>\n",
              "      <th>Movie_Cast</th>\n",
              "      <th>Movie_Director</th>\n",
              "    </tr>\n",
              "  </thead>\n",
              "  <tbody>\n",
              "    <tr>\n",
              "      <th>0</th>\n",
              "      <td>Crime Comedy</td>\n",
              "      <td>hotel new year's eve witch bet hotel room</td>\n",
              "      <td>Twelve outrageous guests. Four scandalous requ...</td>\n",
              "      <td>Tim Roth Antonio Banderas Jennifer Beals Madon...</td>\n",
              "      <td>Allison Anders</td>\n",
              "    </tr>\n",
              "    <tr>\n",
              "      <th>1</th>\n",
              "      <td>Adventure Action Science Fiction</td>\n",
              "      <td>android galaxy hermit death star lightsaber</td>\n",
              "      <td>A long time ago in a galaxy far, far away...</td>\n",
              "      <td>Mark Hamill Harrison Ford Carrie Fisher Peter ...</td>\n",
              "      <td>George Lucas</td>\n",
              "    </tr>\n",
              "    <tr>\n",
              "      <th>2</th>\n",
              "      <td>Animation Family</td>\n",
              "      <td>father son relationship harbor underwater fish...</td>\n",
              "      <td>There are 3.7 trillion fish in the ocean, they...</td>\n",
              "      <td>Albert Brooks Ellen DeGeneres Alexander Gould ...</td>\n",
              "      <td>Andrew Stanton</td>\n",
              "    </tr>\n",
              "    <tr>\n",
              "      <th>3</th>\n",
              "      <td>Comedy Drama Romance</td>\n",
              "      <td>vietnam veteran hippie mentally disabled runni...</td>\n",
              "      <td>The world will never be the same, once you've ...</td>\n",
              "      <td>Tom Hanks Robin Wright Gary Sinise Mykelti Wil...</td>\n",
              "      <td>Robert Zemeckis</td>\n",
              "    </tr>\n",
              "    <tr>\n",
              "      <th>4</th>\n",
              "      <td>Drama</td>\n",
              "      <td>male nudity female nudity adultery midlife cri...</td>\n",
              "      <td>Look closer.</td>\n",
              "      <td>Kevin Spacey Annette Bening Thora Birch Wes Be...</td>\n",
              "      <td>Sam Mendes</td>\n",
              "    </tr>\n",
              "    <tr>\n",
              "      <th>...</th>\n",
              "      <td>...</td>\n",
              "      <td>...</td>\n",
              "      <td>...</td>\n",
              "      <td>...</td>\n",
              "      <td>...</td>\n",
              "    </tr>\n",
              "    <tr>\n",
              "      <th>4755</th>\n",
              "      <td>Horror</td>\n",
              "      <td></td>\n",
              "      <td>The hot spot where Satan's waitin'.</td>\n",
              "      <td>Lisa Hart Carroll Michael Des Barres Paul Drak...</td>\n",
              "      <td>Pece Dingo</td>\n",
              "    </tr>\n",
              "    <tr>\n",
              "      <th>4756</th>\n",
              "      <td>Comedy Family Drama</td>\n",
              "      <td></td>\n",
              "      <td>It’s better to stand out than to fit in.</td>\n",
              "      <td>Roni Akurati Brighton Sharbino Jason Lee Anjul...</td>\n",
              "      <td>Frank Lotito</td>\n",
              "    </tr>\n",
              "    <tr>\n",
              "      <th>4757</th>\n",
              "      <td>Thriller Drama</td>\n",
              "      <td>christian film sex trafficking</td>\n",
              "      <td>She never knew it could happen to her...</td>\n",
              "      <td>Nicole Smolen Kim Baldwin Ariana Stephens Brys...</td>\n",
              "      <td>Jaco Booyens</td>\n",
              "    </tr>\n",
              "    <tr>\n",
              "      <th>4758</th>\n",
              "      <td>Family</td>\n",
              "      <td></td>\n",
              "      <td></td>\n",
              "      <td></td>\n",
              "      <td></td>\n",
              "    </tr>\n",
              "    <tr>\n",
              "      <th>4759</th>\n",
              "      <td>Documentary</td>\n",
              "      <td>music actors legendary perfomer classic hollyw...</td>\n",
              "      <td></td>\n",
              "      <td>Tony Oppedisano</td>\n",
              "      <td>Simon Napier-Bell</td>\n",
              "    </tr>\n",
              "  </tbody>\n",
              "</table>\n",
              "<p>4760 rows × 5 columns</p>\n",
              "</div>\n",
              "    <div class=\"colab-df-buttons\">\n",
              "\n",
              "  <div class=\"colab-df-container\">\n",
              "    <button class=\"colab-df-convert\" onclick=\"convertToInteractive('df-7a4d4dae-dc0f-4750-a34f-5756929333c6')\"\n",
              "            title=\"Convert this dataframe to an interactive table.\"\n",
              "            style=\"display:none;\">\n",
              "\n",
              "  <svg xmlns=\"http://www.w3.org/2000/svg\" height=\"24px\" viewBox=\"0 -960 960 960\">\n",
              "    <path d=\"M120-120v-720h720v720H120Zm60-500h600v-160H180v160Zm220 220h160v-160H400v160Zm0 220h160v-160H400v160ZM180-400h160v-160H180v160Zm440 0h160v-160H620v160ZM180-180h160v-160H180v160Zm440 0h160v-160H620v160Z\"/>\n",
              "  </svg>\n",
              "    </button>\n",
              "\n",
              "  <style>\n",
              "    .colab-df-container {\n",
              "      display:flex;\n",
              "      gap: 12px;\n",
              "    }\n",
              "\n",
              "    .colab-df-convert {\n",
              "      background-color: #E8F0FE;\n",
              "      border: none;\n",
              "      border-radius: 50%;\n",
              "      cursor: pointer;\n",
              "      display: none;\n",
              "      fill: #1967D2;\n",
              "      height: 32px;\n",
              "      padding: 0 0 0 0;\n",
              "      width: 32px;\n",
              "    }\n",
              "\n",
              "    .colab-df-convert:hover {\n",
              "      background-color: #E2EBFA;\n",
              "      box-shadow: 0px 1px 2px rgba(60, 64, 67, 0.3), 0px 1px 3px 1px rgba(60, 64, 67, 0.15);\n",
              "      fill: #174EA6;\n",
              "    }\n",
              "\n",
              "    .colab-df-buttons div {\n",
              "      margin-bottom: 4px;\n",
              "    }\n",
              "\n",
              "    [theme=dark] .colab-df-convert {\n",
              "      background-color: #3B4455;\n",
              "      fill: #D2E3FC;\n",
              "    }\n",
              "\n",
              "    [theme=dark] .colab-df-convert:hover {\n",
              "      background-color: #434B5C;\n",
              "      box-shadow: 0px 1px 3px 1px rgba(0, 0, 0, 0.15);\n",
              "      filter: drop-shadow(0px 1px 2px rgba(0, 0, 0, 0.3));\n",
              "      fill: #FFFFFF;\n",
              "    }\n",
              "  </style>\n",
              "\n",
              "    <script>\n",
              "      const buttonEl =\n",
              "        document.querySelector('#df-7a4d4dae-dc0f-4750-a34f-5756929333c6 button.colab-df-convert');\n",
              "      buttonEl.style.display =\n",
              "        google.colab.kernel.accessAllowed ? 'block' : 'none';\n",
              "\n",
              "      async function convertToInteractive(key) {\n",
              "        const element = document.querySelector('#df-7a4d4dae-dc0f-4750-a34f-5756929333c6');\n",
              "        const dataTable =\n",
              "          await google.colab.kernel.invokeFunction('convertToInteractive',\n",
              "                                                    [key], {});\n",
              "        if (!dataTable) return;\n",
              "\n",
              "        const docLinkHtml = 'Like what you see? Visit the ' +\n",
              "          '<a target=\"_blank\" href=https://colab.research.google.com/notebooks/data_table.ipynb>data table notebook</a>'\n",
              "          + ' to learn more about interactive tables.';\n",
              "        element.innerHTML = '';\n",
              "        dataTable['output_type'] = 'display_data';\n",
              "        await google.colab.output.renderOutput(dataTable, element);\n",
              "        const docLink = document.createElement('div');\n",
              "        docLink.innerHTML = docLinkHtml;\n",
              "        element.appendChild(docLink);\n",
              "      }\n",
              "    </script>\n",
              "  </div>\n",
              "\n",
              "\n",
              "<div id=\"df-026c092f-1925-4cda-bc0b-a2120b07fa8b\">\n",
              "  <button class=\"colab-df-quickchart\" onclick=\"quickchart('df-026c092f-1925-4cda-bc0b-a2120b07fa8b')\"\n",
              "            title=\"Suggest charts\"\n",
              "            style=\"display:none;\">\n",
              "\n",
              "<svg xmlns=\"http://www.w3.org/2000/svg\" height=\"24px\"viewBox=\"0 0 24 24\"\n",
              "     width=\"24px\">\n",
              "    <g>\n",
              "        <path d=\"M19 3H5c-1.1 0-2 .9-2 2v14c0 1.1.9 2 2 2h14c1.1 0 2-.9 2-2V5c0-1.1-.9-2-2-2zM9 17H7v-7h2v7zm4 0h-2V7h2v10zm4 0h-2v-4h2v4z\"/>\n",
              "    </g>\n",
              "</svg>\n",
              "  </button>\n",
              "\n",
              "<style>\n",
              "  .colab-df-quickchart {\n",
              "      --bg-color: #E8F0FE;\n",
              "      --fill-color: #1967D2;\n",
              "      --hover-bg-color: #E2EBFA;\n",
              "      --hover-fill-color: #174EA6;\n",
              "      --disabled-fill-color: #AAA;\n",
              "      --disabled-bg-color: #DDD;\n",
              "  }\n",
              "\n",
              "  [theme=dark] .colab-df-quickchart {\n",
              "      --bg-color: #3B4455;\n",
              "      --fill-color: #D2E3FC;\n",
              "      --hover-bg-color: #434B5C;\n",
              "      --hover-fill-color: #FFFFFF;\n",
              "      --disabled-bg-color: #3B4455;\n",
              "      --disabled-fill-color: #666;\n",
              "  }\n",
              "\n",
              "  .colab-df-quickchart {\n",
              "    background-color: var(--bg-color);\n",
              "    border: none;\n",
              "    border-radius: 50%;\n",
              "    cursor: pointer;\n",
              "    display: none;\n",
              "    fill: var(--fill-color);\n",
              "    height: 32px;\n",
              "    padding: 0;\n",
              "    width: 32px;\n",
              "  }\n",
              "\n",
              "  .colab-df-quickchart:hover {\n",
              "    background-color: var(--hover-bg-color);\n",
              "    box-shadow: 0 1px 2px rgba(60, 64, 67, 0.3), 0 1px 3px 1px rgba(60, 64, 67, 0.15);\n",
              "    fill: var(--button-hover-fill-color);\n",
              "  }\n",
              "\n",
              "  .colab-df-quickchart-complete:disabled,\n",
              "  .colab-df-quickchart-complete:disabled:hover {\n",
              "    background-color: var(--disabled-bg-color);\n",
              "    fill: var(--disabled-fill-color);\n",
              "    box-shadow: none;\n",
              "  }\n",
              "\n",
              "  .colab-df-spinner {\n",
              "    border: 2px solid var(--fill-color);\n",
              "    border-color: transparent;\n",
              "    border-bottom-color: var(--fill-color);\n",
              "    animation:\n",
              "      spin 1s steps(1) infinite;\n",
              "  }\n",
              "\n",
              "  @keyframes spin {\n",
              "    0% {\n",
              "      border-color: transparent;\n",
              "      border-bottom-color: var(--fill-color);\n",
              "      border-left-color: var(--fill-color);\n",
              "    }\n",
              "    20% {\n",
              "      border-color: transparent;\n",
              "      border-left-color: var(--fill-color);\n",
              "      border-top-color: var(--fill-color);\n",
              "    }\n",
              "    30% {\n",
              "      border-color: transparent;\n",
              "      border-left-color: var(--fill-color);\n",
              "      border-top-color: var(--fill-color);\n",
              "      border-right-color: var(--fill-color);\n",
              "    }\n",
              "    40% {\n",
              "      border-color: transparent;\n",
              "      border-right-color: var(--fill-color);\n",
              "      border-top-color: var(--fill-color);\n",
              "    }\n",
              "    60% {\n",
              "      border-color: transparent;\n",
              "      border-right-color: var(--fill-color);\n",
              "    }\n",
              "    80% {\n",
              "      border-color: transparent;\n",
              "      border-right-color: var(--fill-color);\n",
              "      border-bottom-color: var(--fill-color);\n",
              "    }\n",
              "    90% {\n",
              "      border-color: transparent;\n",
              "      border-bottom-color: var(--fill-color);\n",
              "    }\n",
              "  }\n",
              "</style>\n",
              "\n",
              "  <script>\n",
              "    async function quickchart(key) {\n",
              "      const quickchartButtonEl =\n",
              "        document.querySelector('#' + key + ' button');\n",
              "      quickchartButtonEl.disabled = true;  // To prevent multiple clicks.\n",
              "      quickchartButtonEl.classList.add('colab-df-spinner');\n",
              "      try {\n",
              "        const charts = await google.colab.kernel.invokeFunction(\n",
              "            'suggestCharts', [key], {});\n",
              "      } catch (error) {\n",
              "        console.error('Error during call to suggestCharts:', error);\n",
              "      }\n",
              "      quickchartButtonEl.classList.remove('colab-df-spinner');\n",
              "      quickchartButtonEl.classList.add('colab-df-quickchart-complete');\n",
              "    }\n",
              "    (() => {\n",
              "      let quickchartButtonEl =\n",
              "        document.querySelector('#df-026c092f-1925-4cda-bc0b-a2120b07fa8b button');\n",
              "      quickchartButtonEl.style.display =\n",
              "        google.colab.kernel.accessAllowed ? 'block' : 'none';\n",
              "    })();\n",
              "  </script>\n",
              "</div>\n",
              "\n",
              "  <div id=\"id_6ec4d082-c8bf-44d6-8ed0-7975ef287255\">\n",
              "    <style>\n",
              "      .colab-df-generate {\n",
              "        background-color: #E8F0FE;\n",
              "        border: none;\n",
              "        border-radius: 50%;\n",
              "        cursor: pointer;\n",
              "        display: none;\n",
              "        fill: #1967D2;\n",
              "        height: 32px;\n",
              "        padding: 0 0 0 0;\n",
              "        width: 32px;\n",
              "      }\n",
              "\n",
              "      .colab-df-generate:hover {\n",
              "        background-color: #E2EBFA;\n",
              "        box-shadow: 0px 1px 2px rgba(60, 64, 67, 0.3), 0px 1px 3px 1px rgba(60, 64, 67, 0.15);\n",
              "        fill: #174EA6;\n",
              "      }\n",
              "\n",
              "      [theme=dark] .colab-df-generate {\n",
              "        background-color: #3B4455;\n",
              "        fill: #D2E3FC;\n",
              "      }\n",
              "\n",
              "      [theme=dark] .colab-df-generate:hover {\n",
              "        background-color: #434B5C;\n",
              "        box-shadow: 0px 1px 3px 1px rgba(0, 0, 0, 0.15);\n",
              "        filter: drop-shadow(0px 1px 2px rgba(0, 0, 0, 0.3));\n",
              "        fill: #FFFFFF;\n",
              "      }\n",
              "    </style>\n",
              "    <button class=\"colab-df-generate\" onclick=\"generateWithVariable('df_features')\"\n",
              "            title=\"Generate code using this dataframe.\"\n",
              "            style=\"display:none;\">\n",
              "\n",
              "  <svg xmlns=\"http://www.w3.org/2000/svg\" height=\"24px\"viewBox=\"0 0 24 24\"\n",
              "       width=\"24px\">\n",
              "    <path d=\"M7,19H8.4L18.45,9,17,7.55,7,17.6ZM5,21V16.75L18.45,3.32a2,2,0,0,1,2.83,0l1.4,1.43a1.91,1.91,0,0,1,.58,1.4,1.91,1.91,0,0,1-.58,1.4L9.25,21ZM18.45,9,17,7.55Zm-12,3A5.31,5.31,0,0,0,4.9,8.1,5.31,5.31,0,0,0,1,6.5,5.31,5.31,0,0,0,4.9,4.9,5.31,5.31,0,0,0,6.5,1,5.31,5.31,0,0,0,8.1,4.9,5.31,5.31,0,0,0,12,6.5,5.46,5.46,0,0,0,6.5,12Z\"/>\n",
              "  </svg>\n",
              "    </button>\n",
              "    <script>\n",
              "      (() => {\n",
              "      const buttonEl =\n",
              "        document.querySelector('#id_6ec4d082-c8bf-44d6-8ed0-7975ef287255 button.colab-df-generate');\n",
              "      buttonEl.style.display =\n",
              "        google.colab.kernel.accessAllowed ? 'block' : 'none';\n",
              "\n",
              "      buttonEl.onclick = () => {\n",
              "        google.colab.notebook.generateWithVariable('df_features');\n",
              "      }\n",
              "      })();\n",
              "    </script>\n",
              "  </div>\n",
              "\n",
              "    </div>\n",
              "  </div>\n"
            ],
            "application/vnd.google.colaboratory.intrinsic+json": {
              "type": "dataframe",
              "variable_name": "df_features",
              "summary": "{\n  \"name\": \"df_features\",\n  \"rows\": 4760,\n  \"fields\": [\n    {\n      \"column\": \"Movie_Genre\",\n      \"properties\": {\n        \"dtype\": \"category\",\n        \"num_unique_values\": 1164,\n        \"samples\": [\n          \"Family Animation Adventure\",\n          \"Adventure Science Fiction Action\",\n          \"Action Crime Drama Romance Thriller\"\n        ],\n        \"semantic_type\": \"\",\n        \"description\": \"\"\n      }\n    },\n    {\n      \"column\": \"Movie_Keywords\",\n      \"properties\": {\n        \"dtype\": \"string\",\n        \"num_unique_values\": 4203,\n        \"samples\": [\n          \"canada nazis sequel spin off ancient evil\",\n          \"sex professor wedding woman director columbia university\",\n          \"prophecy sea beach gold small town\"\n        ],\n        \"semantic_type\": \"\",\n        \"description\": \"\"\n      }\n    },\n    {\n      \"column\": \"Movie_Tagline\",\n      \"properties\": {\n        \"dtype\": \"string\",\n        \"num_unique_values\": 3928,\n        \"samples\": [\n          \"The messenger must be silenced.\",\n          \"It's not the house that's haunted.\",\n          \"The final hunt begins.\"\n        ],\n        \"semantic_type\": \"\",\n        \"description\": \"\"\n      }\n    },\n    {\n      \"column\": \"Movie_Cast\",\n      \"properties\": {\n        \"dtype\": \"string\",\n        \"num_unique_values\": 4715,\n        \"samples\": [\n          \"Robin Tunney Fairuza Balk Neve Campbell Rachel True Skeet Ulrich\",\n          \"Peter Sellers Christopher Plummer Herbert Lom Catherine Schell Peter Arne\",\n          \"John Wayne Laraine Day Cedric Hardwicke Judith Anderson Anthony Quinn\"\n        ],\n        \"semantic_type\": \"\",\n        \"description\": \"\"\n      }\n    },\n    {\n      \"column\": \"Movie_Director\",\n      \"properties\": {\n        \"dtype\": \"category\",\n        \"num_unique_values\": 2332,\n        \"samples\": [\n          \"Rob McKittrick\",\n          \"Terron R. Parsons\",\n          \"Cyrus Nowrasteh\"\n        ],\n        \"semantic_type\": \"\",\n        \"description\": \"\"\n      }\n    }\n  ]\n}"
            }
          },
          "metadata": {},
          "execution_count": 14
        }
      ]
    },
    {
      "cell_type": "code",
      "source": [
        "X= df_features['Movie_Genre']+' '+df_features['Movie_Keywords']+' '+df_features['Movie_Tagline']+' '+df_features['Movie_Genre']+' '+df_features['Movie_Director']"
      ],
      "metadata": {
        "id": "ecDXfwRN4w5w"
      },
      "execution_count": null,
      "outputs": []
    },
    {
      "cell_type": "code",
      "source": [
        "X"
      ],
      "metadata": {
        "colab": {
          "base_uri": "https://localhost:8080/"
        },
        "id": "DqmLU1pH43BQ",
        "outputId": "79de8128-63b4-41be-9ba5-4faf473e8ffd"
      },
      "execution_count": null,
      "outputs": [
        {
          "output_type": "execute_result",
          "data": {
            "text/plain": [
              "0       Crime Comedy hotel new year's eve witch bet ho...\n",
              "1       Adventure Action Science Fiction android galax...\n",
              "2       Animation Family father son relationship harbo...\n",
              "3       Comedy Drama Romance vietnam veteran hippie me...\n",
              "4       Drama male nudity female nudity adultery midli...\n",
              "                              ...                        \n",
              "4755    Horror  The hot spot where Satan's waitin'. Ho...\n",
              "4756    Comedy Family Drama  It’s better to stand out ...\n",
              "4757    Thriller Drama christian film sex trafficking ...\n",
              "4758                                     Family   Family \n",
              "4759    Documentary music actors legendary perfomer cl...\n",
              "Length: 4760, dtype: object"
            ]
          },
          "metadata": {},
          "execution_count": 16
        }
      ]
    },
    {
      "cell_type": "code",
      "source": [
        "X.shape"
      ],
      "metadata": {
        "colab": {
          "base_uri": "https://localhost:8080/"
        },
        "id": "TMDE-NBt5Fsh",
        "outputId": "1ebd60b2-6a69-4b9b-8f33-13faad81f500"
      },
      "execution_count": null,
      "outputs": [
        {
          "output_type": "execute_result",
          "data": {
            "text/plain": [
              "(4760,)"
            ]
          },
          "metadata": {},
          "execution_count": 17
        }
      ]
    },
    {
      "cell_type": "markdown",
      "source": [
        "**GET FEATURE TEXT CONVERSION TO TOKENS**"
      ],
      "metadata": {
        "id": "IPQg_Z4i5acy"
      }
    },
    {
      "cell_type": "code",
      "source": [
        "from sklearn.feature_extraction.text import TfidfVectorizer"
      ],
      "metadata": {
        "id": "MHzlQQE-5fsv"
      },
      "execution_count": null,
      "outputs": []
    },
    {
      "cell_type": "code",
      "source": [
        "tfidf = TfidfVectorizer()"
      ],
      "metadata": {
        "id": "k4m64gaw5krJ"
      },
      "execution_count": null,
      "outputs": []
    },
    {
      "cell_type": "code",
      "source": [
        "X = tfidf.fit_transform (X)"
      ],
      "metadata": {
        "id": "9sFPiAOP5o0g"
      },
      "execution_count": null,
      "outputs": []
    },
    {
      "cell_type": "code",
      "source": [
        "X.shape"
      ],
      "metadata": {
        "colab": {
          "base_uri": "https://localhost:8080/"
        },
        "id": "KaAd9yQW5sxI",
        "outputId": "b19a5cf5-492c-43f7-817d-951970fb7dc7"
      },
      "execution_count": null,
      "outputs": [
        {
          "output_type": "execute_result",
          "data": {
            "text/plain": [
              "(4760, 9666)"
            ]
          },
          "metadata": {},
          "execution_count": 21
        }
      ]
    },
    {
      "cell_type": "code",
      "source": [
        "print(X)"
      ],
      "metadata": {
        "colab": {
          "base_uri": "https://localhost:8080/"
        },
        "id": "w5lqHohO5xBj",
        "outputId": "4d9b6133-5bcd-42aa-cc09-0d57d65b078b"
      },
      "execution_count": null,
      "outputs": [
        {
          "output_type": "stream",
          "name": "stdout",
          "text": [
            "  (0, 376)\t0.1807551294723682\n",
            "  (0, 316)\t0.19420226475577484\n",
            "  (0, 5024)\t0.0927225718914691\n",
            "  (0, 6094)\t0.06688778947042792\n",
            "  (0, 9426)\t0.18884029751533624\n",
            "  (0, 3256)\t0.09202853872724187\n",
            "  (0, 9401)\t0.11434747351301927\n",
            "  (0, 4521)\t0.14277812727362033\n",
            "  (0, 8543)\t0.10536087892807171\n",
            "  (0, 6131)\t0.07784753769723718\n",
            "  (0, 2203)\t0.13604268748279785\n",
            "  (0, 3175)\t0.12251938976522717\n",
            "  (0, 4023)\t0.21203233052073792\n",
            "  (0, 4253)\t0.15772806243584916\n",
            "  (0, 866)\t0.2108580562992705\n",
            "  (0, 5106)\t0.16780345973950567\n",
            "  (0, 6133)\t0.08838557558505751\n",
            "  (0, 374)\t0.0817499543108602\n",
            "  (0, 7062)\t0.2108580562992705\n",
            "  (0, 7448)\t0.2108580562992705\n",
            "  (0, 3296)\t0.15676125268696992\n",
            "  (0, 3724)\t0.20111504282649703\n",
            "  (0, 6209)\t0.20111504282649703\n",
            "  (0, 8864)\t0.18884029751533624\n",
            "  (0, 7244)\t0.15676125268696992\n",
            "  :\t:\n",
            "  (4757, 1975)\t0.2616277457576383\n",
            "  (4757, 3821)\t0.28612090557592007\n",
            "  (4757, 7673)\t0.21621279135254268\n",
            "  (4757, 7622)\t0.19644920594890583\n",
            "  (4757, 3145)\t0.16409379872012464\n",
            "  (4757, 4761)\t0.3090031728525546\n",
            "  (4757, 3948)\t0.22508974374683144\n",
            "  (4757, 8597)\t0.2011022383656284\n",
            "  (4757, 8644)\t0.1281372388499967\n",
            "  (4757, 4404)\t0.15079892778318707\n",
            "  (4757, 5939)\t0.19108911897803996\n",
            "  (4757, 2565)\t0.1491066289949531\n",
            "  (4758, 3012)\t1.0\n",
            "  (4759, 5864)\t0.3317983103707592\n",
            "  (4759, 7786)\t0.3317983103707592\n",
            "  (4759, 6411)\t0.3317983103707592\n",
            "  (4759, 166)\t0.31646707064996044\n",
            "  (4759, 4946)\t0.29715199288649047\n",
            "  (4759, 1692)\t0.27492690351604027\n",
            "  (4759, 865)\t0.2844294764088037\n",
            "  (4759, 4053)\t0.25822054899568236\n",
            "  (4759, 7777)\t0.2428893092748836\n",
            "  (4759, 2500)\t0.35784903876158974\n",
            "  (4759, 3313)\t0.21668038186176225\n",
            "  (4759, 5811)\t0.1552887947858099\n"
          ]
        }
      ]
    },
    {
      "cell_type": "markdown",
      "source": [
        "**GET SIMILARITY SCORE USING COSINE SIMILARITY**"
      ],
      "metadata": {
        "id": "OzmU4V0z524d"
      }
    },
    {
      "cell_type": "markdown",
      "source": [
        "cosine_similarity computes the L2- normalized dot products of vectors.Eulidean (L2)normalization projects the vectors onto the unit sphere and their dot product is then the cosine of the angle between the points denoted by the vectors."
      ],
      "metadata": {
        "id": "RPqVYf8e5837"
      }
    },
    {
      "cell_type": "code",
      "source": [
        "from sklearn.metrics.pairwise import cosine_similarity"
      ],
      "metadata": {
        "id": "0QS1KcPv6LbM"
      },
      "execution_count": null,
      "outputs": []
    },
    {
      "cell_type": "code",
      "source": [
        "Similarity_Score = cosine_similarity(X)"
      ],
      "metadata": {
        "id": "tP1RIRkP6a8I"
      },
      "execution_count": null,
      "outputs": []
    },
    {
      "cell_type": "code",
      "source": [
        "Similarity_Score"
      ],
      "metadata": {
        "colab": {
          "base_uri": "https://localhost:8080/"
        },
        "id": "mdemBiuk6eYY",
        "outputId": "3738b078-601a-4d0b-dcdf-376992bf4f90"
      },
      "execution_count": null,
      "outputs": [
        {
          "output_type": "execute_result",
          "data": {
            "text/plain": [
              "array([[1.        , 0.01617779, 0.04371226, ..., 0.        , 0.        ,\n",
              "        0.        ],\n",
              "       [0.01617779, 1.        , 0.01031735, ..., 0.        , 0.        ,\n",
              "        0.        ],\n",
              "       [0.04371226, 0.01031735, 1.        , ..., 0.        , 0.18316985,\n",
              "        0.        ],\n",
              "       ...,\n",
              "       [0.        , 0.        , 0.        , ..., 1.        , 0.        ,\n",
              "        0.        ],\n",
              "       [0.        , 0.        , 0.18316985, ..., 0.        , 1.        ,\n",
              "        0.        ],\n",
              "       [0.        , 0.        , 0.        , ..., 0.        , 0.        ,\n",
              "        1.        ]])"
            ]
          },
          "metadata": {},
          "execution_count": 25
        }
      ]
    },
    {
      "cell_type": "code",
      "source": [
        "Similarity_Score.shape"
      ],
      "metadata": {
        "colab": {
          "base_uri": "https://localhost:8080/"
        },
        "id": "wMQWHinn6kCJ",
        "outputId": "3ce19522-dd5f-4cd4-a6b6-e282c0c79a75"
      },
      "execution_count": null,
      "outputs": [
        {
          "output_type": "execute_result",
          "data": {
            "text/plain": [
              "(4760, 4760)"
            ]
          },
          "metadata": {},
          "execution_count": 26
        }
      ]
    },
    {
      "cell_type": "markdown",
      "source": [
        "**GET MOVIE NAME AS INPUT FROM USER AND VALIDATE FOR CLOSEST SPELLING**"
      ],
      "metadata": {
        "id": "Mr-1G78t6oMP"
      }
    },
    {
      "cell_type": "code",
      "source": [
        "Favourite_Movie_Name= input('Enter your favourite movie name:')"
      ],
      "metadata": {
        "colab": {
          "base_uri": "https://localhost:8080/"
        },
        "id": "vHdkjCXI6t_W",
        "outputId": "ff4bde0f-7391-454d-a2ad-8b77daa19297"
      },
      "execution_count": null,
      "outputs": [
        {
          "name": "stdout",
          "output_type": "stream",
          "text": [
            "Enter your favourite movie name:avtaar\n"
          ]
        }
      ]
    },
    {
      "cell_type": "code",
      "source": [
        "list_of_all_titles = df['Movie_Title'].tolist()"
      ],
      "metadata": {
        "id": "iQeO-yPT69PD"
      },
      "execution_count": null,
      "outputs": []
    },
    {
      "cell_type": "code",
      "source": [
        "import difflib"
      ],
      "metadata": {
        "id": "qhFt4Kbm7DBw"
      },
      "execution_count": null,
      "outputs": []
    },
    {
      "cell_type": "code",
      "source": [
        "Movie_Recommendation = difflib.get_close_matches(Favourite_Movie_Name,list_of_all_titles)\n",
        "print(Movie_Recommendation)"
      ],
      "metadata": {
        "colab": {
          "base_uri": "https://localhost:8080/"
        },
        "id": "ej8Gt32o7Hhe",
        "outputId": "0b604db6-b072-4108-cc14-485ccf79d1b7"
      },
      "execution_count": null,
      "outputs": [
        {
          "output_type": "stream",
          "name": "stdout",
          "text": [
            "['Avatar', 'Gattaca']\n"
          ]
        }
      ]
    },
    {
      "cell_type": "code",
      "source": [
        "Close_Match = Movie_Recommendation[0]\n",
        "print(Close_Match)"
      ],
      "metadata": {
        "colab": {
          "base_uri": "https://localhost:8080/"
        },
        "id": "MKMsmctw7L-U",
        "outputId": "70589a2d-333a-4f6e-9692-3ca883e4f072"
      },
      "execution_count": null,
      "outputs": [
        {
          "output_type": "stream",
          "name": "stdout",
          "text": [
            "Avatar\n"
          ]
        }
      ]
    },
    {
      "cell_type": "code",
      "source": [
        "Index_of_Close_Match_Movie= df[df.  Movie_Title==Close_Match]['Movie_ID'].values[0]\n",
        "print(Index_of_Close_Match_Movie)"
      ],
      "metadata": {
        "colab": {
          "base_uri": "https://localhost:8080/"
        },
        "id": "E-aQjQWbVMUI",
        "outputId": "1e79e0f6-eeff-4053-bc65-5037c0414513"
      },
      "execution_count": null,
      "outputs": [
        {
          "output_type": "stream",
          "name": "stdout",
          "text": [
            "2692\n"
          ]
        }
      ]
    },
    {
      "cell_type": "code",
      "source": [
        "Recommendation_Score = list(enumerate(Similarity_Score[Index_of_Close_Match_Movie]))\n",
        "print(Recommendation_Score)"
      ],
      "metadata": {
        "colab": {
          "base_uri": "https://localhost:8080/"
        },
        "id": "i1LGlHGcVRIb",
        "outputId": "d34e3a7d-17b3-4a7a-a57f-ca09d3c73462"
      },
      "execution_count": null,
      "outputs": [
        {
          "output_type": "stream",
          "name": "stdout",
          "text": [
            "[(0, 0.03150934308063444), (1, 0.0), (2, 0.0), (3, 0.01970533578072717), (4, 0.016925557382750943), (5, 0.05503146330879963), (6, 0.026256388490951736), (7, 0.02805557684529379), (8, 0.01720857127364171), (9, 0.00838926686957532), (10, 0.04575092424353888), (11, 0.013884561360317162), (12, 0.01604005646325838), (13, 0.01836023824896064), (14, 0.0), (15, 0.03861675643371451), (16, 0.04064561718420117), (17, 0.0), (18, 0.07632875847203766), (19, 0.015545919263678053), (20, 0.015815358685456065), (21, 0.09597553344245065), (22, 0.009189750032721256), (23, 0.014422437577146778), (24, 0.008795013903124824), (25, 0.018815205277910422), (26, 0.015321195632832359), (27, 0.02680427165409224), (28, 0.0), (29, 0.04794289044487441), (30, 0.02800155864955455), (31, 0.03687143875564605), (32, 0.022825190439142835), (33, 0.0425939912943089), (34, 0.04605181732683264), (35, 0.008312737369191829), (36, 0.0), (37, 0.0), (38, 0.04842717963368287), (39, 0.024680888949131657), (40, 0.057303262363750856), (41, 0.016317444288092262), (42, 0.043579899259033876), (43, 0.05784055117235776), (44, 0.08614348641841393), (45, 0.11500457722859034), (46, 0.044266594475960194), (47, 0.056502663192498165), (48, 0.09207443384473242), (49, 0.0), (50, 0.03807951932743132), (51, 0.08746490577362842), (52, 0.07149554839065805), (53, 0.0), (54, 0.0), (55, 0.0), (56, 0.009423722670992514), (57, 0.016902663317955875), (58, 0.0), (59, 0.0), (60, 0.019692025903794076), (61, 0.03575578671762167), (62, 0.10818994474954328), (63, 0.020939718844581297), (64, 0.0), (65, 0.04273958165098747), (66, 0.015457353868552544), (67, 0.07585038220009926), (68, 0.10349377994248396), (69, 0.03439391063746033), (70, 0.07308487770239999), (71, 0.014693618783213055), (72, 0.06258929471724434), (73, 0.0), (74, 0.01622004584383629), (75, 0.01845061919990391), (76, 0.021113469663205233), (77, 0.017974517388805233), (78, 0.02843344891861359), (79, 0.022918748354198156), (80, 0.022319798543944176), (81, 0.03876843734241148), (82, 0.022980106527275362), (83, 0.08097756277331303), (84, 0.06614570594849284), (85, 0.058252851748424865), (86, 0.039547025063874294), (87, 0.07235383895785263), (88, 0.06771106439658423), (89, 0.080982994014024), (90, 0.024367170450595332), (91, 0.0), (92, 0.012709159205582092), (93, 0.026543901650582562), (94, 0.02482347943186564), (95, 0.026156692022480627), (96, 0.04924215167810974), (97, 0.012102030056946267), (98, 0.014353382834027146), (99, 0.057508700280877886), (100, 0.0), (101, 0.0), (102, 0.028516392110514575), (103, 0.01459500016768261), (104, 0.023844530609023737), (105, 0.061601056029363103), (106, 0.0522493419493298), (107, 0.04658464751536827), (108, 0.07901725453357368), (109, 0.10397085759266633), (110, 0.0), (111, 0.04787711925242784), (112, 0.108066823514791), (113, 0.0178869107633721), (114, 0.014241446607382476), (115, 0.01527894280504918), (116, 0.0597917329587343), (117, 0.0), (118, 0.02924409561663071), (119, 0.022277209648953956), (120, 0.06089305958096932), (121, 0.013105885063758623), (122, 0.01791442491077127), (123, 0.07866279364018151), (124, 0.08888489683697753), (125, 0.041742433213144504), (126, 0.09040951483185067), (127, 0.013857747418733092), (128, 0.027640803082054643), (129, 0.009166019102850887), (130, 0.01715691050592458), (131, 0.009192004752338273), (132, 0.013759415604102376), (133, 0.0), (134, 0.0), (135, 0.02605445986697972), (136, 0.01287069374088764), (137, 0.12567056517202965), (138, 0.06759402923558598), (139, 0.05167930484904762), (140, 0.018032342009032875), (141, 0.0), (142, 0.06344054604014343), (143, 0.04446238826126877), (144, 0.06877581080722286), (145, 0.08619395783776825), (146, 0.0), (147, 0.07236504730564322), (148, 0.05758711274779209), (149, 0.08359164860579903), (150, 0.0), (151, 0.0), (152, 0.023996312865024228), (153, 0.0), (154, 0.012690977245471028), (155, 0.006459866589873309), (156, 0.02005213242399164), (157, 0.019702124480872944), (158, 0.013574754017473638), (159, 0.02086223103035073), (160, 0.04179205290201579), (161, 0.028039488550559724), (162, 0.021999447703303303), (163, 0.0), (164, 0.024683190562558993), (165, 0.013462911423073832), (166, 0.10012484202808328), (167, 0.013768367424023716), (168, 0.007585077794838965), (169, 0.01482048907260571), (170, 0.061881376784733655), (171, 0.0), (172, 0.11640378935863749), (173, 0.06896508850321054), (174, 0.026665139838462415), (175, 0.042286111363238954), (176, 0.017872073203470073), (177, 0.008340869967913136), (178, 0.015048606747195542), (179, 0.045055962160490584), (180, 0.04134756091417168), (181, 0.057859662134470614), (182, 0.023348980751764826), (183, 0.02193610507805388), (184, 0.011718399817902962), (185, 0.008198988764873592), (186, 0.0), (187, 0.022588495315366657), (188, 0.0), (189, 0.027440257162445657), (190, 0.0822178670500425), (191, 0.022730361945520552), (192, 0.016521232674085142), (193, 0.05089198198781292), (194, 0.010936724079124282), (195, 0.012751210486915389), (196, 0.011914422848611942), (197, 0.02649375303353449), (198, 0.015049318628938246), (199, 0.082097198047617), (200, 0.03652339412271968), (201, 0.06874729029759102), (202, 0.009237679201676532), (203, 0.033887745196109875), (204, 0.0363290558510293), (205, 0.0), (206, 0.05627826125038602), (207, 0.07552855926845967), (208, 0.055576906573708486), (209, 0.06743857859627642), (210, 0.10627382119109138), (211, 0.01563021393722075), (212, 0.03318279771183341), (213, 0.08209460643314252), (214, 0.0), (215, 0.012838857834605887), (216, 0.05641529495054323), (217, 0.03667927171019877), (218, 0.03058954894247069), (219, 0.0), (220, 0.029443054064979254), (221, 0.014289808009048409), (222, 0.04907526124179511), (223, 0.0), (224, 0.032720115346725545), (225, 0.0), (226, 0.016175968778341553), (227, 0.09339383895297035), (228, 0.009825891811177063), (229, 0.01412262763944745), (230, 0.008952122198336146), (231, 0.019647639157682344), (232, 0.010458490661845307), (233, 0.027892706205597077), (234, 0.02195489292631259), (235, 0.016174490455762233), (236, 0.07659048983485578), (237, 0.0), (238, 0.040862406567457), (239, 0.02778378447339624), (240, 0.0243649871565003), (241, 0.026995039381462974), (242, 0.021728024518972884), (243, 0.034599665408496655), (244, 0.06319784624889518), (245, 0.0), (246, 0.015406700656074145), (247, 0.014314997947086945), (248, 0.008789080166246322), (249, 0.012391548837106074), (250, 0.029918116792888343), (251, 0.0526317875365246), (252, 0.033191564575826685), (253, 0.01761587461018903), (254, 0.06782721937657354), (255, 0.04287544606391058), (256, 0.04369795601344612), (257, 0.0), (258, 0.0), (259, 0.0), (260, 0.02531649816583256), (261, 0.04900981298204578), (262, 0.01777768586485337), (263, 0.008295271555377482), (264, 0.0), (265, 0.0), (266, 0.03633596802392103), (267, 0.012762019627573971), (268, 0.013953041179372504), (269, 0.040661541996582055), (270, 0.05686181573521792), (271, 0.035705659612657016), (272, 0.0), (273, 0.03526246598768101), (274, 0.07108400508643768), (275, 0.0), (276, 0.0737321365172447), (277, 0.05892086943734433), (278, 0.011346954014374694), (279, 0.03286453518879531), (280, 0.06401669068735835), (281, 0.06795781842664163), (282, 0.07963480701349654), (283, 0.015424549851214867), (284, 0.025285539363364088), (285, 0.04882983773887624), (286, 0.011193580562397935), (287, 0.06256387231743013), (288, 0.03195887637665706), (289, 0.02154671927843574), (290, 0.022916340246876738), (291, 0.06067911989862315), (292, 0.0847997537355994), (293, 0.011604014520658946), (294, 0.021747916837450986), (295, 0.022112788364656535), (296, 0.04986169515639369), (297, 0.0), (298, 0.0), (299, 0.0), (300, 0.008418455712959306), (301, 0.009390594535691694), (302, 0.0), (303, 0.027857034853753924), (304, 0.05816607859759933), (305, 0.0261525906517484), (306, 0.024388110027995152), (307, 0.020123556693097074), (308, 0.016917805458651184), (309, 0.019241469862817488), (310, 0.026038504576621352), (311, 0.03904565577892866), (312, 0.0), (313, 0.037851570766201464), (314, 0.021284965528469212), (315, 0.027487523384574213), (316, 0.02575864837891081), (317, 0.029114584657426064), (318, 0.016757072708447465), (319, 0.0), (320, 0.026704730426731563), (321, 0.03866035972678472), (322, 0.03697054925085439), (323, 0.022398546921701686), (324, 0.01326202250494967), (325, 0.013332129198396762), (326, 0.019797082239338154), (327, 0.03093517985752387), (328, 0.05999849930287081), (329, 0.05717673398573841), (330, 0.032711305376708716), (331, 0.0), (332, 0.03079036924952933), (333, 0.05464053556541118), (334, 0.08734538042652538), (335, 0.0), (336, 0.006759262989247388), (337, 0.0), (338, 0.0), (339, 0.0), (340, 0.009910748376285186), (341, 0.03851791201258675), (342, 0.07387652303481868), (343, 0.03289951185516087), (344, 0.0), (345, 0.06108574606459004), (346, 0.02348457386940712), (347, 0.024901016453733334), (348, 0.014238663185834834), (349, 0.01292579484183051), (350, 0.04393383788641102), (351, 0.010257537063288462), (352, 0.0), (353, 0.022234527551247427), (354, 0.03290450537813715), (355, 0.013097271851897997), (356, 0.047979367648040616), (357, 0.012409619569087158), (358, 0.03548175224788141), (359, 0.013073372454943083), (360, 0.09829896098588006), (361, 0.0), (362, 0.0), (363, 0.00936070020930206), (364, 0.03311369182286369), (365, 0.0), (366, 0.0), (367, 0.035895357121830486), (368, 0.04618556868186595), (369, 0.02823827920886066), (370, 0.07857234080577098), (371, 0.07215653013946034), (372, 0.014127541655376837), (373, 0.012420178601157236), (374, 0.031471005425604597), (375, 0.025132506511998533), (376, 0.0), (377, 0.01533747923942409), (378, 0.01596232801009436), (379, 0.0), (380, 0.0307810395686282), (381, 0.03526930784174328), (382, 0.0), (383, 0.0), (384, 0.0), (385, 0.042968350340634114), (386, 0.009066947724167536), (387, 0.049877112551279856), (388, 0.01355115542661874), (389, 0.02642564259775561), (390, 0.0), (391, 0.0), (392, 0.0), (393, 0.0), (394, 0.0), (395, 0.016338359737447922), (396, 0.06309639273670073), (397, 0.023077426015423997), (398, 0.0), (399, 0.014650436316684952), (400, 0.01505782968561923), (401, 0.0), (402, 0.03282411132053055), (403, 0.02045883115381812), (404, 0.0), (405, 0.0), (406, 0.06439309444478411), (407, 0.024933035851740046), (408, 0.050685014174615774), (409, 0.022805044330792668), (410, 0.012916404333231487), (411, 0.0), (412, 0.07075227302310494), (413, 0.009492859265712335), (414, 0.0066366171097639315), (415, 0.0), (416, 0.012992280432002736), (417, 0.057371650690960896), (418, 0.0687488407081558), (419, 0.01598802376163707), (420, 0.030366862177421846), (421, 0.0), (422, 0.019367086225915226), (423, 0.0), (424, 0.03158312879621628), (425, 0.031341913764132125), (426, 0.024119642514644976), (427, 0.0), (428, 0.021752228397992974), (429, 0.09580869261423858), (430, 0.014918073089139108), (431, 0.01893404248547962), (432, 0.011725470726976052), (433, 0.04501892023335548), (434, 0.03280606714224084), (435, 0.05436718094429077), (436, 0.04510859471938235), (437, 0.037838931434703724), (438, 0.07409625386462676), (439, 0.0), (440, 0.0), (441, 0.019112451757433802), (442, 0.05676908536739509), (443, 0.0473658482912823), (444, 0.017388093600552726), (445, 0.02188200804481788), (446, 0.025746845308857395), (447, 0.08339845383492556), (448, 0.016466468468152223), (449, 0.02375295219303045), (450, 0.10287085528419085), (451, 0.025189007682196844), (452, 0.0248860684695041), (453, 0.013931583629961533), (454, 0.0), (455, 0.037067522270233466), (456, 0.014456696027609253), (457, 0.012793026903144107), (458, 0.0957415767103256), (459, 0.0), (460, 0.024622540231241528), (461, 0.023177621293987268), (462, 0.0), (463, 0.07925877806260756), (464, 0.028399101888786644), (465, 0.052238340229819026), (466, 0.016005306714981883), (467, 0.02535219732880098), (468, 0.03193773347072751), (469, 0.02178805471567084), (470, 0.05940841751065976), (471, 0.014730895795155451), (472, 0.023639647827143243), (473, 0.01615548445597424), (474, 0.04130687926850661), (475, 0.007180747415211424), (476, 0.01755862230836283), (477, 0.007150403170161928), (478, 0.02077910658313387), (479, 0.06012214814494628), (480, 0.013447191348568206), (481, 0.08829932252721556), (482, 0.054181083454053626), (483, 0.06356839270341451), (484, 0.0), (485, 0.062001910343146005), (486, 0.0), (487, 0.019335859355903182), (488, 0.015131965770165567), (489, 0.01940229673463085), (490, 0.014393097196757867), (491, 0.0), (492, 0.0), (493, 0.043383979089135036), (494, 0.04064297985057464), (495, 0.014064806096675224), (496, 0.025795405977968786), (497, 0.018262506175004127), (498, 0.0), (499, 0.016409663659913535), (500, 0.06319417832699947), (501, 0.05612561663009901), (502, 0.08309472094439452), (503, 0.04074604836330642), (504, 0.015717783523272643), (505, 0.014285784834248657), (506, 0.0), (507, 0.013719381433795396), (508, 0.019035903101007185), (509, 0.03859382256103309), (510, 0.029312371210490337), (511, 0.03805083607269279), (512, 0.031577644084237855), (513, 0.029738935541436435), (514, 0.03343593358176906), (515, 0.06576070041571926), (516, 0.0), (517, 0.0), (518, 0.020240380299434042), (519, 0.07150353671435608), (520, 0.0), (521, 0.008238190556806711), (522, 0.013702706660989963), (523, 0.038563059208270786), (524, 0.01324768669451919), (525, 0.0), (526, 0.02384223254666017), (527, 0.02813960290588058), (528, 0.0), (529, 0.0), (530, 0.08952206918330402), (531, 0.0), (532, 0.05999542252246299), (533, 0.09924128774432656), (534, 0.08253405075738311), (535, 0.0), (536, 0.0), (537, 0.03999592656031966), (538, 0.014131732780943347), (539, 0.036814632512744805), (540, 0.06467571460202623), (541, 0.013919280958065742), (542, 0.0500117519612964), (543, 0.08192827931584573), (544, 0.05590105700258585), (545, 0.01844040883606294), (546, 0.0), (547, 0.05710586585661314), (548, 0.0), (549, 0.0), (550, 0.02757188579140723), (551, 0.033567434542849536), (552, 0.0), (553, 0.023722227732677324), (554, 0.0), (555, 0.014840686982086872), (556, 0.0), (557, 0.0), (558, 0.05473423355419926), (559, 0.02530353980284247), (560, 0.06380439995052718), (561, 0.0065677500546925454), (562, 0.028539952653535948), (563, 0.03439514494447046), (564, 0.015804912365653557), (565, 0.0), (566, 0.05926831383127454), (567, 0.0), (568, 0.008910104547057124), (569, 0.0), (570, 0.0), (571, 0.028545734478310214), (572, 0.0), (573, 0.0), (574, 0.0), (575, 0.0), (576, 0.015074897146189354), (577, 0.0), (578, 0.057397460375606196), (579, 0.01639258651773867), (580, 0.04217191111730896), (581, 0.035061190290162636), (582, 0.010737200487973194), (583, 0.008363647752570142), (584, 0.08887274018266397), (585, 0.0), (586, 0.020742083448093744), (587, 0.01811081709715784), (588, 0.015135821909368595), (589, 0.012847448413637863), (590, 0.11163455581360363), (591, 0.0), (592, 0.0), (593, 0.015149756417304304), (594, 0.012800712723378231), (595, 0.03145469379465596), (596, 0.017309778161223775), (597, 0.02252870742566182), (598, 0.0129685121060049), (599, 0.0), (600, 0.009568432208603681), (601, 0.0), (602, 0.0), (603, 0.0), (604, 0.07743842887290302), (605, 0.012406375232712144), (606, 0.039358565589717315), (607, 0.011133610973664306), (608, 0.03874582961727279), (609, 0.025436112701061345), (610, 0.0), (611, 0.0197575612364411), (612, 0.015815950931252837), (613, 0.04106311336177119), (614, 0.016038397648321313), (615, 0.0095187052456213), (616, 0.01942147169233456), (617, 0.031999536773017076), (618, 0.008734801545122508), (619, 0.024536063177245795), (620, 0.03196395769232551), (621, 0.05598294375465783), (622, 0.08177390528013323), (623, 0.016132738961470584), (624, 0.0160177681711466), (625, 0.021671567396802222), (626, 0.011289428318982081), (627, 0.016820257262645702), (628, 0.14873417774566283), (629, 0.08321477529551843), (630, 0.0), (631, 0.023436890404375858), (632, 0.03562953378842249), (633, 0.025608874829579253), (634, 0.02837902492486335), (635, 0.03958579110401792), (636, 0.03986176925422285), (637, 0.04758264826689913), (638, 0.032217673988762616), (639, 0.020000711611659665), (640, 0.02006697520318897), (641, 0.018287490188651327), (642, 0.0335964532526018), (643, 0.08449534668082984), (644, 0.0461084700081566), (645, 0.01393280070831218), (646, 0.016140574403662417), (647, 0.013845831041893722), (648, 0.017393574915718017), (649, 0.0), (650, 0.0), (651, 0.02310691090307582), (652, 0.07714594501909922), (653, 0.064831682563853), (654, 0.07076403719356524), (655, 0.01432119876619141), (656, 0.0), (657, 0.04259339114122426), (658, 0.0), (659, 0.013393888596104632), (660, 0.04234627357778002), (661, 0.023252998780452026), (662, 0.0), (663, 0.0), (664, 0.04197832480982338), (665, 0.0), (666, 0.028635440123717534), (667, 0.07347836985570985), (668, 0.04822766433033198), (669, 0.08248301633983077), (670, 0.08122152145634129), (671, 0.010144088667725296), (672, 0.013756676142349324), (673, 0.09023837786091059), (674, 0.0), (675, 0.1643156155837011), (676, 0.07279344418795175), (677, 0.024235358225982613), (678, 0.07322751431481968), (679, 0.0), (680, 0.015271483249145146), (681, 0.0), (682, 0.08658366874673197), (683, 0.06335744924039065), (684, 0.04228597689967765), (685, 0.028338951122491695), (686, 0.0), (687, 0.032055519070902254), (688, 0.047297350553827014), (689, 0.06569385546033618), (690, 0.023298900828964818), (691, 0.040307015456737386), (692, 0.061793992024709414), (693, 0.015688718664175934), (694, 0.08469959765793829), (695, 0.06924625553046346), (696, 0.04075109932123889), (697, 0.024399089311732174), (698, 0.013792361030121287), (699, 0.0), (700, 0.0), (701, 0.09331449076754267), (702, 0.0), (703, 0.01160494807526148), (704, 0.0), (705, 0.020134396173281843), (706, 0.03886145088665703), (707, 0.01295517130059705), (708, 0.0), (709, 0.0), (710, 0.0487694023447673), (711, 0.0), (712, 0.011873777667016435), (713, 0.0), (714, 0.0), (715, 0.02765538171638935), (716, 0.041585067302076784), (717, 0.016824481424456354), (718, 0.0), (719, 0.03898868105291788), (720, 0.0), (721, 0.020491906108004467), (722, 0.013874658840358805), (723, 0.020760743664009502), (724, 0.0), (725, 0.0), (726, 0.0), (727, 0.03797170103180639), (728, 0.045883516529114855), (729, 0.044756616441198466), (730, 0.0), (731, 0.013410136053414148), (732, 0.04382824476760608), (733, 0.05292332085813377), (734, 0.023083586071265844), (735, 0.024815608243883583), (736, 0.0), (737, 0.027691609036616268), (738, 0.019969877607968024), (739, 0.016824695465562003), (740, 0.008718342210113385), (741, 0.0), (742, 0.04674480154417946), (743, 0.04397957745892887), (744, 0.035775095844341666), (745, 0.0350816865353449), (746, 0.0), (747, 0.0), (748, 0.009623968389649493), (749, 0.01378792918302224), (750, 0.040464422186437594), (751, 0.0), (752, 0.009396116421212339), (753, 0.08619289969945337), (754, 0.0), (755, 0.014220064827415583), (756, 0.021457276243587394), (757, 0.05082524506966943), (758, 0.009746717905516138), (759, 0.013278551821721586), (760, 0.087665157182475), (761, 0.05303854059123707), (762, 0.0378427657299395), (763, 0.03019101077163952), (764, 0.0), (765, 0.0276397839964669), (766, 0.026169157413090477), (767, 0.01569608747922448), (768, 0.02759368834390128), (769, 0.03887761553815145), (770, 0.0), (771, 0.0), (772, 0.0), (773, 0.0), (774, 0.014842139905828597), (775, 0.034702204915976115), (776, 0.02394615476101085), (777, 0.021208317945662053), (778, 0.01014642688962762), (779, 0.05115106873072379), (780, 0.0), (781, 0.0), (782, 0.024551434578065023), (783, 0.019888651080758903), (784, 0.0), (785, 0.0), (786, 0.0), (787, 0.02659659121851943), (788, 0.0358096144700566), (789, 0.0), (790, 0.06393492574802906), (791, 0.01793854481700262), (792, 0.05710812724493505), (793, 0.026233627010301196), (794, 0.03814116015710968), (795, 0.08379670267006739), (796, 0.034237761463017685), (797, 0.0), (798, 0.013546034424398824), (799, 0.08732076528685925), (800, 0.04415237833469676), (801, 0.0601003722502524), (802, 0.028248406704070764), (803, 0.022775260145782777), (804, 0.03432185489879713), (805, 0.013352476668782896), (806, 0.055723142268571835), (807, 0.0), (808, 0.04909292061079042), (809, 0.037852091191322185), (810, 0.023971667052066718), (811, 0.028439807152393085), (812, 0.009423968204668415), (813, 0.017595042777050266), (814, 0.02076187792017344), (815, 0.012022611325182104), (816, 0.05057543412900299), (817, 0.025062721957033365), (818, 0.056147143520270906), (819, 0.0), (820, 0.0), (821, 0.009301420698470562), (822, 0.0), (823, 0.09160268336671272), (824, 0.038629497119057554), (825, 0.06493060022880558), (826, 0.018114790063543447), (827, 0.06985443316870811), (828, 0.05397212004987087), (829, 0.06989256094366592), (830, 0.06055835345642212), (831, 0.03147856867562996), (832, 0.07285073279712108), (833, 0.043754670948885514), (834, 0.009082897439695783), (835, 0.008418794342285941), (836, 0.03812231752271748), (837, 0.0), (838, 0.02720709720959332), (839, 0.0), (840, 0.0), (841, 0.0), (842, 0.0820572295497217), (843, 0.018841600960095753), (844, 0.03454079547932034), (845, 0.04215801073934075), (846, 0.0), (847, 0.029670529713001666), (848, 0.015735517425658367), (849, 0.026547229848759863), (850, 0.023120362627445566), (851, 0.045746257927109485), (852, 0.0125223671688509), (853, 0.06505094978437173), (854, 0.012756651302714273), (855, 0.03196505304075542), (856, 0.012395993043479655), (857, 0.016221083886212358), (858, 0.008613765865514737), (859, 0.0), (860, 0.10489047672134207), (861, 0.045854842519322245), (862, 0.03414840484623558), (863, 0.0391510367324006), (864, 0.084770308468547), (865, 0.01408712096099992), (866, 0.07686787344798332), (867, 0.03198971462477034), (868, 0.03519005776714793), (869, 0.04274078551925625), (870, 0.08618712702012035), (871, 0.01440246069214544), (872, 0.01496471919670453), (873, 0.0739760394777324), (874, 0.05609013605598813), (875, 0.07179517746633661), (876, 0.09256847382253547), (877, 0.07949931645033789), (878, 0.07181918352543026), (879, 0.08112746324844922), (880, 0.03883759567743246), (881, 0.0), (882, 0.0), (883, 0.014604556796761068), (884, 0.015263845865748724), (885, 0.013272544919592382), (886, 0.013995068161076357), (887, 0.01571720913773939), (888, 0.1189276362238357), (889, 0.022170248399269888), (890, 0.014896798252046147), (891, 0.03011247994129119), (892, 0.0), (893, 0.02335796375836694), (894, 0.05660444001559538), (895, 0.02917854698369216), (896, 0.0865040365440577), (897, 0.026137623115257504), (898, 0.023355392377243153), (899, 0.02968117263306779), (900, 0.05237018911215041), (901, 0.011501836841097079), (902, 0.02566129486587411), (903, 0.01835984103643146), (904, 0.09455308424107461), (905, 0.08909350722264092), (906, 0.017716921538728527), (907, 0.014075158647169371), (908, 0.04135116908312441), (909, 0.0), (910, 0.0361798648970906), (911, 0.07540790817027777), (912, 0.0), (913, 0.0), (914, 0.0), (915, 0.059399599742648995), (916, 0.06806403653150236), (917, 0.015704737722194682), (918, 0.06577244557731765), (919, 0.02909224079129897), (920, 0.0), (921, 0.024382049181166224), (922, 0.018748803639550705), (923, 0.041450619307763004), (924, 0.021860895855311067), (925, 0.022429855067587177), (926, 0.0), (927, 0.030929315322940677), (928, 0.06751664712209912), (929, 0.037628754390640964), (930, 0.04484080560054059), (931, 0.06618792900461774), (932, 0.022550383544969986), (933, 0.023386379312067468), (934, 0.02703398163411616), (935, 0.05562077279989763), (936, 0.04053834438007346), (937, 0.09193443585642527), (938, 0.0), (939, 0.050942340825587615), (940, 0.015126216197042481), (941, 0.02292321244631193), (942, 0.0906907217618172), (943, 0.0), (944, 0.013761318252099067), (945, 0.0), (946, 0.0), (947, 0.12514275872042352), (948, 0.051184798166865046), (949, 0.030503854827498116), (950, 0.0), (951, 0.012588977079286872), (952, 0.06897048980734075), (953, 0.03119438379440909), (954, 0.0), (955, 0.0), (956, 0.0), (957, 0.0293879131983096), (958, 0.00877089718135801), (959, 0.01399951622634817), (960, 0.0), (961, 0.0), (962, 0.02216504088448846), (963, 0.04662212113157807), (964, 0.0), (965, 0.0), (966, 0.020506633363422355), (967, 0.06946161485596045), (968, 0.064818053747381), (969, 0.01443401820823953), (970, 0.028183957067477994), (971, 0.0), (972, 0.0), (973, 0.014226185247543717), (974, 0.027309616659564537), (975, 0.01568389731108883), (976, 0.0935348577112349), (977, 0.0), (978, 0.0), (979, 0.03255996767312591), (980, 0.04357564279146058), (981, 0.03405559779220784), (982, 0.0), (983, 0.0), (984, 0.014579499904507106), (985, 0.01735786368218164), (986, 0.1022386066713713), (987, 0.015733442665747777), (988, 0.07368302071851049), (989, 0.07809948427572891), (990, 0.0), (991, 0.050748838845200525), (992, 0.028717662391151914), (993, 0.015206952303178796), (994, 0.054222391070010874), (995, 0.0), (996, 0.05354575612184329), (997, 0.02210397827992482), (998, 0.017639305194664934), (999, 0.01723138464773572), (1000, 0.07024351218143066), (1001, 0.0374228220252407), (1002, 0.013250984740293388), (1003, 0.04640414580959712), (1004, 0.013053174653479474), (1005, 0.050999402125503905), (1006, 0.026783701964395293), (1007, 0.014108421972728165), (1008, 0.0), (1009, 0.04135742841708229), (1010, 0.0), (1011, 0.0), (1012, 0.03769699380931696), (1013, 0.0), (1014, 0.010798246892640053), (1015, 0.09378678533813986), (1016, 0.0), (1017, 0.08270995381775809), (1018, 0.06265334649200152), (1019, 0.038541531954488284), (1020, 0.02319634533167455), (1021, 0.024093520918210744), (1022, 0.0), (1023, 0.08061637286754658), (1024, 0.07029051095795566), (1025, 0.0), (1026, 0.013342444674931923), (1027, 0.013224079139018753), (1028, 0.0), (1029, 0.0), (1030, 0.06954873846911123), (1031, 0.0), (1032, 0.01620328583871585), (1033, 0.04415725869806347), (1034, 0.013665055598408332), (1035, 0.08917013169660734), (1036, 0.014166322344574836), (1037, 0.021872585499267173), (1038, 0.0), (1039, 0.0), (1040, 0.01613713940838985), (1041, 0.03947284586111269), (1042, 0.01363249368700269), (1043, 0.05695837078825078), (1044, 0.036960572857941965), (1045, 0.023573702745237988), (1046, 0.03967276712864675), (1047, 0.06891147286263263), (1048, 0.027281747878264213), (1049, 0.021020794927738815), (1050, 0.04588729951049897), (1051, 0.0), (1052, 0.03910727914200892), (1053, 0.06809291743142962), (1054, 0.06434507954818086), (1055, 0.0), (1056, 0.0), (1057, 0.0), (1058, 0.09892732776708921), (1059, 0.014554613663348648), (1060, 0.012967475717580173), (1061, 0.055603176054978894), (1062, 0.0), (1063, 0.06357205523786008), (1064, 0.10294065356365896), (1065, 0.04991006131304847), (1066, 0.0), (1067, 0.0), (1068, 0.0853141072973772), (1069, 0.010113138039887396), (1070, 0.1659140704686211), (1071, 0.04639007021768367), (1072, 0.016895391450397423), (1073, 0.0), (1074, 0.07244924748628784), (1075, 0.030062613551639764), (1076, 0.03904093475432735), (1077, 0.026210767158674413), (1078, 0.0476414350750938), (1079, 0.012624370669052542), (1080, 0.012937010978754333), (1081, 0.0), (1082, 0.02442815427307801), (1083, 0.04263192539801258), (1084, 0.014555745270166136), (1085, 0.0), (1086, 0.0), (1087, 0.02446983264007937), (1088, 0.01145417769967493), (1089, 0.0), (1090, 0.015454965691591428), (1091, 0.0), (1092, 0.05500655637270841), (1093, 0.0), (1094, 0.00895657885108812), (1095, 0.008483854518944773), (1096, 0.025687809554046453), (1097, 0.0), (1098, 0.013071594592880419), (1099, 0.03709377248628665), (1100, 0.01592727099644636), (1101, 0.0), (1102, 0.014997192026844528), (1103, 0.0), (1104, 0.07330140346862825), (1105, 0.0), (1106, 0.0), (1107, 0.06999148574849429), (1108, 0.0), (1109, 0.01656703798287382), (1110, 0.014281807675545842), (1111, 0.00895765792779632), (1112, 0.03677483103027297), (1113, 0.0), (1114, 0.029169745519882072), (1115, 0.0681011173065304), (1116, 0.05493805694200968), (1117, 0.01439793063529861), (1118, 0.05036046992696366), (1119, 0.08404616911078205), (1120, 0.020736186186086785), (1121, 0.020886767437760172), (1122, 0.014461155058370636), (1123, 0.037205828542037786), (1124, 0.026673313644885496), (1125, 0.024073735799985438), (1126, 0.0), (1127, 0.02679238073398465), (1128, 0.04764263674997345), (1129, 0.043120682395090315), (1130, 0.0), (1131, 0.012923955653470902), (1132, 0.09246754221919032), (1133, 0.0), (1134, 0.06673328177559573), (1135, 0.0), (1136, 0.019365863370014978), (1137, 0.05142541642037356), (1138, 0.040842979253251366), (1139, 0.0), (1140, 0.040711931753096973), (1141, 0.1005072794391762), (1142, 0.0), (1143, 0.0), (1144, 0.020960612359459476), (1145, 0.02665545987270989), (1146, 0.03390340831524186), (1147, 0.0), (1148, 0.155437708057422), (1149, 0.0), (1150, 0.02658628251183642), (1151, 0.0), (1152, 0.021199562508267406), (1153, 0.01697312508169591), (1154, 0.02145573285895913), (1155, 0.0), (1156, 0.0), (1157, 0.016672689986764067), (1158, 0.03356739154796808), (1159, 0.0), (1160, 0.05587361199847077), (1161, 0.015491438116864965), (1162, 0.09568857382902156), (1163, 0.015386938504021796), (1164, 0.019338908495718607), (1165, 0.0), (1166, 0.0), (1167, 0.032008566914561644), (1168, 0.017173941341946473), (1169, 0.017751448490644653), (1170, 0.014289093327089627), (1171, 0.0), (1172, 0.009158492125914132), (1173, 0.08356838642737521), (1174, 0.04162348905990026), (1175, 0.03437369449582096), (1176, 0.014750862281823372), (1177, 0.041294435369887916), (1178, 0.0), (1179, 0.04066777227460751), (1180, 0.0), (1181, 0.02526628034133431), (1182, 0.024806459374191424), (1183, 0.08293872736580045), (1184, 0.08831609934120457), (1185, 0.06672299376149463), (1186, 0.01238407281908029), (1187, 0.018883143827574857), (1188, 0.04627242176182597), (1189, 0.0), (1190, 0.0), (1191, 0.04042256137211711), (1192, 0.05122149263565073), (1193, 0.0), (1194, 0.041241773925637513), (1195, 0.008883611679411669), (1196, 0.0), (1197, 0.024717928325874557), (1198, 0.0), (1199, 0.011617991132954484), (1200, 0.0), (1201, 0.0), (1202, 0.05155700541839027), (1203, 0.07308892041428477), (1204, 0.0152975149341593), (1205, 0.0), (1206, 0.021393558791332812), (1207, 0.024885153369260265), (1208, 0.022042665337977142), (1209, 0.013250955707722029), (1210, 0.018014276638204693), (1211, 0.026471483584534092), (1212, 0.0), (1213, 0.03830556325913232), (1214, 0.03288624504938398), (1215, 0.04519826038634852), (1216, 0.03144392717234159), (1217, 0.011754680111175043), (1218, 0.0), (1219, 0.012106760125752179), (1220, 0.0396422943159066), (1221, 0.0), (1222, 0.0), (1223, 0.04094860138713784), (1224, 0.07937567132849327), (1225, 0.04432817702696955), (1226, 0.069875007208221), (1227, 0.0), (1228, 0.0), (1229, 0.04103688708165939), (1230, 0.05838970193032485), (1231, 0.03987260463646428), (1232, 0.08142957176024329), (1233, 0.0), (1234, 0.0572682730631863), (1235, 0.0), (1236, 0.0601197095366589), (1237, 0.07509640640356532), (1238, 0.010151741437697098), (1239, 0.019740790595476853), (1240, 0.0), (1241, 0.030587866681062368), (1242, 0.0), (1243, 0.09216334032600138), (1244, 0.0), (1245, 0.033129567676903074), (1246, 0.0), (1247, 0.01388079622546926), (1248, 0.11456529637860374), (1249, 0.015354677292872711), (1250, 0.009491770521421571), (1251, 0.01185922772268466), (1252, 0.07351519189104003), (1253, 0.0), (1254, 0.033503847626159884), (1255, 0.04617255744887727), (1256, 0.0), (1257, 0.0619311760687557), (1258, 0.0), (1259, 0.0655856793999156), (1260, 0.04536889933268722), (1261, 0.037777349498061226), (1262, 0.037089190216680425), (1263, 0.0), (1264, 0.09210180033858459), (1265, 0.0), (1266, 0.037596300455188886), (1267, 0.009694925901459355), (1268, 0.0), (1269, 0.0), (1270, 0.04953771439335294), (1271, 0.0), (1272, 0.06445099425359528), (1273, 0.013578120375201), (1274, 0.025177061817574092), (1275, 0.09745059850289006), (1276, 0.04812377710322904), (1277, 0.01062424235563231), (1278, 0.01957455330230433), (1279, 0.028045712364436797), (1280, 0.028326741838190603), (1281, 0.022681060482228135), (1282, 0.045173220120872784), (1283, 0.0), (1284, 0.013393011221012887), (1285, 0.0), (1286, 0.014376275104889305), (1287, 0.0), (1288, 0.0), (1289, 0.0), (1290, 0.06492218398825067), (1291, 0.0), (1292, 0.10714167048406878), (1293, 0.017523491919880927), (1294, 0.015348117092387046), (1295, 0.0), (1296, 0.0), (1297, 0.0), (1298, 0.014249658974237831), (1299, 0.0), (1300, 0.05319427318370241), (1301, 0.011839303538084565), (1302, 0.08289714750482621), (1303, 0.05934878639959421), (1304, 0.014281200493691077), (1305, 0.011041823175935741), (1306, 0.015835325757676197), (1307, 0.008335147807856528), (1308, 0.020749428221927727), (1309, 0.021324565318165484), (1310, 0.015612352374160332), (1311, 0.050863228958709567), (1312, 0.02171921837848114), (1313, 0.014301720598526631), (1314, 0.08669923127829644), (1315, 0.0), (1316, 0.008310763397239917), (1317, 0.05068119421978062), (1318, 0.012387113024442122), (1319, 0.014217385610327211), (1320, 0.09709173666931296), (1321, 0.0), (1322, 0.0), (1323, 0.0), (1324, 0.016098806119755643), (1325, 0.08801981140568214), (1326, 0.0), (1327, 0.008960332388900318), (1328, 0.0), (1329, 0.009199541166437895), (1330, 0.04210382372480302), (1331, 0.019528650396136295), (1332, 0.03187117230180697), (1333, 0.0), (1334, 0.05395215518148205), (1335, 0.07819254216548921), (1336, 0.0), (1337, 0.07830940035602842), (1338, 0.055573917316668484), (1339, 0.06023265730341494), (1340, 0.011673467814563776), (1341, 0.10115148486150867), (1342, 0.017363527949746306), (1343, 0.08185777225091584), (1344, 0.030404827651662827), (1345, 0.009409619778801441), (1346, 0.0), (1347, 0.02691379459213335), (1348, 0.05593688553141121), (1349, 0.015758022869883353), (1350, 0.017027783274974378), (1351, 0.027192151782751375), (1352, 0.012273270157841062), (1353, 0.0), (1354, 0.0), (1355, 0.014652075650750407), (1356, 0.03251058585937645), (1357, 0.013159753715949511), (1358, 0.025268586327559586), (1359, 0.03001442657712176), (1360, 0.08077094370268796), (1361, 0.021678045192951047), (1362, 0.02920682422417007), (1363, 0.03889846642944297), (1364, 0.015697057671688847), (1365, 0.033540417643027724), (1366, 0.012459998008264445), (1367, 0.057198325470017936), (1368, 0.0), (1369, 0.085298901608255), (1370, 0.013155648148689008), (1371, 0.04677066194988596), (1372, 0.013240390726523766), (1373, 0.0), (1374, 0.009406372271198197), (1375, 0.037098701070111394), (1376, 0.017294244683434403), (1377, 0.06851881268751342), (1378, 0.01460448034447948), (1379, 0.046967849853120226), (1380, 0.028848045378143145), (1381, 0.029087221399653675), (1382, 0.024490479174618482), (1383, 0.12260531327946625), (1384, 0.04321837629332867), (1385, 0.08928774025879102), (1386, 0.028080687099921984), (1387, 0.04401108040526071), (1388, 0.021728976286144445), (1389, 0.04927808096807301), (1390, 0.0), (1391, 0.03201220209617032), (1392, 0.012849672561868843), (1393, 0.08869295013671441), (1394, 0.011981049768017445), (1395, 0.020437674160372975), (1396, 0.03733724387054679), (1397, 0.015037864054629172), (1398, 0.01751458360116002), (1399, 0.0), (1400, 0.04271665432561236), (1401, 0.021109039670055122), (1402, 0.016083647139602312), (1403, 0.030388905572665614), (1404, 0.013709535881431614), (1405, 0.03916577454894466), (1406, 0.06282753827873287), (1407, 0.039748208504652466), (1408, 0.013887979509213999), (1409, 0.01677457299980405), (1410, 0.016451119801041383), (1411, 0.015724144747388747), (1412, 0.08156219134873374), (1413, 0.04855165040462771), (1414, 0.03500750645333938), (1415, 0.015935526211878), (1416, 0.014038719031681756), (1417, 0.06822125330955872), (1418, 0.013313997611839445), (1419, 0.06315998464615097), (1420, 0.03399148090427093), (1421, 0.037624508670423454), (1422, 0.013974922060859468), (1423, 0.013022735530103587), (1424, 0.0), (1425, 0.009809646890694676), (1426, 0.028984621985293897), (1427, 0.011354675770894294), (1428, 0.026018170371827107), (1429, 0.0539954475362804), (1430, 0.023328703424959355), (1431, 0.02865003268870343), (1432, 0.07169523773848267), (1433, 0.03643884366379458), (1434, 0.01865973775467622), (1435, 0.02827298390445987), (1436, 0.06620415667407083), (1437, 0.0), (1438, 0.054619106025337365), (1439, 0.016426822370071422), (1440, 0.056475982402794084), (1441, 0.0), (1442, 0.04636281559006406), (1443, 0.04738112484861548), (1444, 0.0), (1445, 0.023461216213389157), (1446, 0.024062640951062243), (1447, 0.0), (1448, 0.03672098189284746), (1449, 0.03555788786267815), (1450, 0.012092854588140672), (1451, 0.02628914896308843), (1452, 0.03169332366461469), (1453, 0.006989925013219389), (1454, 0.043323526930949506), (1455, 0.0666108097979824), (1456, 0.01285355445048309), (1457, 0.0), (1458, 0.019901629804074252), (1459, 0.0), (1460, 0.0), (1461, 0.050385791682438244), (1462, 0.0395709282584232), (1463, 0.013758380051018659), (1464, 0.053327729398015764), (1465, 0.02964160561923624), (1466, 0.0), (1467, 0.0), (1468, 0.0), (1469, 0.02550302302394942), (1470, 0.0), (1471, 0.0687194727764321), (1472, 0.041066184192973726), (1473, 0.0), (1474, 0.014682782966462525), (1475, 0.025148041211394086), (1476, 0.015446094917518444), (1477, 0.020127841386571366), (1478, 0.07322920731574353), (1479, 0.016320018825052417), (1480, 0.024228397312439143), (1481, 0.07619923279222335), (1482, 0.0), (1483, 0.08129563117744815), (1484, 0.045469663305884735), (1485, 0.0), (1486, 0.010268602464291527), (1487, 0.0), (1488, 0.03634065197455644), (1489, 0.04512992708142871), (1490, 0.0), (1491, 0.0), (1492, 0.030169991768728005), (1493, 0.046627744240240424), (1494, 0.026167650952491302), (1495, 0.0), (1496, 0.0), (1497, 0.019369311112092426), (1498, 0.04574517569688478), (1499, 0.019598874805804186), (1500, 0.048985060152170315), (1501, 0.009533174725500146), (1502, 0.030069463938254642), (1503, 0.012995017982463485), (1504, 0.04431502795346107), (1505, 0.029166342005784107), (1506, 0.09591642552939098), (1507, 0.05255077576494412), (1508, 0.0), (1509, 0.0535401220789086), (1510, 0.05801134543662533), (1511, 0.0), (1512, 0.023865423795557252), (1513, 0.061857109487019724), (1514, 0.02052368339907516), (1515, 0.03017910097320784), (1516, 0.014847295478291063), (1517, 0.0), (1518, 0.015589440514403767), (1519, 0.048455298563068766), (1520, 0.0), (1521, 0.0), (1522, 0.0), (1523, 0.020742495401965003), (1524, 0.0), (1525, 0.0), (1526, 0.010869375606068005), (1527, 0.09692237596467865), (1528, 0.013176082105282495), (1529, 0.0), (1530, 0.019876204673162663), (1531, 0.029124753310223173), (1532, 0.0), (1533, 0.0139107966510249), (1534, 0.0), (1535, 0.0), (1536, 0.039824168066293145), (1537, 0.04271738071556732), (1538, 0.021229889196740202), (1539, 0.021980847303826965), (1540, 0.05036179939828036), (1541, 0.0), (1542, 0.07093174148113857), (1543, 0.013801761792155214), (1544, 0.061451074385463524), (1545, 0.0), (1546, 0.024333420146706926), (1547, 0.016863587885538274), (1548, 0.0), (1549, 0.0), (1550, 0.014574222514417373), (1551, 0.03607152930198597), (1552, 0.00894486693001862), (1553, 0.02288338532443802), (1554, 0.02926193931518866), (1555, 0.03616288665224666), (1556, 0.0), (1557, 0.0), (1558, 0.01361971412320767), (1559, 0.022013264250444448), (1560, 0.0), (1561, 0.0), (1562, 0.023682783670289156), (1563, 0.0), (1564, 0.0), (1565, 0.012813832843624884), (1566, 0.028149490561784975), (1567, 0.050096240192291294), (1568, 0.07138487726664607), (1569, 0.0), (1570, 0.015514089157763747), (1571, 0.020171999045151746), (1572, 0.08968460579740872), (1573, 0.028648692971883872), (1574, 0.01472441704730468), (1575, 0.028307120009620008), (1576, 0.01950642939509657), (1577, 0.0), (1578, 0.0), (1579, 0.023255864527995374), (1580, 0.015963446825437717), (1581, 0.0), (1582, 0.0514607298288925), (1583, 0.012031818704375905), (1584, 0.0), (1585, 0.062067897567585975), (1586, 0.0), (1587, 0.026665912829924265), (1588, 0.028353184437369203), (1589, 0.0), (1590, 0.021058545395817724), (1591, 0.09058041755771261), (1592, 0.0), (1593, 0.02456303689987496), (1594, 0.01660481560815378), (1595, 0.06937960593969489), (1596, 0.0), (1597, 0.013525927214179233), (1598, 0.01445185863855045), (1599, 0.0), (1600, 0.0), (1601, 0.0), (1602, 0.0), (1603, 0.0), (1604, 0.0), (1605, 0.013233722761087386), (1606, 0.0), (1607, 0.0), (1608, 0.03324024308164317), (1609, 0.02664109258540962), (1610, 0.0), (1611, 0.0), (1612, 0.022786765704477654), (1613, 0.0), (1614, 0.026051636160066734), (1615, 0.0), (1616, 0.01207187759673062), (1617, 0.015046201497029323), (1618, 0.0), (1619, 0.030133204252542987), (1620, 0.05116150424676176), (1621, 0.08435312357189556), (1622, 0.026950175017674247), (1623, 0.026908041136080106), (1624, 0.010979172259046387), (1625, 0.01537422755003342), (1626, 0.0), (1627, 0.03237619778714578), (1628, 0.015447441859209408), (1629, 0.09105827638755026), (1630, 0.045025223976765186), (1631, 0.027015211663159403), (1632, 0.027335053811804937), (1633, 0.02554731568643112), (1634, 0.014846814629882783), (1635, 0.02794312579248834), (1636, 0.0), (1637, 0.016166122266286036), (1638, 0.0), (1639, 0.0), (1640, 0.0), (1641, 0.01396833894065031), (1642, 0.013447421087358637), (1643, 0.0425657211325799), (1644, 0.009141092180889673), (1645, 0.012732572116574917), (1646, 0.0), (1647, 0.009387816345028688), (1648, 0.053417807125379455), (1649, 0.0), (1650, 0.021919062303501238), (1651, 0.0), (1652, 0.0), (1653, 0.03934997304619574), (1654, 0.019242177250664044), (1655, 0.0444158458682341), (1656, 0.017316628650410098), (1657, 0.0), (1658, 0.026597614868333525), (1659, 0.028929146181306094), (1660, 0.01622966115385197), (1661, 0.029938992644710165), (1662, 0.031151207155357095), (1663, 0.014028938387180445), (1664, 0.008199484552467148), (1665, 0.07760785351930122), (1666, 0.01336147783797537), (1667, 0.07468681756159391), (1668, 0.0), (1669, 0.0), (1670, 0.01674309608386102), (1671, 0.09817286204782472), (1672, 0.014531679526511592), (1673, 0.0), (1674, 0.04593615371558568), (1675, 0.05979673495293974), (1676, 0.051746720827217985), (1677, 0.01040492019440994), (1678, 0.08478547596877986), (1679, 0.0), (1680, 0.07342803479737545), (1681, 0.07684891379700787), (1682, 0.031119275912059312), (1683, 0.01910402659866071), (1684, 0.008405876787566621), (1685, 0.02998009254126785), (1686, 0.0), (1687, 0.0878466692294555), (1688, 0.024672682060161023), (1689, 0.0), (1690, 0.021325978885320628), (1691, 0.011885460959387957), (1692, 0.010574394300872567), (1693, 0.013120512292269255), (1694, 0.05597517913714702), (1695, 0.007205233891258673), (1696, 0.032676838894272864), (1697, 0.0), (1698, 0.0), (1699, 0.022851232953244406), (1700, 0.0), (1701, 0.025155804447188606), (1702, 0.0), (1703, 0.014972163227977885), (1704, 0.0), (1705, 0.04135305760522309), (1706, 0.014648954901046563), (1707, 0.04724074147554569), (1708, 0.02752430809393249), (1709, 0.0), (1710, 0.021958601570422023), (1711, 0.019090387251507673), (1712, 0.03404863841856296), (1713, 0.0461627442781648), (1714, 0.015512491381952593), (1715, 0.008687947003840785), (1716, 0.09151929018982295), (1717, 0.015953703647684288), (1718, 0.010332110595356946), (1719, 0.01226363633373381), (1720, 0.0), (1721, 0.07894608533154669), (1722, 0.015738067206391752), (1723, 0.03284560087090785), (1724, 0.029980896994786878), (1725, 0.0), (1726, 0.0), (1727, 0.06046541229553168), (1728, 0.0), (1729, 0.0), (1730, 0.020588993236067506), (1731, 0.0), (1732, 0.029950818308054957), (1733, 0.01611308744529887), (1734, 0.0), (1735, 0.043386079867794296), (1736, 0.05651227926422425), (1737, 0.011176648997464232), (1738, 0.03612934025699024), (1739, 0.07505751990850193), (1740, 0.0849605086618985), (1741, 0.022109642765626256), (1742, 0.013488939712127545), (1743, 0.01915979727558628), (1744, 0.01412467707931616), (1745, 0.0), (1746, 0.00888945869684014), (1747, 0.017168074858619507), (1748, 0.015731990232391583), (1749, 0.026832154007360373), (1750, 0.04077575204248611), (1751, 0.0), (1752, 0.01736787435484093), (1753, 0.024381288841915146), (1754, 0.06272873219377717), (1755, 0.0), (1756, 0.0), (1757, 0.0), (1758, 0.0), (1759, 0.034758796823865755), (1760, 0.034380859642936114), (1761, 0.036043769847692864), (1762, 0.02168033823628375), (1763, 0.012887325140543112), (1764, 0.02031164399526366), (1765, 0.014823516592435033), (1766, 0.0), (1767, 0.0), (1768, 0.0156872101951915), (1769, 0.0), (1770, 0.010955288275578963), (1771, 0.0), (1772, 0.02262276608315086), (1773, 0.04048975592933401), (1774, 0.06310171410444482), (1775, 0.0), (1776, 0.047495377352343555), (1777, 0.0), (1778, 0.0), (1779, 0.054280102995001474), (1780, 0.008283286272549041), (1781, 0.05249098153014348), (1782, 0.012560376480566116), (1783, 0.0), (1784, 0.02261348340154788), (1785, 0.0), (1786, 0.0), (1787, 0.017735001567423504), (1788, 0.05891990144766468), (1789, 0.06110980728231965), (1790, 0.01567521170150349), (1791, 0.028218758615583758), (1792, 0.01832336782720743), (1793, 0.02217513692566228), (1794, 0.0), (1795, 0.04332064212103517), (1796, 0.06938390064377642), (1797, 0.03165214683520007), (1798, 0.025539394422616594), (1799, 0.039828542030120616), (1800, 0.0), (1801, 0.011898055000497591), (1802, 0.017626873599759445), (1803, 0.0), (1804, 0.0), (1805, 0.01797593656895547), (1806, 0.043869805088272304), (1807, 0.02621818658149154), (1808, 0.012021084965048568), (1809, 0.03557974758065862), (1810, 0.0), (1811, 0.03938615252408324), (1812, 0.039530435337088166), (1813, 0.013790414443520301), (1814, 0.013008473509665263), (1815, 0.0779085760260588), (1816, 0.034616864078027575), (1817, 0.04783057861589938), (1818, 0.008666811979142581), (1819, 0.03851268839731607), (1820, 0.0), (1821, 0.10558257550963752), (1822, 0.015204069680358449), (1823, 0.0), (1824, 0.0), (1825, 0.0), (1826, 0.016981219762244135), (1827, 0.013051208266534697), (1828, 0.011131425104749687), (1829, 0.02968684151404848), (1830, 0.011259065828688549), (1831, 0.014417497541488163), (1832, 0.0792457643837405), (1833, 0.01841460969172127), (1834, 0.0), (1835, 0.0), (1836, 0.0), (1837, 0.0), (1838, 0.0450862231808873), (1839, 0.0), (1840, 0.02263980588127236), (1841, 0.00848613236554613), (1842, 0.0), (1843, 0.04271027572087485), (1844, 0.0), (1845, 0.06190420743269434), (1846, 0.026963882799647468), (1847, 0.06886941472807619), (1848, 0.016667886617410622), (1849, 0.009158327949137273), (1850, 0.05741131201524492), (1851, 0.015962038189208806), (1852, 0.036216625795675056), (1853, 0.08990121994807954), (1854, 0.05325318032809294), (1855, 0.0), (1856, 0.0), (1857, 0.02857387129073049), (1858, 0.06428838292629556), (1859, 0.027535591167950613), (1860, 0.024468933021659783), (1861, 0.06787469765815031), (1862, 0.019400166315357847), (1863, 0.00869723128179164), (1864, 0.046237693153701534), (1865, 0.05847544878200848), (1866, 0.04540512500633058), (1867, 0.009268418790276753), (1868, 0.04479634246255989), (1869, 0.013207135782703867), (1870, 0.01658933470651242), (1871, 0.06129421592387475), (1872, 0.03819556233182223), (1873, 0.03561873303113783), (1874, 0.06450547476896043), (1875, 0.022472593099262063), (1876, 0.04942513192402049), (1877, 0.01506881641826345), (1878, 0.034225131600782735), (1879, 0.0), (1880, 0.020367965706457), (1881, 0.02651169978632629), (1882, 0.013718912102063557), (1883, 0.0), (1884, 0.015515010644344462), (1885, 0.019116231894603212), (1886, 0.010537424653136916), (1887, 0.017687336013548972), (1888, 0.0), (1889, 0.0), (1890, 0.016824201599319633), (1891, 0.014796180396988538), (1892, 0.045261587317509455), (1893, 0.015819918032014376), (1894, 0.0), (1895, 0.01882982769419079), (1896, 0.014381652842637208), (1897, 0.05440491211753459), (1898, 0.0), (1899, 0.0), (1900, 0.04769208495348389), (1901, 0.02746411231190024), (1902, 0.04497248153360216), (1903, 0.00827233393714478), (1904, 0.028771625629215293), (1905, 0.020273843470243736), (1906, 0.02285546956619303), (1907, 0.016277700426101358), (1908, 0.008596969282361581), (1909, 0.018974393037064052), (1910, 0.02120047227358459), (1911, 0.00906961621694257), (1912, 0.0), (1913, 0.009262080553408015), (1914, 0.026572089654621243), (1915, 0.0), (1916, 0.016265065020099206), (1917, 0.0), (1918, 0.044094094330666404), (1919, 0.025686853216348875), (1920, 0.020915249166084816), (1921, 0.012336609291883615), (1922, 0.05383478030460484), (1923, 0.06765750369020027), (1924, 0.04620988765903825), (1925, 0.021202636364499424), (1926, 0.0), (1927, 0.051282451712860916), (1928, 0.0), (1929, 0.013733976612036833), (1930, 0.027533502875252316), (1931, 0.04244409241264543), (1932, 0.0), (1933, 0.02609439542878443), (1934, 0.04268319531636722), (1935, 0.03261539540118075), (1936, 0.024631026122576533), (1937, 0.08297072536318997), (1938, 0.0), (1939, 0.040523230765484954), (1940, 0.03217969356869258), (1941, 0.035603990304376644), (1942, 0.09508765965215778), (1943, 0.011747461614896601), (1944, 0.0), (1945, 0.050451930628447265), (1946, 0.015404355202519949), (1947, 0.018967676024768416), (1948, 0.011459579737431905), (1949, 0.07175535126665947), (1950, 0.01894032434253915), (1951, 0.028709864725422772), (1952, 0.028118195511957846), (1953, 0.027595705943185174), (1954, 0.013563821542779105), (1955, 0.0), (1956, 0.0), (1957, 0.016428859992565013), (1958, 0.06531824955557877), (1959, 0.01679008240426806), (1960, 0.04724768559890733), (1961, 0.0), (1962, 0.03225241907328225), (1963, 0.0), (1964, 0.03616376229782233), (1965, 0.0), (1966, 0.0), (1967, 0.07578298809103987), (1968, 0.046220352426084015), (1969, 0.01302488587451664), (1970, 0.08903226392884994), (1971, 0.04121952132853413), (1972, 0.0), (1973, 0.03525752646146268), (1974, 0.0), (1975, 0.030068404708245667), (1976, 0.03080886733450366), (1977, 0.013035105961253401), (1978, 0.0), (1979, 0.0), (1980, 0.012427590181941745), (1981, 0.03206580116394683), (1982, 0.05173845456109016), (1983, 0.07924635420420084), (1984, 0.0), (1985, 0.0947535568330216), (1986, 0.049956277954814776), (1987, 0.03915228900401413), (1988, 0.01821639452148789), (1989, 0.06091748707831192), (1990, 0.023793623650048237), (1991, 0.06737738582357067), (1992, 0.062413372337904574), (1993, 0.027472099597387233), (1994, 0.07754828158177086), (1995, 0.01791176951361564), (1996, 0.05096476646543114), (1997, 0.11034326489558396), (1998, 0.02472530475992705), (1999, 0.0), (2000, 0.024419011433429103), (2001, 0.0), (2002, 0.0), (2003, 0.0), (2004, 0.013761551037990842), (2005, 0.01675009068697098), (2006, 0.0), (2007, 0.0), (2008, 0.04685731951087507), (2009, 0.0), (2010, 0.01171443153660366), (2011, 0.041941455358848787), (2012, 0.03189378986799622), (2013, 0.03215426300891636), (2014, 0.041109350104462185), (2015, 0.027143983816454532), (2016, 0.05367847565848451), (2017, 0.0), (2018, 0.0), (2019, 0.0), (2020, 0.008951729010692126), (2021, 0.0), (2022, 0.0068499220273152105), (2023, 0.09080408823919747), (2024, 0.08389891504966872), (2025, 0.0), (2026, 0.10304852356947147), (2027, 0.030754710651428173), (2028, 0.0), (2029, 0.05631529345933185), (2030, 0.0), (2031, 0.03799925337542273), (2032, 0.0), (2033, 0.0), (2034, 0.014847856371935019), (2035, 0.03385656983605673), (2036, 0.0), (2037, 0.10983616559381679), (2038, 0.0), (2039, 0.01121493582897295), (2040, 0.10996141565252054), (2041, 0.0), (2042, 0.0), (2043, 0.0), (2044, 0.02775306145535388), (2045, 0.05060975947692259), (2046, 0.0), (2047, 0.012365949637795927), (2048, 0.0164390946003519), (2049, 0.027239287757851574), (2050, 0.0), (2051, 0.031102445068114132), (2052, 0.022616196728209605), (2053, 0.08462485459626408), (2054, 0.0), (2055, 0.06124923735103265), (2056, 0.009718815779377782), (2057, 0.06452005352519641), (2058, 0.007951956290367792), (2059, 0.0), (2060, 0.013972418268852831), (2061, 0.03975182111190925), (2062, 0.032568532211513866), (2063, 0.0), (2064, 0.006596860712676057), (2065, 0.04548640929907492), (2066, 0.0729078671974331), (2067, 0.013191266579678748), (2068, 0.014638002697051278), (2069, 0.039647387149157956), (2070, 0.07206864667054451), (2071, 0.0), (2072, 0.01701837091375726), (2073, 0.015436333731292455), (2074, 0.028774127966830394), (2075, 0.05865430899009965), (2076, 0.04303287737041274), (2077, 0.05751483667276212), (2078, 0.01986333392074564), (2079, 0.0), (2080, 0.07192568036971711), (2081, 0.0), (2082, 0.04229406094472099), (2083, 0.013796454551034848), (2084, 0.032859228912081935), (2085, 0.0), (2086, 0.0), (2087, 0.02523061198227581), (2088, 0.04357438500081162), (2089, 0.054248873501932804), (2090, 0.0), (2091, 0.03850796552003577), (2092, 0.0), (2093, 0.07275075268581119), (2094, 0.05114907104608636), (2095, 0.009096540863826094), (2096, 0.10565466029111192), (2097, 0.05936804835889625), (2098, 0.009146608149770549), (2099, 0.01341870418605344), (2100, 0.0), (2101, 0.010658558331763665), (2102, 0.014285762765208506), (2103, 0.021808659170408824), (2104, 0.04305787137885578), (2105, 0.016584324907343607), (2106, 0.0), (2107, 0.0), (2108, 0.019894148836019313), (2109, 0.08000122717727894), (2110, 0.07083096309402923), (2111, 0.013628003535574307), (2112, 0.0980865754518082), (2113, 0.00898675915798325), (2114, 0.038441113711260855), (2115, 0.0), (2116, 0.03395218252952983), (2117, 0.014160868024212719), (2118, 0.0), (2119, 0.0650132069261661), (2120, 0.0), (2121, 0.05398463603672602), (2122, 0.05610341157322317), (2123, 0.06278699704861981), (2124, 0.0), (2125, 0.0), (2126, 0.055632585371481), (2127, 0.012968190668779548), (2128, 0.0), (2129, 0.014579187288944615), (2130, 0.02623547329291505), (2131, 0.014442354323893911), (2132, 0.013127725498409014), (2133, 0.08186855130225146), (2134, 0.017581471077115312), (2135, 0.0), (2136, 0.027724148673706792), (2137, 0.035502067319437086), (2138, 0.0), (2139, 0.02639883921289045), (2140, 0.0), (2141, 0.014918470701751002), (2142, 0.020118949676468916), (2143, 0.02152964144772772), (2144, 0.02646451115379009), (2145, 0.01743258050956132), (2146, 0.013760687225997765), (2147, 0.046005641809152766), (2148, 0.01737192394455095), (2149, 0.04222336063292761), (2150, 0.0), (2151, 0.08064307630909705), (2152, 0.0), (2153, 0.0), (2154, 0.11831771498928322), (2155, 0.06917096346123422), (2156, 0.00806939260851742), (2157, 0.005964674971576744), (2158, 0.049561687728652735), (2159, 0.018668916855042666), (2160, 0.008643081476969246), (2161, 0.02248343612982063), (2162, 0.06199825004493484), (2163, 0.014877342929889438), (2164, 0.0), (2165, 0.0), (2166, 0.012504081571825292), (2167, 0.025294239264857042), (2168, 0.0), (2169, 0.014714425486632605), (2170, 0.0), (2171, 0.0), (2172, 0.0), (2173, 0.01945138285701598), (2174, 0.09707841029799343), (2175, 0.007994424082014152), (2176, 0.01712447341701073), (2177, 0.01747938379377865), (2178, 0.06437793454386248), (2179, 0.0), (2180, 0.0), (2181, 0.030821711177416024), (2182, 0.0), (2183, 0.0), (2184, 0.037970218320958656), (2185, 0.00846115373185441), (2186, 0.0), (2187, 0.07524898466318423), (2188, 0.06486313452631647), (2189, 0.03087493807464919), (2190, 0.018200815242433076), (2191, 0.1045345754734722), (2192, 0.01430850098829368), (2193, 0.025518415655131584), (2194, 0.0), (2195, 0.015119010218150953), (2196, 0.08551604467658315), (2197, 0.030228686757844625), (2198, 0.009520295926381019), (2199, 0.022757446451232007), (2200, 0.0), (2201, 0.01362776512497282), (2202, 0.008684142603842454), (2203, 0.009158606404744798), (2204, 0.0), (2205, 0.008336020629553527), (2206, 0.07298188671344882), (2207, 0.023773772167894114), (2208, 0.028644550579997718), (2209, 0.030822687785894767), (2210, 0.09991470785744372), (2211, 0.018996789938858193), (2212, 0.05808374138528469), (2213, 0.014526675688785953), (2214, 0.15080878465133798), (2215, 0.0), (2216, 0.07666287494089127), (2217, 0.0), (2218, 0.0), (2219, 0.0), (2220, 0.0), (2221, 0.04614838063984627), (2222, 0.0), (2223, 0.01736199614195242), (2224, 0.0754135252413243), (2225, 0.0), (2226, 0.013869151039687425), (2227, 0.0), (2228, 0.06479469316898609), (2229, 0.10451072991024858), (2230, 0.01691249820375127), (2231, 0.035026088040125365), (2232, 0.0254557805739328), (2233, 0.0), (2234, 0.0), (2235, 0.06987575194774784), (2236, 0.021079111862168664), (2237, 0.038607687837349275), (2238, 0.0), (2239, 0.008398555099791134), (2240, 0.01130684119752344), (2241, 0.0), (2242, 0.013195074548287155), (2243, 0.0), (2244, 0.009003198303531077), (2245, 0.024284692815836912), (2246, 0.026646419305326192), (2247, 0.0), (2248, 0.08012652636478669), (2249, 0.0), (2250, 0.053179474749770236), (2251, 0.02857769321301777), (2252, 0.05615225621847057), (2253, 0.0), (2254, 0.08253768836000533), (2255, 0.07217105680073586), (2256, 0.0), (2257, 0.029056729469789235), (2258, 0.025210692639556106), (2259, 0.0), (2260, 0.01596721906868244), (2261, 0.0), (2262, 0.0), (2263, 0.0), (2264, 0.050268497763857174), (2265, 0.02700308254619893), (2266, 0.02126596280373446), (2267, 0.0), (2268, 0.014169024222769866), (2269, 0.016358465473091624), (2270, 0.011929836497714853), (2271, 0.0), (2272, 0.0), (2273, 0.03669968964171949), (2274, 0.0), (2275, 0.13715883465937012), (2276, 0.09686911406004386), (2277, 0.0238323574495629), (2278, 0.026253179867357885), (2279, 0.052035456464287), (2280, 0.06872571462483076), (2281, 0.0), (2282, 0.0), (2283, 0.0276502705274829), (2284, 0.074893753561166), (2285, 0.020567522048460685), (2286, 0.01911535070620373), (2287, 0.011868217770521947), (2288, 0.03142608746248392), (2289, 0.021995507777057416), (2290, 0.023154755443450675), (2291, 0.007588667911011915), (2292, 0.016535790785239726), (2293, 0.019604474626882612), (2294, 0.03512217106028616), (2295, 0.08099349675950576), (2296, 0.0), (2297, 0.0), (2298, 0.021553675513983277), (2299, 0.030302889860020544), (2300, 0.0), (2301, 0.03774185191595586), (2302, 0.01935242029744633), (2303, 0.025413095027743863), (2304, 0.05327111891695696), (2305, 0.0), (2306, 0.03862886065706785), (2307, 0.0), (2308, 0.05323225788335069), (2309, 0.023116404314748436), (2310, 0.03343544681347322), (2311, 0.0), (2312, 0.0), (2313, 0.01303513635142538), (2314, 0.0322077838704206), (2315, 0.0), (2316, 0.0432138614140651), (2317, 0.01673967190736014), (2318, 0.08026893353905548), (2319, 0.01501979546516936), (2320, 0.017676474796350396), (2321, 0.10354902617073558), (2322, 0.0), (2323, 0.013693044467536853), (2324, 0.04270490251941226), (2325, 0.0), (2326, 0.02644520745929677), (2327, 0.0), (2328, 0.04855529510640938), (2329, 0.0), (2330, 0.029203666680134674), (2331, 0.0), (2332, 0.0), (2333, 0.0), (2334, 0.08605846370506041), (2335, 0.01006431547461767), (2336, 0.07087713495072065), (2337, 0.0), (2338, 0.013273403890442584), (2339, 0.01136757053424186), (2340, 0.014885658253764887), (2341, 0.0), (2342, 0.0), (2343, 0.06899796299945236), (2344, 0.047886772770077905), (2345, 0.0), (2346, 0.07973118657389469), (2347, 0.03193956538208531), (2348, 0.05058484691912738), (2349, 0.027572529826587804), (2350, 0.023221040247203152), (2351, 0.0), (2352, 0.0), (2353, 0.026951583973788166), (2354, 0.015151902950609978), (2355, 0.037991992686025766), (2356, 0.017591920775620627), (2357, 0.0), (2358, 0.0), (2359, 0.011273920774292439), (2360, 0.0), (2361, 0.017874867102456258), (2362, 0.04804047805769008), (2363, 0.07703650844026909), (2364, 0.0), (2365, 0.0), (2366, 0.018275570156226967), (2367, 0.014131151789260136), (2368, 0.03245484264372613), (2369, 0.0), (2370, 0.016355029226568184), (2371, 0.0), (2372, 0.0), (2373, 0.0), (2374, 0.09747566982027235), (2375, 0.06682131469044686), (2376, 0.020588890400205232), (2377, 0.0), (2378, 0.02030002010028675), (2379, 0.03156514207910394), (2380, 0.0), (2381, 0.0), (2382, 0.011622525404061479), (2383, 0.08214454766320387), (2384, 0.0), (2385, 0.015338709553078268), (2386, 0.01670916525649292), (2387, 0.01470288411074614), (2388, 0.030306127808636892), (2389, 0.0), (2390, 0.017352973947016077), (2391, 0.018493062495584047), (2392, 0.02641516872751445), (2393, 0.01577866015419978), (2394, 0.022019196399708424), (2395, 0.0), (2396, 0.015368137746877975), (2397, 0.015203779341310274), (2398, 0.0), (2399, 0.013469947459279505), (2400, 0.019677489197142923), (2401, 0.01860251247069186), (2402, 0.0162492922500909), (2403, 0.0300662983946976), (2404, 0.03376615071885834), (2405, 0.018381799702878347), (2406, 0.1079065555588468), (2407, 0.03136837654103876), (2408, 0.056344389705250526), (2409, 0.0), (2410, 0.016716786981290085), (2411, 0.021006992686202364), (2412, 0.070036511174568), (2413, 0.027061122402023123), (2414, 0.0), (2415, 0.020750224364764976), (2416, 0.01481294264134679), (2417, 0.039063980053681543), (2418, 0.028493714957720837), (2419, 0.015664447738371636), (2420, 0.0), (2421, 0.0343755885332663), (2422, 0.014367651430936304), (2423, 0.031011075842832074), (2424, 0.04204818548433995), (2425, 0.03593734548749574), (2426, 0.010246087174287766), (2427, 0.0512807551977645), (2428, 0.055085847786699615), (2429, 0.06469042816884663), (2430, 0.013981511774860272), (2431, 0.0), (2432, 0.02676098415135287), (2433, 0.0), (2434, 0.021773007154211394), (2435, 0.0), (2436, 0.02941774376487532), (2437, 0.020793975125470952), (2438, 0.020163917126259378), (2439, 0.00804716791852107), (2440, 0.04838597010458936), (2441, 0.011166941477447888), (2442, 0.02389390743117202), (2443, 0.05466333381996607), (2444, 0.05237698393378145), (2445, 0.0), (2446, 0.0141479776404695), (2447, 0.06608707970103074), (2448, 0.02398008334679472), (2449, 0.0), (2450, 0.0), (2451, 0.0), (2452, 0.0), (2453, 0.01330541858773797), (2454, 0.0345191612820753), (2455, 0.0), (2456, 0.0), (2457, 0.013806919510916907), (2458, 0.0), (2459, 0.05555050295216435), (2460, 0.022042182075368576), (2461, 0.013966412136064919), (2462, 0.0), (2463, 0.027406150152565013), (2464, 0.10165570347251175), (2465, 0.0), (2466, 0.015683493232212), (2467, 0.014245213036650849), (2468, 0.07313659504666861), (2469, 0.03460878283645835), (2470, 0.0), (2471, 0.0), (2472, 0.0), (2473, 0.02286351979001188), (2474, 0.023198073611572143), (2475, 0.026359848532241065), (2476, 0.036743849876259185), (2477, 0.04631900681083001), (2478, 0.019542871581050433), (2479, 0.0), (2480, 0.039541530471000126), (2481, 0.049235249291506175), (2482, 0.01178638707546901), (2483, 0.0), (2484, 0.04069224972603079), (2485, 0.0), (2486, 0.07746926801573964), (2487, 0.08731771268586133), (2488, 0.019786897568624208), (2489, 0.06045607313312533), (2490, 0.036317464594214977), (2491, 0.0), (2492, 0.015113136658018056), (2493, 0.0), (2494, 0.02961404858435719), (2495, 0.014875856036476296), (2496, 0.03796164994751391), (2497, 0.0), (2498, 0.0), (2499, 0.0), (2500, 0.0), (2501, 0.04933929020761354), (2502, 0.01229235407972066), (2503, 0.009277882988458231), (2504, 0.0), (2505, 0.03258674786003859), (2506, 0.03582430734772988), (2507, 0.017551275508413577), (2508, 0.0), (2509, 0.01294336369762282), (2510, 0.011283541776177903), (2511, 0.0), (2512, 0.053912706433519544), (2513, 0.02633120881558362), (2514, 0.0), (2515, 0.0), (2516, 0.0), (2517, 0.008933179809881371), (2518, 0.0), (2519, 0.043317175516418574), (2520, 0.013511558887793552), (2521, 0.0), (2522, 0.08310281201810689), (2523, 0.0), (2524, 0.06772570946084483), (2525, 0.013608773366467458), (2526, 0.012317061204171552), (2527, 0.01130695991058988), (2528, 0.012854379905287384), (2529, 0.03226697520934763), (2530, 0.019526850196745153), (2531, 0.017006801991204648), (2532, 0.0), (2533, 0.018956104287754034), (2534, 0.00550682414906941), (2535, 0.022861024087717775), (2536, 0.0), (2537, 0.03229839625428042), (2538, 0.09215812273519547), (2539, 0.0), (2540, 0.08007751419393722), (2541, 0.021769068343652172), (2542, 0.0), (2543, 0.0), (2544, 0.027944164879154812), (2545, 0.029469345034380708), (2546, 0.059275044844529376), (2547, 0.0), (2548, 0.0), (2549, 0.0), (2550, 0.06897461343238881), (2551, 0.0), (2552, 0.013152811218840833), (2553, 0.03461727301088232), (2554, 0.016041444284245164), (2555, 0.055155377527327354), (2556, 0.017504176257440326), (2557, 0.02111119889913907), (2558, 0.15765836093600213), (2559, 0.025670849965325756), (2560, 0.053340077821926686), (2561, 0.01840709183165711), (2562, 0.0), (2563, 0.018679412105223295), (2564, 0.0), (2565, 0.027080381186060574), (2566, 0.0), (2567, 0.03182112917064795), (2568, 0.02696207266851553), (2569, 0.014478787979028632), (2570, 0.019617351929466), (2571, 0.01462588327602415), (2572, 0.02264811793948538), (2573, 0.019869153034817445), (2574, 0.0), (2575, 0.0), (2576, 0.03107710160430553), (2577, 0.0), (2578, 0.0), (2579, 0.020806619782035473), (2580, 0.03601939017309842), (2581, 0.0634790607792771), (2582, 0.027456684070778573), (2583, 0.0), (2584, 0.0), (2585, 0.01716318424055482), (2586, 0.0), (2587, 0.02024533260649112), (2588, 0.0), (2589, 0.0), (2590, 0.0), (2591, 0.013326530628268857), (2592, 0.016521475762434804), (2593, 0.01382908219914102), (2594, 0.0), (2595, 0.01616089094969152), (2596, 0.0), (2597, 0.0), (2598, 0.05672694179395845), (2599, 0.03102826294215864), (2600, 0.06737753050662373), (2601, 0.02613666550688032), (2602, 0.08262756040742439), (2603, 0.02003630322010564), (2604, 0.0), (2605, 0.0), (2606, 0.043439169600250675), (2607, 0.08823795364559056), (2608, 0.0), (2609, 0.014873068109874132), (2610, 0.014764655827601902), (2611, 0.01302808901793733), (2612, 0.014596046800857566), (2613, 0.03172549416394005), (2614, 0.021516860850559892), (2615, 0.0), (2616, 0.0), (2617, 0.06832904804422235), (2618, 0.054192458641259836), (2619, 0.020067212443551502), (2620, 0.0), (2621, 0.09310220354221146), (2622, 0.06430388456726141), (2623, 0.020897471668795197), (2624, 0.018450600919418747), (2625, 0.06369141059960544), (2626, 0.028849264822048547), (2627, 0.0), (2628, 0.025823965398621973), (2629, 0.017666125514128148), (2630, 0.03234609400089768), (2631, 0.0), (2632, 0.05105739409072765), (2633, 0.025538960769501858), (2634, 0.013455372961914997), (2635, 0.05738206083418874), (2636, 0.009813271742701798), (2637, 0.0), (2638, 0.12130410375943707), (2639, 0.02177552133596179), (2640, 0.02485306681560595), (2641, 0.0), (2642, 0.014265597131130322), (2643, 0.026104839022120463), (2644, 0.021031745059702813), (2645, 0.10270889116850654), (2646, 0.0), (2647, 0.061494425505817456), (2648, 0.0), (2649, 0.12105259595930987), (2650, 0.03897657812632629), (2651, 0.015509798503736372), (2652, 0.014392293475012882), (2653, 0.07742681767116517), (2654, 0.025351830302802945), (2655, 0.08665687965302538), (2656, 0.0), (2657, 0.0), (2658, 0.0), (2659, 0.0), (2660, 0.0058165979354084865), (2661, 0.015695086878818296), (2662, 0.0), (2663, 0.0), (2664, 0.018079136823196403), (2665, 0.007282766956679865), (2666, 0.0), (2667, 0.0), (2668, 0.09199459186939579), (2669, 0.0), (2670, 0.0), (2671, 0.0), (2672, 0.0), (2673, 0.045968859002211065), (2674, 0.018884288788779516), (2675, 0.0), (2676, 0.0), (2677, 0.0), (2678, 0.024453227182776118), (2679, 0.015737800101025184), (2680, 0.03330667274201486), (2681, 0.0), (2682, 0.022827369331553556), (2683, 0.03397565060792776), (2684, 0.0), (2685, 0.0), (2686, 0.0), (2687, 0.016559889446972748), (2688, 0.015343231941694648), (2689, 0.05528209029374506), (2690, 0.0), (2691, 0.009060584115798107), (2692, 1.0000000000000004), (2693, 0.0), (2694, 0.09486605435555444), (2695, 0.08071386955797771), (2696, 0.021408445154197243), (2697, 0.0646096661970893), (2698, 0.023750426497301618), (2699, 0.0), (2700, 0.05233793965870421), (2701, 0.0), (2702, 0.018694591820750128), (2703, 0.0), (2704, 0.0), (2705, 0.018926185572057178), (2706, 0.02167119469104667), (2707, 0.02952664014521001), (2708, 0.009628143845348946), (2709, 0.0), (2710, 0.0), (2711, 0.023157913101054715), (2712, 0.04964777709950843), (2713, 0.0), (2714, 0.037949374401490835), (2715, 0.0), (2716, 0.08461667442629589), (2717, 0.0), (2718, 0.0), (2719, 0.0), (2720, 0.017620530486608887), (2721, 0.011957833140853802), (2722, 0.031248674956527497), (2723, 0.016783034455103013), (2724, 0.03378363723792644), (2725, 0.017612007978638787), (2726, 0.01084133233259687), (2727, 0.10032615378946362), (2728, 0.012230045835037054), (2729, 0.0), (2730, 0.0), (2731, 0.03423094751688818), (2732, 0.009861703655113418), (2733, 0.03185720938949579), (2734, 0.0), (2735, 0.01573770371985279), (2736, 0.04698541231524652), (2737, 0.0), (2738, 0.01924755853284718), (2739, 0.06950158404043909), (2740, 0.02831833026831069), (2741, 0.016296625199230034), (2742, 0.07073212976581678), (2743, 0.012304345030285855), (2744, 0.024930808069477298), (2745, 0.03291548190499158), (2746, 0.015402886782227777), (2747, 0.014627977895791696), (2748, 0.02425135490777485), (2749, 0.0), (2750, 0.0), (2751, 0.10095721264581332), (2752, 0.05241326639848899), (2753, 0.01244710953073223), (2754, 0.0), (2755, 0.01638875580204274), (2756, 0.0), (2757, 0.040200994660443155), (2758, 0.011443408138865753), (2759, 0.04954383620345354), (2760, 0.010371799159008677), (2761, 0.011774843810880554), (2762, 0.03503176113312653), (2763, 0.0), (2764, 0.03260444675529518), (2765, 0.01378549005498094), (2766, 0.010030037993913644), (2767, 0.01051665138673835), (2768, 0.15875081187777684), (2769, 0.029437436618548942), (2770, 0.0), (2771, 0.06209536258155251), (2772, 0.01819557255383114), (2773, 0.0), (2774, 0.006864712754071696), (2775, 0.02540985137692073), (2776, 0.01666724966667137), (2777, 0.07886393786897755), (2778, 0.08135127847556575), (2779, 0.014586327644955788), (2780, 0.06874579340126002), (2781, 0.0), (2782, 0.015846917661140682), (2783, 0.017397823909961748), (2784, 0.08421184885146552), (2785, 0.0), (2786, 0.02041838171669917), (2787, 0.025184864628829212), (2788, 0.07313628803247864), (2789, 0.029183127794055838), (2790, 0.027059773149201445), (2791, 0.08586889667226104), (2792, 0.017226132911637947), (2793, 0.0), (2794, 0.0), (2795, 0.11235566638044658), (2796, 0.01843022989746287), (2797, 0.02038453948370715), (2798, 0.02495873751112191), (2799, 0.0), (2800, 0.013411508672778573), (2801, 0.02096677258936218), (2802, 0.013339766919021005), (2803, 0.04028341692834136), (2804, 0.0), (2805, 0.01913669313727488), (2806, 0.0), (2807, 0.046576709710908624), (2808, 0.08888858169568978), (2809, 0.02463141767615398), (2810, 0.0), (2811, 0.0), (2812, 0.022693285887603776), (2813, 0.0), (2814, 0.0), (2815, 0.06366695148761407), (2816, 0.011498536956685113), (2817, 0.0), (2818, 0.0), (2819, 0.029498871607530588), (2820, 0.030542395546908352), (2821, 0.019801488106281556), (2822, 0.043970017949708874), (2823, 0.02600526156541192), (2824, 0.0), (2825, 0.042255541015825834), (2826, 0.014656190488404768), (2827, 0.0), (2828, 0.0), (2829, 0.0), (2830, 0.016070196047312014), (2831, 0.02569546054467651), (2832, 0.026253003260419808), (2833, 0.03409833977445486), (2834, 0.02055172045061156), (2835, 0.0), (2836, 0.0), (2837, 0.0), (2838, 0.021512847795666326), (2839, 0.0), (2840, 0.05019571489955363), (2841, 0.02933560476353898), (2842, 0.0), (2843, 0.0), (2844, 0.01780922928599426), (2845, 0.012507271386571152), (2846, 0.10147836755185166), (2847, 0.024725623927627585), (2848, 0.020614313628350135), (2849, 0.10239031318881966), (2850, 0.0), (2851, 0.0), (2852, 0.0), (2853, 0.015587906429150523), (2854, 0.04814773323833257), (2855, 0.0), (2856, 0.0), (2857, 0.01970682065093322), (2858, 0.03839278829559453), (2859, 0.0652335223216017), (2860, 0.0), (2861, 0.028844482231224513), (2862, 0.013423363393965338), (2863, 0.015484382715121444), (2864, 0.0), (2865, 0.0), (2866, 0.0), (2867, 0.02596170995876269), (2868, 0.0312555674517895), (2869, 0.058196294190571), (2870, 0.029231484483623067), (2871, 0.06069822740232107), (2872, 0.02855137246966284), (2873, 0.012066743593543032), (2874, 0.04341231016641779), (2875, 0.0), (2876, 0.052373899522689914), (2877, 0.0), (2878, 0.01374516653348535), (2879, 0.06789226316981968), (2880, 0.0), (2881, 0.05311776851001225), (2882, 0.01710105923135906), (2883, 0.02556365339686435), (2884, 0.01745389902905071), (2885, 0.0), (2886, 0.06204840620495903), (2887, 0.017143589245650157), (2888, 0.015209789253998964), (2889, 0.02896392269355944), (2890, 0.02993163771686009), (2891, 0.0), (2892, 0.013877074894686365), (2893, 0.016597068298094722), (2894, 0.015163698778194918), (2895, 0.019869873037546528), (2896, 0.0), (2897, 0.0374013612188074), (2898, 0.0), (2899, 0.03737627092129716), (2900, 0.02489432691899034), (2901, 0.026859574325507878), (2902, 0.010223583450356158), (2903, 0.21871537100806543), (2904, 0.015297039981297117), (2905, 0.0), (2906, 0.0), (2907, 0.015733637241414068), (2908, 0.10254373519871354), (2909, 0.013686551607798424), (2910, 0.06966542060493744), (2911, 0.0160004055593487), (2912, 0.013834877842492418), (2913, 0.059288496283229554), (2914, 0.02638078155998357), (2915, 0.029221104449496764), (2916, 0.028239452782843916), (2917, 0.04488205748961136), (2918, 0.06957552888343223), (2919, 0.08360546835368593), (2920, 0.013081040567103585), (2921, 0.0), (2922, 0.0), (2923, 0.02980333754185254), (2924, 0.01890362245820119), (2925, 0.06359615100544103), (2926, 0.01554974185337919), (2927, 0.0), (2928, 0.0), (2929, 0.032697278840939675), (2930, 0.0), (2931, 0.03708998425961248), (2932, 0.14390909503630353), (2933, 0.023512026512529267), (2934, 0.06139481879846309), (2935, 0.007969128754150887), (2936, 0.031284830601720326), (2937, 0.02784492708035569), (2938, 0.0), (2939, 0.10528643603502474), (2940, 0.015878896890741703), (2941, 0.0), (2942, 0.02168948458431923), (2943, 0.017152520091762588), (2944, 0.06452631939669473), (2945, 0.014950151973795019), (2946, 0.016027343323949235), (2947, 0.02885260139545932), (2948, 0.06445634001100384), (2949, 0.04210437450387181), (2950, 0.0), (2951, 0.0), (2952, 0.0), (2953, 0.018182905783753096), (2954, 0.014286001724814744), (2955, 0.0), (2956, 0.0), (2957, 0.022925199019787113), (2958, 0.0), (2959, 0.03120710860084082), (2960, 0.029594613903773652), (2961, 0.09480262701676603), (2962, 0.035254835852675324), (2963, 0.0736368912284464), (2964, 0.028205361520799634), (2965, 0.013745299699859126), (2966, 0.026717592068318162), (2967, 0.0), (2968, 0.0), (2969, 0.02761359787400741), (2970, 0.02143143201125084), (2971, 0.04153557503145323), (2972, 0.013650538629774176), (2973, 0.0), (2974, 0.01982452754228996), (2975, 0.02072804074226475), (2976, 0.015289632948495736), (2977, 0.024770342516963747), (2978, 0.08005651304522773), (2979, 0.0), (2980, 0.023755118252111795), (2981, 0.03985307477911699), (2982, 0.0), (2983, 0.0), (2984, 0.026039439188328153), (2985, 0.09284558590627284), (2986, 0.02315542433887976), (2987, 0.019217197858878772), (2988, 0.054061049036238186), (2989, 0.030822481202490502), (2990, 0.0), (2991, 0.03209159735073168), (2992, 0.03440322867676618), (2993, 0.033221925873430036), (2994, 0.05396144370349705), (2995, 0.038805640083290904), (2996, 0.08743228613856331), (2997, 0.020344619425344844), (2998, 0.026020650732776013), (2999, 0.015751727252444083), (3000, 0.04189223170102579), (3001, 0.0), (3002, 0.0), (3003, 0.017551105563455602), (3004, 0.023007769888148653), (3005, 0.028842195771554613), (3006, 0.0), (3007, 0.01955042150089214), (3008, 0.009847609572467839), (3009, 0.0), (3010, 0.06884693419839447), (3011, 0.026063437606447384), (3012, 0.1343955539846317), (3013, 0.01740994303252416), (3014, 0.013819032450281658), (3015, 0.027325137539562075), (3016, 0.018613217831641153), (3017, 0.0), (3018, 0.038699679240635304), (3019, 0.13364739108216972), (3020, 0.025661028739893486), (3021, 0.0), (3022, 0.03203281883910225), (3023, 0.009267060623057028), (3024, 0.012872058635869049), (3025, 0.0), (3026, 0.01805584940839939), (3027, 0.012600133553705282), (3028, 0.013912929892373558), (3029, 0.0), (3030, 0.03191608722148565), (3031, 0.02162787435191546), (3032, 0.055420446853526414), (3033, 0.009720759265792168), (3034, 0.0), (3035, 0.0690487330974387), (3036, 0.03404781328498645), (3037, 0.02825838080974065), (3038, 0.0), (3039, 0.013484654817418553), (3040, 0.029520022248482512), (3041, 0.0), (3042, 0.03203193736788963), (3043, 0.09071134932608416), (3044, 0.020084908453702567), (3045, 0.08533936889305904), (3046, 0.02257486473158482), (3047, 0.0), (3048, 0.0), (3049, 0.058971530261827346), (3050, 0.01554563798440349), (3051, 0.02571885084206813), (3052, 0.03884609734400623), (3053, 0.0), (3054, 0.0), (3055, 0.028608263836661475), (3056, 0.012441300763264636), (3057, 0.017864123558777093), (3058, 0.0), (3059, 0.0), (3060, 0.0), (3061, 0.0), (3062, 0.020182636832041946), (3063, 0.0), (3064, 0.017233238729637026), (3065, 0.053296672248086235), (3066, 0.009158155995566566), (3067, 0.03633952935558339), (3068, 0.0), (3069, 0.01565353610736227), (3070, 0.06165355668347524), (3071, 0.01341816425986857), (3072, 0.02104543051873956), (3073, 0.0), (3074, 0.0279715080808437), (3075, 0.017009459638912584), (3076, 0.08438203766854108), (3077, 0.0), (3078, 0.0), (3079, 0.02689055025944646), (3080, 0.0), (3081, 0.023054846094307878), (3082, 0.0), (3083, 0.0), (3084, 0.017181229307649662), (3085, 0.07063518021415821), (3086, 0.09954324942541519), (3087, 0.0), (3088, 0.0), (3089, 0.0), (3090, 0.0), (3091, 0.0341885987951062), (3092, 0.0), (3093, 0.017766890178601415), (3094, 0.030691813334445487), (3095, 0.10627008554417078), (3096, 0.019523756197812304), (3097, 0.08706372424668975), (3098, 0.023710644783097423), (3099, 0.05492259591424878), (3100, 0.023386292479809154), (3101, 0.017908006528563086), (3102, 0.05099558212582732), (3103, 0.0), (3104, 0.0), (3105, 0.0), (3106, 0.0), (3107, 0.0), (3108, 0.04108568366158049), (3109, 0.0), (3110, 0.07894374809921102), (3111, 0.035144612011147734), (3112, 0.05291894730587962), (3113, 0.016659129547050663), (3114, 0.00837641088348353), (3115, 0.0), (3116, 0.017169287547965876), (3117, 0.03912550116141399), (3118, 0.07177613677038634), (3119, 0.1348250790929164), (3120, 0.05229427786382323), (3121, 0.0), (3122, 0.03685018679982495), (3123, 0.06229893579498191), (3124, 0.0273356888411655), (3125, 0.045460612304486336), (3126, 0.024690268001678898), (3127, 0.07961217107177898), (3128, 0.026895120843772782), (3129, 0.03987228766999952), (3130, 0.0), (3131, 0.02701154804920044), (3132, 0.0), (3133, 0.022814161144771153), (3134, 0.026239777825100837), (3135, 0.0249160450415717), (3136, 0.025710788766617688), (3137, 0.05601768008113042), (3138, 0.0), (3139, 0.03445577239468083), (3140, 0.02038329724914479), (3141, 0.0), (3142, 0.04669506695935093), (3143, 0.024461139032371234), (3144, 0.028607734925230634), (3145, 0.0), (3146, 0.020232679769644882), (3147, 0.01415265039538627), (3148, 0.016884325855140377), (3149, 0.038114128804620985), (3150, 0.015865676637199087), (3151, 0.023880894743219416), (3152, 0.020519438370867935), (3153, 0.06275134490298657), (3154, 0.13685316068263875), (3155, 0.0680091715801335), (3156, 0.02749074916445423), (3157, 0.06710804532062778), (3158, 0.030181958989345774), (3159, 0.019401614146125505), (3160, 0.02231257482299526), (3161, 0.025120233268605893), (3162, 0.0), (3163, 0.029165464061158164), (3164, 0.0077093570625252844), (3165, 0.025849329050550787), (3166, 0.024226202602975616), (3167, 0.012892622335168868), (3168, 0.032419503283075975), (3169, 0.0), (3170, 0.01710542003845004), (3171, 0.06712667409373142), (3172, 0.0), (3173, 0.016573634680127527), (3174, 0.015231339490535442), (3175, 0.0), (3176, 0.0), (3177, 0.0), (3178, 0.03293573585839377), (3179, 0.027170131709823818), (3180, 0.029094217435282992), (3181, 0.0), (3182, 0.014269014778128369), (3183, 0.018704396870690563), (3184, 0.016656301787138596), (3185, 0.059263719050609516), (3186, 0.016501870531511836), (3187, 0.016869786967135238), (3188, 0.0), (3189, 0.0), (3190, 0.0), (3191, 0.024399481724732906), (3192, 0.04886744037920659), (3193, 0.0), (3194, 0.012840100549152595), (3195, 0.044436589150817815), (3196, 0.04978760706678922), (3197, 0.0), (3198, 0.01531623211266531), (3199, 0.011232167291756141), (3200, 0.013557886523095789), (3201, 0.0), (3202, 0.0), (3203, 0.0), (3204, 0.0), (3205, 0.005982501831100197), (3206, 0.0188901902672159), (3207, 0.0), (3208, 0.0), (3209, 0.06342203739619333), (3210, 0.09003451106426172), (3211, 0.014486879432173822), (3212, 0.0), (3213, 0.038745621089940493), (3214, 0.019010098030577655), (3215, 0.030093572412977145), (3216, 0.015341830486599648), (3217, 0.0), (3218, 0.02522522083633324), (3219, 0.02243102018000116), (3220, 0.014262738491672915), (3221, 0.0), (3222, 0.0347449752973964), (3223, 0.0), (3224, 0.016722015075287422), (3225, 0.015244528669684723), (3226, 0.0396827840626094), (3227, 0.040506037489227), (3228, 0.0800311205539001), (3229, 0.0), (3230, 0.0183260877294269), (3231, 0.0), (3232, 0.05340870727165428), (3233, 0.040843690320658405), (3234, 0.01694507962539963), (3235, 0.018550747901877752), (3236, 0.0), (3237, 0.02356811778589351), (3238, 0.011683546464350214), (3239, 0.02562284424716945), (3240, 0.03190572852676473), (3241, 0.016296205480383033), (3242, 0.019533778290378598), (3243, 0.015158719323525758), (3244, 0.008864697276581473), (3245, 0.04952938707861157), (3246, 0.02326714483087825), (3247, 0.021924498852436237), (3248, 0.02821806021330787), (3249, 0.08457666414752789), (3250, 0.0), (3251, 0.0), (3252, 0.011735642838841764), (3253, 0.020424356300702468), (3254, 0.012654918373710685), (3255, 0.0), (3256, 0.011121982718543862), (3257, 0.023226238806427407), (3258, 0.02628096423808087), (3259, 0.04446871267804438), (3260, 0.015000020529893989), (3261, 0.0), (3262, 0.0225750026089917), (3263, 0.03235409584880831), (3264, 0.028362357604630968), (3265, 0.009808306044303232), (3266, 0.0), (3267, 0.04837631754037254), (3268, 0.01675116986027527), (3269, 0.019125032569899145), (3270, 0.0), (3271, 0.01555892169191696), (3272, 0.0), (3273, 0.021119107865374364), (3274, 0.020836622263402084), (3275, 0.09849151702562882), (3276, 0.027303738981567207), (3277, 0.0), (3278, 0.014004461248835628), (3279, 0.04117146771114239), (3280, 0.08030747426191756), (3281, 0.0), (3282, 0.021817087089403105), (3283, 0.015331239830765297), (3284, 0.05328698401219166), (3285, 0.04695570426870426), (3286, 0.0), (3287, 0.0), (3288, 0.009374671284888784), (3289, 0.0155114841121924), (3290, 0.015216904994389603), (3291, 0.03285838147675413), (3292, 0.024982238124217526), (3293, 0.08126026990147192), (3294, 0.0647425664881376), (3295, 0.022706799019493656), (3296, 0.02735694156621926), (3297, 0.038289149758387875), (3298, 0.014054030523337886), (3299, 0.03521238996423312), (3300, 0.013794877505355392), (3301, 0.01039950450193216), (3302, 0.01801181321294472), (3303, 0.040198907121908975), (3304, 0.013644875380762292), (3305, 0.0), (3306, 0.06830311128869149), (3307, 0.026802551497036416), (3308, 0.017938433222021783), (3309, 0.009686924095644634), (3310, 0.0), (3311, 0.01290770071687853), (3312, 0.0962501640596628), (3313, 0.048544049116903173), (3314, 0.015447822061306458), (3315, 0.013477838966801398), (3316, 0.016924339168235172), (3317, 0.0807149522118368), (3318, 0.0696627982162761), (3319, 0.0), (3320, 0.0), (3321, 0.0), (3322, 0.029609108580077766), (3323, 0.0), (3324, 0.0), (3325, 0.05480862169194044), (3326, 0.0800746307542738), (3327, 0.013545893327646294), (3328, 0.024331562917441596), (3329, 0.022429334772215898), (3330, 0.04222721824732763), (3331, 0.03453615206206884), (3332, 0.0), (3333, 0.0), (3334, 0.07612639614864374), (3335, 0.016236589051756043), (3336, 0.012620164730402486), (3337, 0.020029289310065885), (3338, 0.027100432020611527), (3339, 0.02141652610412492), (3340, 0.0), (3341, 0.015889643982956635), (3342, 0.04075371032634905), (3343, 0.0), (3344, 0.06330490299307727), (3345, 0.03204591986673291), (3346, 0.022633086366471333), (3347, 0.013401132251375441), (3348, 0.01537674435738033), (3349, 0.08419271603524489), (3350, 0.0), (3351, 0.0594851920523365), (3352, 0.04114237844112449), (3353, 0.018852985758314317), (3354, 0.03472766592787028), (3355, 0.018576929396792678), (3356, 0.018390589988853043), (3357, 0.019103500800552335), (3358, 0.020763975816503615), (3359, 0.02351054384790279), (3360, 0.08571239822319747), (3361, 0.02498009369348252), (3362, 0.032378875813120635), (3363, 0.02163943607179875), (3364, 0.01873259963539908), (3365, 0.010583033212282676), (3366, 0.0), (3367, 0.02380210015156732), (3368, 0.0), (3369, 0.014479012959836116), (3370, 0.07718111515222659), (3371, 0.0), (3372, 0.01780307210651287), (3373, 0.04167637519551329), (3374, 0.12912573274975392), (3375, 0.02219447785075349), (3376, 0.053456305924345714), (3377, 0.11712217755282617), (3378, 0.0), (3379, 0.0142573639925817), (3380, 0.012897132728402635), (3381, 0.013846093135093803), (3382, 0.06398271518907239), (3383, 0.0), (3384, 0.09438295570072347), (3385, 0.02863691869022745), (3386, 0.025041603511395817), (3387, 0.042083669641818915), (3388, 0.015480674360026866), (3389, 0.02159621024707184), (3390, 0.014200297605919959), (3391, 0.02549104783621937), (3392, 0.009508025834888426), (3393, 0.01158800145661893), (3394, 0.0), (3395, 0.02353928864697646), (3396, 0.029609108580077766), (3397, 0.0), (3398, 0.026953631557936293), (3399, 0.023290675917305124), (3400, 0.0), (3401, 0.0), (3402, 0.01425526923386301), (3403, 0.08234228385904646), (3404, 0.026351075377434835), (3405, 0.021828988219591717), (3406, 0.01592110834210676), (3407, 0.061945621152364926), (3408, 0.017893005833679834), (3409, 0.022235345169072086), (3410, 0.018147842423349637), (3411, 0.0), (3412, 0.014775379951197343), (3413, 0.019338714360118907), (3414, 0.01807150071544993), (3415, 0.0), (3416, 0.07028030766714005), (3417, 0.0174521408446467), (3418, 0.052746496573840326), (3419, 0.01640641706831821), (3420, 0.032983936994097365), (3421, 0.03074601800126308), (3422, 0.0), (3423, 0.03857054459788414), (3424, 0.0), (3425, 0.02095710865655807), (3426, 0.03471766996820056), (3427, 0.0), (3428, 0.0), (3429, 0.025248982377851763), (3430, 0.033189284719325855), (3431, 0.01584727772606651), (3432, 0.026478704335284854), (3433, 0.05980730118507628), (3434, 0.020041629711767577), (3435, 0.0408758940287636), (3436, 0.0427508738703825), (3437, 0.08746015785956163), (3438, 0.033485490010271485), (3439, 0.0), (3440, 0.03177537943049803), (3441, 0.014680161233405436), (3442, 0.0), (3443, 0.026820107646321107), (3444, 0.0), (3445, 0.014054606954219827), (3446, 0.05708519527103023), (3447, 0.04821643808921274), (3448, 0.03692344099334396), (3449, 0.016048098347105536), (3450, 0.1127504910312659), (3451, 0.028893386648868865), (3452, 0.037718817474032565), (3453, 0.022913603090414597), (3454, 0.0), (3455, 0.014200051479007039), (3456, 0.022587289635488506), (3457, 0.009176114032961591), (3458, 0.015096745639104755), (3459, 0.0), (3460, 0.03555616832401225), (3461, 0.0), (3462, 0.022716083246281247), (3463, 0.045333820408019865), (3464, 0.04254317975818994), (3465, 0.1292306109656762), (3466, 0.0942627932513613), (3467, 0.0), (3468, 0.02852185444175105), (3469, 0.026637570345797473), (3470, 0.029447320911419248), (3471, 0.05760496053343992), (3472, 0.0), (3473, 0.0), (3474, 0.038889274357371266), (3475, 0.0), (3476, 0.0), (3477, 0.014957739915385003), (3478, 0.015156078364459638), (3479, 0.02634129431315236), (3480, 0.0438714570410659), (3481, 0.0), (3482, 0.0), (3483, 0.0937224700226928), (3484, 0.019711110327986035), (3485, 0.0), (3486, 0.07769698845639399), (3487, 0.04003833559216471), (3488, 0.031704776287908694), (3489, 0.0), (3490, 0.0), (3491, 0.014866672448909473), (3492, 0.038514001609293046), (3493, 0.014597126786746335), (3494, 0.0), (3495, 0.024835759854056297), (3496, 0.016803257371993358), (3497, 0.01956308370347948), (3498, 0.08137568096316397), (3499, 0.03975539224086533), (3500, 0.016685682093783943), (3501, 0.05348356383676337), (3502, 0.03544647873243257), (3503, 0.01288413634830677), (3504, 0.08288570615824438), (3505, 0.0), (3506, 0.015725268090920123), (3507, 0.06907274969071431), (3508, 0.055745677209402135), (3509, 0.008196715157088233), (3510, 0.0), (3511, 0.016754608925702776), (3512, 0.026011432372783274), (3513, 0.039150824661399956), (3514, 0.041240911320379534), (3515, 0.01032186081692076), (3516, 0.04340413578223908), (3517, 0.014798571963281286), (3518, 0.06181212468086008), (3519, 0.0), (3520, 0.027016914414601956), (3521, 0.09265289534098621), (3522, 0.0), (3523, 0.03335553240024411), (3524, 0.03171834437405839), (3525, 0.0), (3526, 0.019709262918474406), (3527, 0.021922274973101983), (3528, 0.023648968664236193), (3529, 0.0), (3530, 0.0), (3531, 0.03766277738877251), (3532, 0.0), (3533, 0.0), (3534, 0.019936239970315482), (3535, 0.07671862288135828), (3536, 0.025063848869204538), (3537, 0.01809375108123856), (3538, 0.012597625575253072), (3539, 0.0), (3540, 0.018841504480985073), (3541, 0.03630864737697599), (3542, 0.017663896159886446), (3543, 0.0), (3544, 0.025168505584665685), (3545, 0.0), (3546, 0.010138787281819068), (3547, 0.0), (3548, 0.014578182238626058), (3549, 0.0), (3550, 0.0), (3551, 0.015813480565528403), (3552, 0.04075759283751355), (3553, 0.10054973389964561), (3554, 0.0), (3555, 0.025036242339945475), (3556, 0.07493349700187571), (3557, 0.01707595060753175), (3558, 0.03236589978586519), (3559, 0.0072076829365534684), (3560, 0.01707275722571996), (3561, 0.025557803722070047), (3562, 0.0), (3563, 0.006494610516323364), (3564, 0.013435010950186062), (3565, 0.014692560661789658), (3566, 0.00844662301704626), (3567, 0.0), (3568, 0.0), (3569, 0.01165797342420223), (3570, 0.044780319897688686), (3571, 0.03987129673172364), (3572, 0.0), (3573, 0.0), (3574, 0.0), (3575, 0.011669607146088954), (3576, 0.031154899848865304), (3577, 0.018016628023807317), (3578, 0.0), (3579, 0.02150146509784323), (3580, 0.022154493133482833), (3581, 0.0), (3582, 0.06346259585594288), (3583, 0.026110624301996857), (3584, 0.028734020873966967), (3585, 0.0), (3586, 0.043145851785713216), (3587, 0.016074703693351174), (3588, 0.043854653810268304), (3589, 0.0), (3590, 0.023436025767603327), (3591, 0.0), (3592, 0.0), (3593, 0.017006564603946835), (3594, 0.010260376982549611), (3595, 0.0), (3596, 0.025422045151914117), (3597, 0.09163801364925492), (3598, 0.008471130219657143), (3599, 0.027395891521041823), (3600, 0.0), (3601, 0.019422188782389226), (3602, 0.025300836070685728), (3603, 0.0), (3604, 0.02970356265462812), (3605, 0.02401466388207063), (3606, 0.014316474478875369), (3607, 0.0), (3608, 0.01581051457765713), (3609, 0.0), (3610, 0.0), (3611, 0.017269577782026493), (3612, 0.05134213032247267), (3613, 0.024054623383324075), (3614, 0.012861321234849074), (3615, 0.01971714871512385), (3616, 0.021106260845514705), (3617, 0.0), (3618, 0.04702207477299609), (3619, 0.02255251119363989), (3620, 0.021627543730060737), (3621, 0.020246599559775258), (3622, 0.0), (3623, 0.03893655661246016), (3624, 0.040984251882756555), (3625, 0.0), (3626, 0.010829348267573083), (3627, 0.015866221100317667), (3628, 0.0), (3629, 0.012381196727518359), (3630, 0.01861781879604398), (3631, 0.0), (3632, 0.010307974200074276), (3633, 0.0), (3634, 0.019471583137481506), (3635, 0.07088195725709286), (3636, 0.02011346555056599), (3637, 0.07329912727614597), (3638, 0.05574444349498751), (3639, 0.017259655495723464), (3640, 0.0947323600108946), (3641, 0.013119020021398822), (3642, 0.09205323525119566), (3643, 0.0247866925637471), (3644, 0.0), (3645, 0.04004744275966385), (3646, 0.014315478249469707), (3647, 0.016310553394999292), (3648, 0.009745918341233685), (3649, 0.0), (3650, 0.0), (3651, 0.023919046423858503), (3652, 0.12333562015134314), (3653, 0.044443471061142575), (3654, 0.016112569471205568), (3655, 0.07923030514932648), (3656, 0.0213174208930033), (3657, 0.012490871960029511), (3658, 0.03232374281949657), (3659, 0.0762114682618439), (3660, 0.07641251853253977), (3661, 0.06912762163429853), (3662, 0.0), (3663, 0.0), (3664, 0.026431173679326306), (3665, 0.04169540222496582), (3666, 0.04989471336975661), (3667, 0.0223187730002546), (3668, 0.014858845729816291), (3669, 0.01317904916570842), (3670, 0.0822511506720495), (3671, 0.0), (3672, 0.027183714853884603), (3673, 0.01472876282982317), (3674, 0.05366377488177519), (3675, 0.17065553740382555), (3676, 0.0), (3677, 0.017205300076106676), (3678, 0.017260975607248194), (3679, 0.03596058193242662), (3680, 0.06042802727863979), (3681, 0.0), (3682, 0.0), (3683, 0.0), (3684, 0.07627378116641567), (3685, 0.0), (3686, 0.0), (3687, 0.030102697385022983), (3688, 0.0), (3689, 0.024199679414294177), (3690, 0.0), (3691, 0.013779902483494482), (3692, 0.0691014570577273), (3693, 0.0), (3694, 0.08899152948489086), (3695, 0.0), (3696, 0.0404751308426775), (3697, 0.0), (3698, 0.0), (3699, 0.07866916435417576), (3700, 0.0), (3701, 0.015258734026938161), (3702, 0.0), (3703, 0.0), (3704, 0.055699629884044144), (3705, 0.035079483993449484), (3706, 0.01402063613391304), (3707, 0.019002481134289283), (3708, 0.10139620879436739), (3709, 0.0), (3710, 0.028939066357340937), (3711, 0.07492737123127001), (3712, 0.0), (3713, 0.07863680175898809), (3714, 0.01853907670987136), (3715, 0.04211103307318095), (3716, 0.0), (3717, 0.0), (3718, 0.0), (3719, 0.026895120843772782), (3720, 0.024046049672658665), (3721, 0.04347562662845478), (3722, 0.0), (3723, 0.027146912022765427), (3724, 0.0), (3725, 0.01300479157616391), (3726, 0.0), (3727, 0.04345513233960283), (3728, 0.09317195469125926), (3729, 0.02268313729354415), (3730, 0.0), (3731, 0.04288968771227825), (3732, 0.0), (3733, 0.024618509742200173), (3734, 0.03919263018683491), (3735, 0.0), (3736, 0.0), (3737, 0.021744251206669157), (3738, 0.0), (3739, 0.014732693009935316), (3740, 0.0), (3741, 0.07693086477682558), (3742, 0.012276705107994109), (3743, 0.0), (3744, 0.03392155377700368), (3745, 0.01834747823898246), (3746, 0.06433666442455786), (3747, 0.03664617541559938), (3748, 0.009476318374750466), (3749, 0.017813242029432824), (3750, 0.018874853769293654), (3751, 0.018231055716409896), (3752, 0.007853325249804626), (3753, 0.0), (3754, 0.02137499080842322), (3755, 0.015222830486597099), (3756, 0.06269529887071341), (3757, 0.015981921911014083), (3758, 0.0), (3759, 0.0), (3760, 0.0), (3761, 0.0), (3762, 0.027681084224020897), (3763, 0.01818177449147809), (3764, 0.0), (3765, 0.014013667093969732), (3766, 0.11245701853536513), (3767, 0.023114138898292225), (3768, 0.08288176235923424), (3769, 0.026294338329086567), (3770, 0.01719771517991548), (3771, 0.046703648063192), (3772, 0.019103181012615513), (3773, 0.0), (3774, 0.028612724177178025), (3775, 0.060471760404289976), (3776, 0.023380710031597002), (3777, 0.08798461429177312), (3778, 0.04427840771912913), (3779, 0.019255753691939173), (3780, 0.046162832430812005), (3781, 0.01789671300641182), (3782, 0.028065840409995803), (3783, 0.0), (3784, 0.02330710799774549), (3785, 0.0), (3786, 0.0), (3787, 0.029719417694706884), (3788, 0.02756178266665032), (3789, 0.0), (3790, 0.0), (3791, 0.0), (3792, 0.014589895712325038), (3793, 0.028049730759754515), (3794, 0.062217586101065224), (3795, 0.013090907561942595), (3796, 0.0), (3797, 0.052507923039644716), (3798, 0.0), (3799, 0.01815876998514864), (3800, 0.0), (3801, 0.08649016432169879), (3802, 0.03319397381210248), (3803, 0.0), (3804, 0.01903990924563627), (3805, 0.0), (3806, 0.0261822067363346), (3807, 0.07574830023209421), (3808, 0.0), (3809, 0.016603920784740017), (3810, 0.06290793095195575), (3811, 0.0139214273139751), (3812, 0.0), (3813, 0.020428294492931418), (3814, 0.029213435217290015), (3815, 0.029164191862704098), (3816, 0.0), (3817, 0.0), (3818, 0.0), (3819, 0.07500807216836411), (3820, 0.0), (3821, 0.02197971262571885), (3822, 0.029183391614894905), (3823, 0.024264195159277798), (3824, 0.028661172128135345), (3825, 0.008844711397053872), (3826, 0.02219491516534233), (3827, 0.0225750026089917), (3828, 0.10553076899443), (3829, 0.02084893061367167), (3830, 0.0), (3831, 0.0), (3832, 0.027276471840592648), (3833, 0.028904857736133157), (3834, 0.0), (3835, 0.04882717467383143), (3836, 0.0), (3837, 0.0), (3838, 0.0), (3839, 0.043677578836078694), (3840, 0.0), (3841, 0.03686404905371223), (3842, 0.01948120852029789), (3843, 0.0), (3844, 0.04032569690866095), (3845, 0.01487379998066996), (3846, 0.0), (3847, 0.0), (3848, 0.0327896995244298), (3849, 0.07110996519954842), (3850, 0.027607397328655636), (3851, 0.0), (3852, 0.02267016406208604), (3853, 0.04552402415477119), (3854, 0.07756039184805692), (3855, 0.012117706976354607), (3856, 0.0), (3857, 0.047630015148154986), (3858, 0.0), (3859, 0.0), (3860, 0.0592819683987649), (3861, 0.020049425561559187), (3862, 0.08110804384004225), (3863, 0.013080198341203676), (3864, 0.008816854882851452), (3865, 0.007620059319614704), (3866, 0.01733685583710555), (3867, 0.017197293527092355), (3868, 0.0135980999343024), (3869, 0.0), (3870, 0.0), (3871, 0.0), (3872, 0.058587975686147646), (3873, 0.01664064166817052), (3874, 0.026188207033486635), (3875, 0.03229152749481096), (3876, 0.036200867377427386), (3877, 0.01718729274749603), (3878, 0.022344364360164674), (3879, 0.0), (3880, 0.021669990560557007), (3881, 0.02891992976567098), (3882, 0.015947565092175046), (3883, 0.11590798943525202), (3884, 0.026693043516820704), (3885, 0.0), (3886, 0.024506349936433885), (3887, 0.0), (3888, 0.050264930781334864), (3889, 0.017914316541820106), (3890, 0.014557657107202568), (3891, 0.0), (3892, 0.028048419881883457), (3893, 0.017067603578156138), (3894, 0.013204615506724577), (3895, 0.030420445546409394), (3896, 0.0), (3897, 0.035433270772120176), (3898, 0.020609394277517432), (3899, 0.03754852880502673), (3900, 0.015590049038046132), (3901, 0.058056899140401075), (3902, 0.015558803322030775), (3903, 0.028013393950375776), (3904, 0.020011468671811156), (3905, 0.04234835607146337), (3906, 0.014562302860359734), (3907, 0.02669633727016551), (3908, 0.030358793485516657), (3909, 0.009117609736736037), (3910, 0.03706466866332489), (3911, 0.01836770046100037), (3912, 0.0), (3913, 0.014027950271048082), (3914, 0.0), (3915, 0.01574848145417301), (3916, 0.0), (3917, 0.017016458730333455), (3918, 0.0), (3919, 0.024784240473825325), (3920, 0.01749672374116066), (3921, 0.0), (3922, 0.02825838080974065), (3923, 0.0), (3924, 0.06514928737507099), (3925, 0.02999830458956589), (3926, 0.010584848939479563), (3927, 0.04407375591055286), (3928, 0.014966793440382405), (3929, 0.0), (3930, 0.0), (3931, 0.0), (3932, 0.02010500430283488), (3933, 0.0), (3934, 0.03160059395040343), (3935, 0.022206518635172298), (3936, 0.0), (3937, 0.0), (3938, 0.03112000210883255), (3939, 0.03634842578530995), (3940, 0.007631873574525912), (3941, 0.04970025852773676), (3942, 0.04184270200523204), (3943, 0.0), (3944, 0.022131070077424434), (3945, 0.03335553240024411), (3946, 0.14736282241945087), (3947, 0.07269241637245503), (3948, 0.0), (3949, 0.07824048231818832), (3950, 0.0), (3951, 0.03449554133644368), (3952, 0.027486559461414012), (3953, 0.013541132013291188), (3954, 0.021629299919703852), (3955, 0.05586101659455882), (3956, 0.04758592884347815), (3957, 0.04120892557369023), (3958, 0.02172649726156343), (3959, 0.12265724363794614), (3960, 0.04362823427948815), (3961, 0.11397753453491298), (3962, 0.02020813286524554), (3963, 0.0), (3964, 0.0), (3965, 0.0), (3966, 0.022588384353865735), (3967, 0.025821471486571605), (3968, 0.0), (3969, 0.0), (3970, 0.025374607784831447), (3971, 0.0), (3972, 0.0), (3973, 0.08419404417127688), (3974, 0.09998144193599298), (3975, 0.03962424918822194), (3976, 0.025618243662672607), (3977, 0.0), (3978, 0.09441892287566536), (3979, 0.0), (3980, 0.0), (3981, 0.0), (3982, 0.0), (3983, 0.017335492401006382), (3984, 0.07422801038233946), (3985, 0.0), (3986, 0.01538441816564121), (3987, 0.01698681771471195), (3988, 0.0), (3989, 0.021447566198708547), (3990, 0.03058423244663993), (3991, 0.0), (3992, 0.07099313130664686), (3993, 0.0630077976660582), (3994, 0.0), (3995, 0.02834205058194296), (3996, 0.0), (3997, 0.030119641282164815), (3998, 0.00850167286131774), (3999, 0.058856250979874236), (4000, 0.08290227389408186), (4001, 0.010029479827517002), (4002, 0.021113290164817018), (4003, 0.0), (4004, 0.10825344320527441), (4005, 0.04642438057242099), (4006, 0.0), (4007, 0.07676463973638757), (4008, 0.009470649004874944), (4009, 0.008737290996555971), (4010, 0.0), (4011, 0.013991067434437635), (4012, 0.02599643070297475), (4013, 0.0548780742885005), (4014, 0.02504193163303399), (4015, 0.011466321375755711), (4016, 0.04405506274069371), (4017, 0.02623093586877834), (4018, 0.0), (4019, 0.026559982180633823), (4020, 0.014330884251160345), (4021, 0.0), (4022, 0.0), (4023, 0.08186908827912137), (4024, 0.017427025713969254), (4025, 0.026144737465502103), (4026, 0.0), (4027, 0.0), (4028, 0.03612986542052747), (4029, 0.0), (4030, 0.029609108580077766), (4031, 0.0), (4032, 0.030165633258980466), (4033, 0.05867834320450776), (4034, 0.0), (4035, 0.00792330315859977), (4036, 0.014300502782012668), (4037, 0.0), (4038, 0.04324147551454782), (4039, 0.02514926188973961), (4040, 0.0), (4041, 0.0), (4042, 0.02286283180888568), (4043, 0.03740102238105029), (4044, 0.02585955673550478), (4045, 0.04275334012218661), (4046, 0.04227008029196065), (4047, 0.04859367533357183), (4048, 0.09036346493343259), (4049, 0.015682896129851232), (4050, 0.0654459986686852), (4051, 0.01613244816868128), (4052, 0.0284791185817631), (4053, 0.07681273003703681), (4054, 0.015327799125380027), (4055, 0.00793204722896441), (4056, 0.01456416506604615), (4057, 0.009759382903249727), (4058, 0.0), (4059, 0.014556457536610036), (4060, 0.062212794346361025), (4061, 0.010846273628466118), (4062, 0.12194961924132339), (4063, 0.0), (4064, 0.0), (4065, 0.0), (4066, 0.012830530231871775), (4067, 0.0), (4068, 0.08372997603826993), (4069, 0.013883874845284819), (4070, 0.0), (4071, 0.025396051915391432), (4072, 0.0), (4073, 0.0), (4074, 0.012836597591009288), (4075, 0.02030879536235432), (4076, 0.02770582962499621), (4077, 0.010084917534392198), (4078, 0.0), (4079, 0.02255855761590637), (4080, 0.015861836038075536), (4081, 0.0382094468967759), (4082, 0.02397280162342375), (4083, 0.01563307040271214), (4084, 0.0), (4085, 0.014469442211648656), (4086, 0.0), (4087, 0.016537871414186413), (4088, 0.08400878305133413), (4089, 0.043136590634840856), (4090, 0.029112583243131842), (4091, 0.029219814504366514), (4092, 0.06787555400737448), (4093, 0.04007628481603048), (4094, 0.048573902078250755), (4095, 0.06970411445130703), (4096, 0.05672700008777649), (4097, 0.0), (4098, 0.05204681662608794), (4099, 0.008659515147312065), (4100, 0.0), (4101, 0.015648670245569714), (4102, 0.02427295736014685), (4103, 0.025048323049836094), (4104, 0.013862820616110398), (4105, 0.047270098503940115), (4106, 0.03119844070169537), (4107, 0.020648259037779063), (4108, 0.0), (4109, 0.0), (4110, 0.007412678994335262), (4111, 0.019184744349050258), (4112, 0.0), (4113, 0.015458774795124464), (4114, 0.0), (4115, 0.0), (4116, 0.0969771320855391), (4117, 0.018628411351743944), (4118, 0.04877222222253443), (4119, 0.03089564464100866), (4120, 0.03389994150173114), (4121, 0.07480278023498127), (4122, 0.05501658455285946), (4123, 0.08425266281454301), (4124, 0.07458464323396383), (4125, 0.0), (4126, 0.028670078794656707), (4127, 0.0), (4128, 0.0), (4129, 0.015352476583004855), (4130, 0.015382171156150336), (4131, 0.0), (4132, 0.016088503262739674), (4133, 0.0572352510324325), (4134, 0.04677245156722433), (4135, 0.013480818176056567), (4136, 0.015526572571149965), (4137, 0.014152602807021275), (4138, 0.019776676255101606), (4139, 0.01315803466512639), (4140, 0.017217521481517225), (4141, 0.08140239959182068), (4142, 0.01526622729663876), (4143, 0.011392024120001357), (4144, 0.0), (4145, 0.01651015172903537), (4146, 0.0), (4147, 0.020579732037946268), (4148, 0.07165184369972122), (4149, 0.03167572221778029), (4150, 0.0), (4151, 0.02305359563150346), (4152, 0.012616148462264698), (4153, 0.0), (4154, 0.03272927326735468), (4155, 0.014169149250800827), (4156, 0.03930269958187251), (4157, 0.0), (4158, 0.030083839170420727), (4159, 0.0), (4160, 0.020450096411514927), (4161, 0.020494066887503114), (4162, 0.0357012240186199), (4163, 0.07261668714818582), (4164, 0.06205604357542642), (4165, 0.04260025911339682), (4166, 0.0), (4167, 0.0), (4168, 0.0), (4169, 0.018024403342644824), (4170, 0.0), (4171, 0.010308762116378205), (4172, 0.03792602388583775), (4173, 0.0), (4174, 0.0126837351710624), (4175, 0.08254464668102114), (4176, 0.05866959277599761), (4177, 0.046893748715335505), (4178, 0.08290358897516686), (4179, 0.0), (4180, 0.0), (4181, 0.0), (4182, 0.01740439613846001), (4183, 0.014706341781499585), (4184, 0.02194108914002074), (4185, 0.0), (4186, 0.0), (4187, 0.06253545143733447), (4188, 0.0), (4189, 0.09145067214765049), (4190, 0.0), (4191, 0.0), (4192, 0.049123964319242104), (4193, 0.02594880888226482), (4194, 0.0), (4195, 0.0), (4196, 0.009902858189032799), (4197, 0.014882541104438343), (4198, 0.0), (4199, 0.0), (4200, 0.011207485797108936), (4201, 0.0), (4202, 0.024450772871504187), (4203, 0.08692973323376155), (4204, 0.0), (4205, 0.02063047509127889), (4206, 0.016129476766256957), (4207, 0.0), (4208, 0.042125432633348954), (4209, 0.024043484023843348), (4210, 0.008621022842728728), (4211, 0.025088635917650783), (4212, 0.0), (4213, 0.019296217992929306), (4214, 0.0), (4215, 0.0), (4216, 0.06465295194705781), (4217, 0.008977109472836135), (4218, 0.0), (4219, 0.04767230535991396), (4220, 0.01364786663196436), (4221, 0.0327148047355139), (4222, 0.02855137246966284), (4223, 0.0), (4224, 0.0), (4225, 0.020749909177795827), (4226, 0.012873246294486022), (4227, 0.08076056382497601), (4228, 0.02116729397170698), (4229, 0.0), (4230, 0.033502742839077074), (4231, 0.12691318159150558), (4232, 0.05239086119589881), (4233, 0.04353552859637177), (4234, 0.0), (4235, 0.06498657627590859), (4236, 0.009811260185070548), (4237, 0.0), (4238, 0.0), (4239, 0.0), (4240, 0.027833526388251636), (4241, 0.0), (4242, 0.14859212634443114), (4243, 0.02735694156621926), (4244, 0.11411635363720044), (4245, 0.016943946568018835), (4246, 0.07134553623159014), (4247, 0.013069504475250963), (4248, 0.027036099355937933), (4249, 0.04753787469272783), (4250, 0.0), (4251, 0.0312564840566756), (4252, 0.08858152593976856), (4253, 0.0), (4254, 0.020286243343565248), (4255, 0.050170852564801416), (4256, 0.0), (4257, 0.021491062266169474), (4258, 0.0), (4259, 0.017875194805700417), (4260, 0.0), (4261, 0.02862989301087238), (4262, 0.01699394801238937), (4263, 0.015977735221909435), (4264, 0.027646472039263133), (4265, 0.07452189985512864), (4266, 0.015960998848246165), (4267, 0.017907117752357614), (4268, 0.11749707486291577), (4269, 0.01670056051363285), (4270, 0.0), (4271, 0.0), (4272, 0.009540632471108042), (4273, 0.017150983523509158), (4274, 0.024703049347881485), (4275, 0.02892575407706441), (4276, 0.0), (4277, 0.014090486267798104), (4278, 0.0), (4279, 0.0), (4280, 0.019790370385040414), (4281, 0.06794382947811281), (4282, 0.03588470947487618), (4283, 0.062908338988728), (4284, 0.04292322952925788), (4285, 0.03658031380731648), (4286, 0.01592862763311998), (4287, 0.016840520692446036), (4288, 0.12196749432785711), (4289, 0.04525640328686854), (4290, 0.02454446952337845), (4291, 0.0), (4292, 0.027447749297963366), (4293, 0.0723172925902304), (4294, 0.0), (4295, 0.018249322219842795), (4296, 0.016878567007621994), (4297, 0.0), (4298, 0.02425832553105937), (4299, 0.03975629340860419), (4300, 0.0), (4301, 0.016474476260922622), (4302, 0.0), (4303, 0.008322328267665574), (4304, 0.016951356805206434), (4305, 0.0), (4306, 0.022356649703619214), (4307, 0.03537855669376444), (4308, 0.022498524988813936), (4309, 0.043901866810610694), (4310, 0.031436471691266364), (4311, 0.018513229944418886), (4312, 0.029368865226005687), (4313, 0.0), (4314, 0.021874901426846085), (4315, 0.0), (4316, 0.0), (4317, 0.0), (4318, 0.02083559840700869), (4319, 0.0), (4320, 0.01595151773568893), (4321, 0.032065773069130415), (4322, 0.025139398725125765), (4323, 0.0), (4324, 0.0), (4325, 0.06146966442017782), (4326, 0.01911769381514503), (4327, 0.0), (4328, 0.024284202269948013), (4329, 0.0), (4330, 0.01606032629704957), (4331, 0.038775062394486026), (4332, 0.0), (4333, 0.018780945057186405), (4334, 0.01603749830326477), (4335, 0.023857839540574632), (4336, 0.021875467401914758), (4337, 0.04463727315217743), (4338, 0.0), (4339, 0.024720208818702533), (4340, 0.016324833293169066), (4341, 0.0), (4342, 0.009622173824240219), (4343, 0.016306979887470978), (4344, 0.039267809631228556), (4345, 0.012811645937679788), (4346, 0.0), (4347, 0.0), (4348, 0.015732928724736212), (4349, 0.039150236167500296), (4350, 0.01275160370435531), (4351, 0.010318427625327814), (4352, 0.0), (4353, 0.0), (4354, 0.017801769540168908), (4355, 0.015471984546686761), (4356, 0.015196549488744058), (4357, 0.015235794890024634), (4358, 0.0), (4359, 0.013865647039111105), (4360, 0.028092120418721674), (4361, 0.020428057916727305), (4362, 0.09678378622478989), (4363, 0.017832764495401075), (4364, 0.0), (4365, 0.021153755478615324), (4366, 0.04500613671919647), (4367, 0.009494433667991754), (4368, 0.017575792413556706), (4369, 0.019892770061892148), (4370, 0.0), (4371, 0.02736523179658068), (4372, 0.0), (4373, 0.007084782741060221), (4374, 0.07871445831633997), (4375, 0.15123445985105624), (4376, 0.027381548080461424), (4377, 0.0283911109316893), (4378, 0.06622350923363886), (4379, 0.0813419401647284), (4380, 0.09350512692767746), (4381, 0.01530733348469083), (4382, 0.0413791675471033), (4383, 0.02827465148398221), (4384, 0.029491621409075436), (4385, 0.008407669974848169), (4386, 0.01751899965262462), (4387, 0.08068861460481008), (4388, 0.009703509920053874), (4389, 0.03224240658216839), (4390, 0.05270502226832995), (4391, 0.018490993039230522), (4392, 0.028104879995914257), (4393, 0.0), (4394, 0.014341165793398569), (4395, 0.0489925951559744), (4396, 0.07036319232683344), (4397, 0.01874275887762273), (4398, 0.04919655307761942), (4399, 0.036104857388261115), (4400, 0.025673222357292844), (4401, 0.01653631528797684), (4402, 0.03751102357492607), (4403, 0.13933293600665808), (4404, 0.0), (4405, 0.0), (4406, 0.0), (4407, 0.02170327184192061), (4408, 0.0), (4409, 0.018586311422257317), (4410, 0.0), (4411, 0.012619969150462094), (4412, 0.060990288785125316), (4413, 0.0), (4414, 0.0), (4415, 0.0), (4416, 0.02185714823701988), (4417, 0.0), (4418, 0.023135558399751222), (4419, 0.021412623411091333), (4420, 0.015069143029034853), (4421, 0.0), (4422, 0.016762078087550474), (4423, 0.03024941657221335), (4424, 0.0), (4425, 0.0), (4426, 0.024783776565288285), (4427, 0.01629526432100204), (4428, 0.012841740087921502), (4429, 0.013556876156640767), (4430, 0.04689056225358808), (4431, 0.06092564051925067), (4432, 0.03581098206685615), (4433, 0.0), (4434, 0.0), (4435, 0.05595477946910588), (4436, 0.0985617786654437), (4437, 0.0), (4438, 0.026772448045501312), (4439, 0.0), (4440, 0.07524625165400331), (4441, 0.027453686468249017), (4442, 0.05145215533520637), (4443, 0.058688862899901224), (4444, 0.06871798564885861), (4445, 0.011960845708326558), (4446, 0.015795208760246777), (4447, 0.0), (4448, 0.016663959768827504), (4449, 0.0), (4450, 0.0834588692532729), (4451, 0.0), (4452, 0.0), (4453, 0.0), (4454, 0.0), (4455, 0.0), (4456, 0.07020066377608591), (4457, 0.0), (4458, 0.02735694156621926), (4459, 0.008616867709189036), (4460, 0.0), (4461, 0.021123636050629575), (4462, 0.031732135831469055), (4463, 0.0), (4464, 0.04019633800809833), (4465, 0.08847656988436785), (4466, 0.05271952162790209), (4467, 0.01043886568371916), (4468, 0.022833730539217275), (4469, 0.11884999357425391), (4470, 0.045081842114165056), (4471, 0.017926683518478936), (4472, 0.014459393367515592), (4473, 0.012156997996320109), (4474, 0.09462356423095976), (4475, 0.09215461318042692), (4476, 0.013212701998798053), (4477, 0.07614536563401844), (4478, 0.0), (4479, 0.012755491646981828), (4480, 0.0), (4481, 0.06114606103273518), (4482, 0.022508176165823526), (4483, 0.0), (4484, 0.02501121545255989), (4485, 0.0), (4486, 0.053058704124049776), (4487, 0.013753297093153058), (4488, 0.023281536172814355), (4489, 0.0157372226975538), (4490, 0.05105428470798634), (4491, 0.0), (4492, 0.027012742080631147), (4493, 0.0), (4494, 0.04607244263319954), (4495, 0.016650521322586216), (4496, 0.0), (4497, 0.018749956599656194), (4498, 0.0), (4499, 0.0), (4500, 0.0), (4501, 0.016098743898555003), (4502, 0.04756697112815952), (4503, 0.08065380905295524), (4504, 0.035523315769659385), (4505, 0.019092791251905793), (4506, 0.0), (4507, 0.020454183310057238), (4508, 0.0), (4509, 0.0), (4510, 0.0761056473294994), (4511, 0.024989145462553347), (4512, 0.14588746836358815), (4513, 0.023997301522746355), (4514, 0.05929041959598484), (4515, 0.03807537965821596), (4516, 0.017981670199739033), (4517, 0.05821380220648204), (4518, 0.03792564451528099), (4519, 0.0), (4520, 0.015900095812353535), (4521, 0.024141499196011378), (4522, 0.07529430215113299), (4523, 0.035928616542430104), (4524, 0.050945606075329775), (4525, 0.0), (4526, 0.0), (4527, 0.036023643707646484), (4528, 0.019512716258758573), (4529, 0.025325309310872093), (4530, 0.01508206475094235), (4531, 0.08921620466332203), (4532, 0.0), (4533, 0.048196152884940516), (4534, 0.05690148462532022), (4535, 0.016062791996468345), (4536, 0.014764636524094942), (4537, 0.05319477064245754), (4538, 0.07220021192218024), (4539, 0.0), (4540, 0.032977374822491023), (4541, 0.0), (4542, 0.0), (4543, 0.07689571773454648), (4544, 0.027372276534945776), (4545, 0.017248729726513347), (4546, 0.061653041405804576), (4547, 0.0), (4548, 0.027511621986699306), (4549, 0.0), (4550, 0.012844719066677397), (4551, 0.06229103696185148), (4552, 0.028245834541628774), (4553, 0.06034480720666745), (4554, 0.11336819015061059), (4555, 0.020016764519095273), (4556, 0.0), (4557, 0.03992039304921201), (4558, 0.0), (4559, 0.0), (4560, 0.0), (4561, 0.0), (4562, 0.0), (4563, 0.015494434339237754), (4564, 0.009304411183836452), (4565, 0.0), (4566, 0.016318382737647987), (4567, 0.01545324288644364), (4568, 0.0), (4569, 0.0), (4570, 0.0), (4571, 0.040027464934219735), (4572, 0.032977374822491023), (4573, 0.022329897336042015), (4574, 0.01626201354800045), (4575, 0.017369083839895053), (4576, 0.04792631614672488), (4577, 0.0), (4578, 0.0), (4579, 0.060305221867773984), (4580, 0.0), (4581, 0.03784576316505148), (4582, 0.02476359207764864), (4583, 0.0238675013951379), (4584, 0.01878177808182663), (4585, 0.026188673025042304), (4586, 0.030568091300761574), (4587, 0.029118183107024936), (4588, 0.0), (4589, 0.02030184035025636), (4590, 0.03471857984372972), (4591, 0.03607597162680631), (4592, 0.0), (4593, 0.05450718971341009), (4594, 0.019907220491365812), (4595, 0.033168864063279825), (4596, 0.016557439732055663), (4597, 0.0), (4598, 0.013719340485483511), (4599, 0.0), (4600, 0.0), (4601, 0.039361835296101044), (4602, 0.017624535905441788), (4603, 0.02627516729203016), (4604, 0.01810651673538933), (4605, 0.027704016345949267), (4606, 0.02443099039329893), (4607, 0.023031522054438838), (4608, 0.014424887163700642), (4609, 0.0), (4610, 0.056816707790679856), (4611, 0.028021295446145546), (4612, 0.05633816999450754), (4613, 0.0), (4614, 0.15658850354369686), (4615, 0.0), (4616, 0.01768837250769499), (4617, 0.11904910499930224), (4618, 0.0), (4619, 0.07470676024330583), (4620, 0.01392667144957085), (4621, 0.02990485993700152), (4622, 0.0), (4623, 0.06933142241256589), (4624, 0.04031127885637999), (4625, 0.02004776186749934), (4626, 0.012408102373359707), (4627, 0.030682828060415647), (4628, 0.0), (4629, 0.04437802577915676), (4630, 0.033315606565761935), (4631, 0.0), (4632, 0.02735694156621926), (4633, 0.017859416715953473), (4634, 0.013837424688487435), (4635, 0.0), (4636, 0.013574895163457093), (4637, 0.1164177971258357), (4638, 0.016444352753100924), (4639, 0.02657588087834479), (4640, 0.034427901253787335), (4641, 0.0625373463073943), (4642, 0.0388107804236878), (4643, 0.015603732223402432), (4644, 0.0), (4645, 0.0), (4646, 0.04073843678512298), (4647, 0.0), (4648, 0.0), (4649, 0.02163451518414788), (4650, 0.01790974756483466), (4651, 0.0), (4652, 0.020784778124550415), (4653, 0.03665045055031621), (4654, 0.0), (4655, 0.0), (4656, 0.05151688662701569), (4657, 0.01794489394711722), (4658, 0.08531617157518201), (4659, 0.0), (4660, 0.05693453192149774), (4661, 0.03666562096439411), (4662, 0.0), (4663, 0.09955605442128718), (4664, 0.03771667781351627), (4665, 0.03191027215483831), (4666, 0.05971759667884689), (4667, 0.0), (4668, 0.01767707837019913), (4669, 0.09335945848420371), (4670, 0.042739601706378624), (4671, 0.0), (4672, 0.0), (4673, 0.08187039809972102), (4674, 0.039400217493082215), (4675, 0.0), (4676, 0.0), (4677, 0.03983179951882619), (4678, 0.02760616034852874), (4679, 0.09388100870941424), (4680, 0.01734952796361572), (4681, 0.0), (4682, 0.03370299089257522), (4683, 0.0), (4684, 0.09231965362976224), (4685, 0.03088956590343823), (4686, 0.016068581962465144), (4687, 0.015094020888849851), (4688, 0.0), (4689, 0.08072543548059236), (4690, 0.0), (4691, 0.0452378789674399), (4692, 0.023530415186523178), (4693, 0.024471341395987462), (4694, 0.020977804113343896), (4695, 0.043540891161071224), (4696, 0.029363181636238495), (4697, 0.02480183985286402), (4698, 0.04877419541801949), (4699, 0.05333533231187065), (4700, 0.0), (4701, 0.08384639896477346), (4702, 0.0), (4703, 0.02664037138513819), (4704, 0.02552605066337393), (4705, 0.025153261490048075), (4706, 0.026816499750081584), (4707, 0.054267115821935996), (4708, 0.027211882871253982), (4709, 0.1092294154287225), (4710, 0.07493894679218191), (4711, 0.0), (4712, 0.01546505493797543), (4713, 0.02222482824820293), (4714, 0.0), (4715, 0.0460220929552466), (4716, 0.0), (4717, 0.027010603402100555), (4718, 0.025925674709467755), (4719, 0.0214811537021231), (4720, 0.0), (4721, 0.03563508304349909), (4722, 0.11179988754445173), (4723, 0.023685751006618325), (4724, 0.1559963374958705), (4725, 0.0), (4726, 0.008843386579022778), (4727, 0.05409576229892185), (4728, 0.0), (4729, 0.02380408885469666), (4730, 0.0), (4731, 0.09124978452393018), (4732, 0.017987260316405233), (4733, 0.034728586044097884), (4734, 0.025039548568038396), (4735, 0.13578476973046585), (4736, 0.0), (4737, 0.0), (4738, 0.010150589363951187), (4739, 0.09812425268548783), (4740, 0.0), (4741, 0.0), (4742, 0.0), (4743, 0.016762061252858663), (4744, 0.01751492732668496), (4745, 0.0), (4746, 0.041744924273523366), (4747, 0.10153159390622282), (4748, 0.020883036449751355), (4749, 0.028534911113935666), (4750, 0.0), (4751, 0.0), (4752, 0.010720461804368515), (4753, 0.032202641731913936), (4754, 0.0), (4755, 0.0), (4756, 0.01869109543362472), (4757, 0.04636972760358499), (4758, 0.0), (4759, 0.0)]\n"
          ]
        }
      ]
    },
    {
      "cell_type": "code",
      "source": [
        "len(Recommendation_Score)"
      ],
      "metadata": {
        "colab": {
          "base_uri": "https://localhost:8080/"
        },
        "id": "Nw1J1mN8VV0s",
        "outputId": "c1274dd7-9af1-41ea-b506-9af250f35e72"
      },
      "execution_count": null,
      "outputs": [
        {
          "output_type": "execute_result",
          "data": {
            "text/plain": [
              "4760"
            ]
          },
          "metadata": {},
          "execution_count": 34
        }
      ]
    },
    {
      "cell_type": "markdown",
      "source": [
        "**GET ALL MOVIES SORT BASED ON RECOMMENDATION SCORE WRT FAVOURITE MOVIE**"
      ],
      "metadata": {
        "id": "vHEkYJklVa2r"
      }
    },
    {
      "cell_type": "markdown",
      "source": [
        "**sorting the movies based on their similarity score**"
      ],
      "metadata": {
        "id": "_X_hf-X9ViU8"
      }
    },
    {
      "cell_type": "code",
      "source": [
        "Sorted_Similar_Movies = sorted(Recommendation_Score, key = lambda x:x[1], reverse=True)\n",
        "print(Sorted_Similar_Movies)"
      ],
      "metadata": {
        "colab": {
          "base_uri": "https://localhost:8080/"
        },
        "id": "T5jRpdI4VpFq",
        "outputId": "0442dd40-4002-45f8-9615-80a9bccc603d"
      },
      "execution_count": null,
      "outputs": [
        {
          "output_type": "stream",
          "name": "stdout",
          "text": [
            "[(2692, 1.0000000000000004), (2903, 0.21871537100806543), (3675, 0.17065553740382555), (1070, 0.1659140704686211), (675, 0.1643156155837011), (2768, 0.15875081187777684), (2558, 0.15765836093600213), (4614, 0.15658850354369686), (4724, 0.1559963374958705), (1148, 0.155437708057422), (4375, 0.15123445985105624), (2214, 0.15080878465133798), (628, 0.14873417774566283), (4242, 0.14859212634443114), (3946, 0.14736282241945087), (4512, 0.14588746836358815), (2932, 0.14390909503630353), (4403, 0.13933293600665808), (2275, 0.13715883465937012), (3154, 0.13685316068263875), (4735, 0.13578476973046585), (3119, 0.1348250790929164), (3012, 0.1343955539846317), (3019, 0.13364739108216972), (3465, 0.1292306109656762), (3374, 0.12912573274975392), (4231, 0.12691318159150558), (137, 0.12567056517202965), (947, 0.12514275872042352), (3652, 0.12333562015134314), (3959, 0.12265724363794614), (1383, 0.12260531327946625), (4288, 0.12196749432785711), (4062, 0.12194961924132339), (2638, 0.12130410375943707), (2649, 0.12105259595930987), (4617, 0.11904910499930224), (888, 0.1189276362238357), (4469, 0.11884999357425391), (2154, 0.11831771498928322), (4268, 0.11749707486291577), (3377, 0.11712217755282617), (4637, 0.1164177971258357), (172, 0.11640378935863749), (3883, 0.11590798943525202), (45, 0.11500457722859034), (1248, 0.11456529637860374), (4244, 0.11411635363720044), (3961, 0.11397753453491298), (4554, 0.11336819015061059), (3450, 0.1127504910312659), (3766, 0.11245701853536513), (2795, 0.11235566638044658), (4722, 0.11179988754445173), (590, 0.11163455581360363), (1997, 0.11034326489558396), (2040, 0.10996141565252054), (2037, 0.10983616559381679), (4709, 0.1092294154287225), (4004, 0.10825344320527441), (62, 0.10818994474954328), (112, 0.108066823514791), (2406, 0.1079065555588468), (1292, 0.10714167048406878), (210, 0.10627382119109138), (3095, 0.10627008554417078), (2096, 0.10565466029111192), (1821, 0.10558257550963752), (3828, 0.10553076899443), (2939, 0.10528643603502474), (860, 0.10489047672134207), (2191, 0.1045345754734722), (2229, 0.10451072991024858), (109, 0.10397085759266633), (2321, 0.10354902617073558), (68, 0.10349377994248396), (2026, 0.10304852356947147), (1064, 0.10294065356365896), (450, 0.10287085528419085), (2645, 0.10270889116850654), (2908, 0.10254373519871354), (2849, 0.10239031318881966), (986, 0.1022386066713713), (2464, 0.10165570347251175), (4747, 0.10153159390622282), (2846, 0.10147836755185166), (3708, 0.10139620879436739), (1341, 0.10115148486150867), (2751, 0.10095721264581332), (3553, 0.10054973389964561), (1141, 0.1005072794391762), (2727, 0.10032615378946362), (166, 0.10012484202808328), (3974, 0.09998144193599298), (2210, 0.09991470785744372), (4663, 0.09955605442128718), (3086, 0.09954324942541519), (533, 0.09924128774432656), (1058, 0.09892732776708921), (4436, 0.0985617786654437), (3275, 0.09849151702562882), (360, 0.09829896098588006), (1671, 0.09817286204782472), (4739, 0.09812425268548783), (2112, 0.0980865754518082), (2374, 0.09747566982027235), (1275, 0.09745059850289006), (1320, 0.09709173666931296), (2174, 0.09707841029799343), (4116, 0.0969771320855391), (1527, 0.09692237596467865), (2276, 0.09686911406004386), (4362, 0.09678378622478989), (3312, 0.0962501640596628), (21, 0.09597553344245065), (1506, 0.09591642552939098), (429, 0.09580869261423858), (458, 0.0957415767103256), (1162, 0.09568857382902156), (1942, 0.09508765965215778), (2694, 0.09486605435555444), (2961, 0.09480262701676603), (1985, 0.0947535568330216), (3640, 0.0947323600108946), (4474, 0.09462356423095976), (904, 0.09455308424107461), (3978, 0.09441892287566536), (3384, 0.09438295570072347), (3466, 0.0942627932513613), (4679, 0.09388100870941424), (1015, 0.09378678533813986), (3483, 0.0937224700226928), (976, 0.0935348577112349), (4380, 0.09350512692767746), (227, 0.09339383895297035), (4669, 0.09335945848420371), (701, 0.09331449076754267), (3728, 0.09317195469125926), (2621, 0.09310220354221146), (2985, 0.09284558590627284), (3521, 0.09265289534098621), (876, 0.09256847382253547), (1132, 0.09246754221919032), (4684, 0.09231965362976224), (1243, 0.09216334032600138), (2538, 0.09215812273519547), (4475, 0.09215461318042692), (1264, 0.09210180033858459), (48, 0.09207443384473242), (3642, 0.09205323525119566), (2668, 0.09199459186939579), (937, 0.09193443585642527), (3597, 0.09163801364925492), (823, 0.09160268336671272), (1716, 0.09151929018982295), (4189, 0.09145067214765049), (4731, 0.09124978452393018), (1629, 0.09105827638755026), (2023, 0.09080408823919747), (3043, 0.09071134932608416), (942, 0.0906907217618172), (1591, 0.09058041755771261), (126, 0.09040951483185067), (4048, 0.09036346493343259), (673, 0.09023837786091059), (3210, 0.09003451106426172), (1853, 0.08990121994807954), (1572, 0.08968460579740872), (530, 0.08952206918330402), (1385, 0.08928774025879102), (4531, 0.08921620466332203), (1035, 0.08917013169660734), (905, 0.08909350722264092), (1970, 0.08903226392884994), (3694, 0.08899152948489086), (2808, 0.08888858169568978), (124, 0.08888489683697753), (584, 0.08887274018266397), (1393, 0.08869295013671441), (4252, 0.08858152593976856), (4465, 0.08847656988436785), (1184, 0.08831609934120457), (481, 0.08829932252721556), (2607, 0.08823795364559056), (1325, 0.08801981140568214), (3777, 0.08798461429177312), (1687, 0.0878466692294555), (760, 0.087665157182475), (51, 0.08746490577362842), (3437, 0.08746015785956163), (2996, 0.08743228613856331), (334, 0.08734538042652538), (799, 0.08732076528685925), (2487, 0.08731771268586133), (3097, 0.08706372424668975), (4203, 0.08692973323376155), (1314, 0.08669923127829644), (2655, 0.08665687965302538), (682, 0.08658366874673197), (896, 0.0865040365440577), (3801, 0.08649016432169879), (145, 0.08619395783776825), (753, 0.08619289969945337), (870, 0.08618712702012035), (44, 0.08614348641841393), (2334, 0.08605846370506041), (2791, 0.08586889667226104), (3360, 0.08571239822319747), (2196, 0.08551604467658315), (3045, 0.08533936889305904), (4658, 0.08531617157518201), (1068, 0.0853141072973772), (1369, 0.085298901608255), (1740, 0.0849605086618985), (292, 0.0847997537355994), (1678, 0.08478547596877986), (864, 0.084770308468547), (694, 0.08469959765793829), (2053, 0.08462485459626408), (2716, 0.08461667442629589), (3249, 0.08457666414752789), (643, 0.08449534668082984), (3076, 0.08438203766854108), (1621, 0.08435312357189556), (4123, 0.08425266281454301), (2784, 0.08421184885146552), (3973, 0.08419404417127688), (3349, 0.08419271603524489), (1119, 0.08404616911078205), (4088, 0.08400878305133413), (2024, 0.08389891504966872), (4701, 0.08384639896477346), (795, 0.08379670267006739), (4068, 0.08372997603826993), (2919, 0.08360546835368593), (149, 0.08359164860579903), (1173, 0.08356838642737521), (4450, 0.0834588692532729), (447, 0.08339845383492556), (629, 0.08321477529551843), (2522, 0.08310281201810689), (502, 0.08309472094439452), (1937, 0.08297072536318997), (1183, 0.08293872736580045), (4178, 0.08290358897516686), (4000, 0.08290227389408186), (1302, 0.08289714750482621), (3504, 0.08288570615824438), (3768, 0.08288176235923424), (1017, 0.08270995381775809), (2602, 0.08262756040742439), (4175, 0.08254464668102114), (2254, 0.08253768836000533), (534, 0.08253405075738311), (669, 0.08248301633983077), (3403, 0.08234228385904646), (3670, 0.0822511506720495), (190, 0.0822178670500425), (2383, 0.08214454766320387), (199, 0.082097198047617), (213, 0.08209460643314252), (842, 0.0820572295497217), (543, 0.08192827931584573), (4673, 0.08187039809972102), (4023, 0.08186908827912137), (2133, 0.08186855130225146), (1343, 0.08185777225091584), (622, 0.08177390528013323), (1412, 0.08156219134873374), (1232, 0.08142957176024329), (4141, 0.08140239959182068), (3498, 0.08137568096316397), (2778, 0.08135127847556575), (4379, 0.0813419401647284), (1483, 0.08129563117744815), (3293, 0.08126026990147192), (670, 0.08122152145634129), (879, 0.08112746324844922), (3862, 0.08110804384004225), (2295, 0.08099349675950576), (89, 0.080982994014024), (83, 0.08097756277331303), (1360, 0.08077094370268796), (4227, 0.08076056382497601), (4689, 0.08072543548059236), (3317, 0.0807149522118368), (2695, 0.08071386955797771), (4387, 0.08068861460481008), (4503, 0.08065380905295524), (2151, 0.08064307630909705), (1023, 0.08061637286754658), (3280, 0.08030747426191756), (2318, 0.08026893353905548), (2248, 0.08012652636478669), (2540, 0.08007751419393722), (3326, 0.0800746307542738), (2978, 0.08005651304522773), (3228, 0.0800311205539001), (2109, 0.08000122717727894), (2346, 0.07973118657389469), (282, 0.07963480701349654), (3127, 0.07961217107177898), (877, 0.07949931645033789), (1224, 0.07937567132849327), (463, 0.07925877806260756), (1983, 0.07924635420420084), (1832, 0.0792457643837405), (3655, 0.07923030514932648), (108, 0.07901725453357368), (1721, 0.07894608533154669), (3110, 0.07894374809921102), (2777, 0.07886393786897755), (4374, 0.07871445831633997), (3699, 0.07866916435417576), (123, 0.07866279364018151), (3713, 0.07863680175898809), (370, 0.07857234080577098), (1337, 0.07830940035602842), (3949, 0.07824048231818832), (1335, 0.07819254216548921), (989, 0.07809948427572891), (1815, 0.0779085760260588), (3486, 0.07769698845639399), (1665, 0.07760785351930122), (3854, 0.07756039184805692), (1994, 0.07754828158177086), (2486, 0.07746926801573964), (604, 0.07743842887290302), (2653, 0.07742681767116517), (3370, 0.07718111515222659), (652, 0.07714594501909922), (2363, 0.07703650844026909), (3741, 0.07693086477682558), (4543, 0.07689571773454648), (866, 0.07686787344798332), (1681, 0.07684891379700787), (4053, 0.07681273003703681), (4007, 0.07676463973638757), (3535, 0.07671862288135828), (2216, 0.07666287494089127), (236, 0.07659048983485578), (3660, 0.07641251853253977), (18, 0.07632875847203766), (3684, 0.07627378116641567), (3659, 0.0762114682618439), (1481, 0.07619923279222335), (4477, 0.07614536563401844), (3334, 0.07612639614864374), (4510, 0.0761056473294994), (67, 0.07585038220009926), (1967, 0.07578298809103987), (3807, 0.07574830023209421), (207, 0.07552855926845967), (2224, 0.0754135252413243), (911, 0.07540790817027777), (4522, 0.07529430215113299), (2187, 0.07524898466318423), (4440, 0.07524625165400331), (1237, 0.07509640640356532), (1739, 0.07505751990850193), (3819, 0.07500807216836411), (4710, 0.07493894679218191), (3556, 0.07493349700187571), (3711, 0.07492737123127001), (2284, 0.074893753561166), (4121, 0.07480278023498127), (4619, 0.07470676024330583), (1667, 0.07468681756159391), (4124, 0.07458464323396383), (4265, 0.07452189985512864), (3984, 0.07422801038233946), (438, 0.07409625386462676), (873, 0.0739760394777324), (342, 0.07387652303481868), (276, 0.0737321365172447), (988, 0.07368302071851049), (2963, 0.0736368912284464), (1252, 0.07351519189104003), (667, 0.07347836985570985), (1680, 0.07342803479737545), (1104, 0.07330140346862825), (3637, 0.07329912727614597), (1478, 0.07322920731574353), (678, 0.07322751431481968), (2468, 0.07313659504666861), (2788, 0.07313628803247864), (1203, 0.07308892041428477), (70, 0.07308487770239999), (2206, 0.07298188671344882), (2066, 0.0729078671974331), (832, 0.07285073279712108), (676, 0.07279344418795175), (2093, 0.07275075268581119), (3947, 0.07269241637245503), (4163, 0.07261668714818582), (1074, 0.07244924748628784), (147, 0.07236504730564322), (87, 0.07235383895785263), (4293, 0.0723172925902304), (4538, 0.07220021192218024), (2255, 0.07217105680073586), (371, 0.07215653013946034), (2070, 0.07206864667054451), (2080, 0.07192568036971711), (878, 0.07181918352543026), (875, 0.07179517746633661), (3118, 0.07177613677038634), (1949, 0.07175535126665947), (1432, 0.07169523773848267), (4148, 0.07165184369972122), (519, 0.07150353671435608), (52, 0.07149554839065805), (1568, 0.07138487726664607), (4246, 0.07134553623159014), (3849, 0.07110996519954842), (274, 0.07108400508643768), (3992, 0.07099313130664686), (1542, 0.07093174148113857), (3635, 0.07088195725709286), (2336, 0.07087713495072065), (2110, 0.07083096309402923), (654, 0.07076403719356524), (412, 0.07075227302310494), (2742, 0.07073212976581678), (3085, 0.07063518021415821), (4396, 0.07036319232683344), (1024, 0.07029051095795566), (3416, 0.07028030766714005), (1000, 0.07024351218143066), (4456, 0.07020066377608591), (2412, 0.070036511174568), (1107, 0.06999148574849429), (829, 0.06989256094366592), (2235, 0.06987575194774784), (1226, 0.069875007208221), (827, 0.06985443316870811), (4095, 0.06970411445130703), (2910, 0.06966542060493744), (3318, 0.0696627982162761), (2918, 0.06957552888343223), (1030, 0.06954873846911123), (2739, 0.06950158404043909), (967, 0.06946161485596045), (1796, 0.06938390064377642), (1595, 0.06937960593969489), (4623, 0.06933142241256589), (695, 0.06924625553046346), (2155, 0.06917096346123422), (3661, 0.06912762163429853), (3692, 0.0691014570577273), (3507, 0.06907274969071431), (3035, 0.0690487330974387), (2343, 0.06899796299945236), (2550, 0.06897461343238881), (952, 0.06897048980734075), (173, 0.06896508850321054), (1047, 0.06891147286263263), (1847, 0.06886941472807619), (3010, 0.06884693419839447), (144, 0.06877581080722286), (418, 0.0687488407081558), (201, 0.06874729029759102), (2780, 0.06874579340126002), (2280, 0.06872571462483076), (1471, 0.0687194727764321), (4444, 0.06871798564885861), (1377, 0.06851881268751342), (2617, 0.06832904804422235), (3306, 0.06830311128869149), (1417, 0.06822125330955872), (1115, 0.0681011173065304), (1053, 0.06809291743142962), (916, 0.06806403653150236), (3155, 0.0680091715801335), (281, 0.06795781842664163), (4281, 0.06794382947811281), (2879, 0.06789226316981968), (4092, 0.06787555400737448), (1861, 0.06787469765815031), (254, 0.06782721937657354), (2524, 0.06772570946084483), (88, 0.06771106439658423), (1923, 0.06765750369020027), (138, 0.06759402923558598), (928, 0.06751664712209912), (209, 0.06743857859627642), (2600, 0.06737753050662373), (1991, 0.06737738582357067), (3171, 0.06712667409373142), (3157, 0.06710804532062778), (2375, 0.06682131469044686), (1134, 0.06673328177559573), (1185, 0.06672299376149463), (1455, 0.0666108097979824), (4378, 0.06622350923363886), (1436, 0.06620415667407083), (931, 0.06618792900461774), (84, 0.06614570594849284), (2447, 0.06608707970103074), (918, 0.06577244557731765), (515, 0.06576070041571926), (689, 0.06569385546033618), (1259, 0.0655856793999156), (4050, 0.0654459986686852), (1958, 0.06531824955557877), (2859, 0.0652335223216017), (3924, 0.06514928737507099), (853, 0.06505094978437173), (2119, 0.0650132069261661), (4235, 0.06498657627590859), (825, 0.06493060022880558), (1290, 0.06492218398825067), (2188, 0.06486313452631647), (653, 0.064831682563853), (968, 0.064818053747381), (2228, 0.06479469316898609), (3294, 0.0647425664881376), (2429, 0.06469042816884663), (540, 0.06467571460202623), (4216, 0.06465295194705781), (2697, 0.0646096661970893), (2944, 0.06452631939669473), (2057, 0.06452005352519641), (1874, 0.06450547476896043), (2948, 0.06445634001100384), (1272, 0.06445099425359528), (406, 0.06439309444478411), (2178, 0.06437793454386248), (1054, 0.06434507954818086), (3746, 0.06433666442455786), (2622, 0.06430388456726141), (1858, 0.06428838292629556), (280, 0.06401669068735835), (3382, 0.06398271518907239), (790, 0.06393492574802906), (560, 0.06380439995052718), (2625, 0.06369141059960544), (2815, 0.06366695148761407), (2925, 0.06359615100544103), (1063, 0.06357205523786008), (483, 0.06356839270341451), (2581, 0.0634790607792771), (3582, 0.06346259585594288), (142, 0.06344054604014343), (3209, 0.06342203739619333), (683, 0.06335744924039065), (3344, 0.06330490299307727), (244, 0.06319784624889518), (500, 0.06319417832699947), (1419, 0.06315998464615097), (1774, 0.06310171410444482), (396, 0.06309639273670073), (3993, 0.0630077976660582), (4283, 0.062908338988728), (3810, 0.06290793095195575), (1406, 0.06282753827873287), (2123, 0.06278699704861981), (3153, 0.06275134490298657), (1754, 0.06272873219377717), (3756, 0.06269529887071341), (1018, 0.06265334649200152), (72, 0.06258929471724434), (287, 0.06256387231743013), (4641, 0.0625373463073943), (4187, 0.06253545143733447), (1992, 0.062413372337904574), (3123, 0.06229893579498191), (4551, 0.06229103696185148), (3794, 0.062217586101065224), (4060, 0.062212794346361025), (2771, 0.06209536258155251), (1585, 0.062067897567585975), (4164, 0.06205604357542642), (2886, 0.06204840620495903), (485, 0.062001910343146005), (2162, 0.06199825004493484), (3407, 0.061945621152364926), (1257, 0.0619311760687557), (1845, 0.06190420743269434), (170, 0.061881376784733655), (1513, 0.061857109487019724), (3518, 0.06181212468086008), (692, 0.061793992024709414), (3070, 0.06165355668347524), (4546, 0.061653041405804576), (105, 0.061601056029363103), (2647, 0.061494425505817456), (4325, 0.06146966442017782), (1544, 0.061451074385463524), (2934, 0.06139481879846309), (1871, 0.06129421592387475), (2055, 0.06124923735103265), (4481, 0.06114606103273518), (1789, 0.06110980728231965), (345, 0.06108574606459004), (4412, 0.060990288785125316), (4431, 0.06092564051925067), (1989, 0.06091748707831192), (120, 0.06089305958096932), (2871, 0.06069822740232107), (291, 0.06067911989862315), (830, 0.06055835345642212), (3775, 0.060471760404289976), (1727, 0.06046541229553168), (2489, 0.06045607313312533), (3680, 0.06042802727863979), (4553, 0.06034480720666745), (4579, 0.060305221867773984), (1339, 0.06023265730341494), (479, 0.06012214814494628), (1236, 0.0601197095366589), (801, 0.0601003722502524), (328, 0.05999849930287081), (532, 0.05999542252246299), (3433, 0.05980730118507628), (1675, 0.05979673495293974), (116, 0.0597917329587343), (4666, 0.05971759667884689), (3351, 0.0594851920523365), (470, 0.05940841751065976), (915, 0.059399599742648995), (2097, 0.05936804835889625), (1303, 0.05934878639959421), (4514, 0.05929041959598484), (2913, 0.059288496283229554), (3860, 0.0592819683987649), (2546, 0.059275044844529376), (566, 0.05926831383127454), (3185, 0.059263719050609516), (3049, 0.058971530261827346), (277, 0.05892086943734433), (1788, 0.05891990144766468), (3999, 0.058856250979874236), (4443, 0.058688862899901224), (4033, 0.05867834320450776), (4176, 0.05866959277599761), (2075, 0.05865430899009965), (3872, 0.058587975686147646), (1865, 0.05847544878200848), (1230, 0.05838970193032485), (85, 0.058252851748424865), (4517, 0.05821380220648204), (2869, 0.058196294190571), (304, 0.05816607859759933), (2212, 0.05808374138528469), (3901, 0.058056899140401075), (1510, 0.05801134543662533), (181, 0.057859662134470614), (43, 0.05784055117235776), (3471, 0.05760496053343992), (148, 0.05758711274779209), (2077, 0.05751483667276212), (99, 0.057508700280877886), (1850, 0.05741131201524492), (578, 0.057397460375606196), (2635, 0.05738206083418874), (417, 0.057371650690960896), (40, 0.057303262363750856), (1234, 0.0572682730631863), (4133, 0.0572352510324325), (1367, 0.057198325470017936), (329, 0.05717673398573841), (792, 0.05710812724493505), (547, 0.05710586585661314), (3446, 0.05708519527103023), (1043, 0.05695837078825078), (4660, 0.05693453192149774), (4534, 0.05690148462532022), (270, 0.05686181573521792), (4610, 0.056816707790679856), (442, 0.05676908536739509), (4096, 0.05672700008777649), (2598, 0.05672694179395845), (894, 0.05660444001559538), (1736, 0.05651227926422425), (47, 0.056502663192498165), (1440, 0.056475982402794084), (216, 0.05641529495054323), (2408, 0.056344389705250526), (4612, 0.05633816999450754), (2029, 0.05631529345933185), (206, 0.05627826125038602), (2252, 0.05615225621847057), (818, 0.056147143520270906), (501, 0.05612561663009901), (2122, 0.05610341157322317), (874, 0.05609013605598813), (3137, 0.05601768008113042), (621, 0.05598294375465783), (1694, 0.05597517913714702), (4435, 0.05595477946910588), (1348, 0.05593688553141121), (544, 0.05590105700258585), (1160, 0.05587361199847077), (3955, 0.05586101659455882), (3508, 0.055745677209402135), (3638, 0.05574444349498751), (806, 0.055723142268571835), (3704, 0.055699629884044144), (2126, 0.055632585371481), (935, 0.05562077279989763), (1061, 0.055603176054978894), (208, 0.055576906573708486), (1338, 0.055573917316668484), (2459, 0.05555050295216435), (3032, 0.055420446853526414), (2689, 0.05528209029374506), (2555, 0.055155377527327354), (2428, 0.055085847786699615), (5, 0.05503146330879963), (4122, 0.05501658455285946), (1092, 0.05500655637270841), (1116, 0.05493805694200968), (3099, 0.05492259591424878), (4013, 0.0548780742885005), (3325, 0.05480862169194044), (558, 0.05473423355419926), (2443, 0.05466333381996607), (333, 0.05464053556541118), (1438, 0.054619106025337365), (4593, 0.05450718971341009), (1897, 0.05440491211753459), (435, 0.05436718094429077), (1779, 0.054280102995001474), (4707, 0.054267115821935996), (2089, 0.054248873501932804), (994, 0.054222391070010874), (2618, 0.054192458641259836), (482, 0.054181083454053626), (4727, 0.05409576229892185), (2988, 0.054061049036238186), (1429, 0.0539954475362804), (2121, 0.05398463603672602), (828, 0.05397212004987087), (2994, 0.05396144370349705), (1334, 0.05395215518148205), (2512, 0.053912706433519544), (1922, 0.05383478030460484), (2016, 0.05367847565848451), (3674, 0.05366377488177519), (996, 0.05354575612184329), (1509, 0.0535401220789086), (3501, 0.05348356383676337), (3376, 0.053456305924345714), (1648, 0.053417807125379455), (3232, 0.05340870727165428), (2560, 0.053340077821926686), (4699, 0.05333533231187065), (1464, 0.053327729398015764), (3065, 0.053296672248086235), (3284, 0.05328698401219166), (2304, 0.05327111891695696), (1854, 0.05325318032809294), (2308, 0.05323225788335069), (4537, 0.05319477064245754), (1300, 0.05319427318370241), (2250, 0.053179474749770236), (2881, 0.05311776851001225), (4486, 0.053058704124049776), (761, 0.05303854059123707), (733, 0.05292332085813377), (3112, 0.05291894730587962), (3418, 0.052746496573840326), (4466, 0.05271952162790209), (4390, 0.05270502226832995), (251, 0.0526317875365246), (1507, 0.05255077576494412), (3797, 0.052507923039644716), (1781, 0.05249098153014348), (2752, 0.05241326639848899), (4232, 0.05239086119589881), (2444, 0.05237698393378145), (2876, 0.052373899522689914), (900, 0.05237018911215041), (2700, 0.05233793965870421), (3120, 0.05229427786382323), (106, 0.0522493419493298), (465, 0.052238340229819026), (4098, 0.05204681662608794), (2279, 0.052035456464287), (1676, 0.051746720827217985), (1982, 0.05173845456109016), (139, 0.05167930484904762), (1202, 0.05155700541839027), (4656, 0.05151688662701569), (1582, 0.0514607298288925), (4442, 0.05145215533520637), (1137, 0.05142541642037356), (3612, 0.05134213032247267), (1927, 0.051282451712860916), (2427, 0.0512807551977645), (1192, 0.05122149263565073), (948, 0.051184798166865046), (1620, 0.05116150424676176), (779, 0.05115106873072379), (2094, 0.05114907104608636), (2632, 0.05105739409072765), (4490, 0.05105428470798634), (1005, 0.050999402125503905), (3102, 0.05099558212582732), (1996, 0.05096476646543114), (4524, 0.050945606075329775), (939, 0.050942340825587615), (193, 0.05089198198781292), (1311, 0.050863228958709567), (757, 0.05082524506966943), (991, 0.050748838845200525), (408, 0.050685014174615774), (1317, 0.05068119421978062), (2045, 0.05060975947692259), (2348, 0.05058484691912738), (816, 0.05057543412900299), (1945, 0.050451930628447265), (1461, 0.050385791682438244), (1540, 0.05036179939828036), (1118, 0.05036046992696366), (2264, 0.050268497763857174), (3888, 0.050264930781334864), (2840, 0.05019571489955363), (4255, 0.050170852564801416), (1567, 0.050096240192291294), (542, 0.0500117519612964), (1986, 0.049956277954814776), (1065, 0.04991006131304847), (3666, 0.04989471336975661), (387, 0.049877112551279856), (296, 0.04986169515639369), (3196, 0.04978760706678922), (3941, 0.04970025852773676), (2712, 0.04964777709950843), (2158, 0.049561687728652735), (2759, 0.04954383620345354), (1270, 0.04953771439335294), (3245, 0.04952938707861157), (1876, 0.04942513192402049), (2501, 0.04933929020761354), (1389, 0.04927808096807301), (96, 0.04924215167810974), (2481, 0.049235249291506175), (4398, 0.04919655307761942), (4192, 0.049123964319242104), (808, 0.04909292061079042), (222, 0.04907526124179511), (261, 0.04900981298204578), (4395, 0.0489925951559744), (1500, 0.048985060152170315), (3192, 0.04886744037920659), (285, 0.04882983773887624), (3835, 0.04882717467383143), (4698, 0.04877419541801949), (4118, 0.04877222222253443), (710, 0.0487694023447673), (4047, 0.04859367533357183), (4094, 0.048573902078250755), (2328, 0.04855529510640938), (1413, 0.04855165040462771), (3313, 0.048544049116903173), (1519, 0.048455298563068766), (38, 0.04842717963368287), (2440, 0.04838597010458936), (3267, 0.04837631754037254), (668, 0.04822766433033198), (3447, 0.04821643808921274), (4533, 0.048196152884940516), (2854, 0.04814773323833257), (1276, 0.04812377710322904), (2362, 0.04804047805769008), (356, 0.047979367648040616), (29, 0.04794289044487441), (4576, 0.04792631614672488), (2344, 0.047886772770077905), (111, 0.04787711925242784), (1817, 0.04783057861589938), (1900, 0.04769208495348389), (4219, 0.04767230535991396), (1128, 0.04764263674997345), (1078, 0.0476414350750938), (3857, 0.047630015148154986), (3956, 0.04758592884347815), (637, 0.04758264826689913), (4502, 0.04756697112815952), (4249, 0.04753787469272783), (1776, 0.047495377352343555), (1443, 0.04738112484861548), (443, 0.0473658482912823), (688, 0.047297350553827014), (4105, 0.047270098503940115), (1960, 0.04724768559890733), (1707, 0.04724074147554569), (3618, 0.04702207477299609), (2736, 0.04698541231524652), (1379, 0.046967849853120226), (3285, 0.04695570426870426), (4177, 0.046893748715335505), (4430, 0.04689056225358808), (2008, 0.04685731951087507), (4134, 0.04677245156722433), (1371, 0.04677066194988596), (742, 0.04674480154417946), (3771, 0.046703648063192), (3142, 0.04669506695935093), (1493, 0.046627744240240424), (963, 0.04662212113157807), (107, 0.04658464751536827), (2807, 0.046576709710908624), (4005, 0.04642438057242099), (1003, 0.04640414580959712), (1071, 0.04639007021768367), (4757, 0.04636972760358499), (1442, 0.04636281559006406), (2477, 0.04631900681083001), (1188, 0.04627242176182597), (1864, 0.046237693153701534), (1968, 0.046220352426084015), (1924, 0.04620988765903825), (368, 0.04618556868186595), (1255, 0.04617255744887727), (3780, 0.046162832430812005), (1713, 0.0461627442781648), (2221, 0.04614838063984627), (644, 0.0461084700081566), (4494, 0.04607244263319954), (34, 0.04605181732683264), (4715, 0.0460220929552466), (2147, 0.046005641809152766), (2673, 0.045968859002211065), (1674, 0.04593615371558568), (1050, 0.04588729951049897), (728, 0.045883516529114855), (861, 0.045854842519322245), (10, 0.04575092424353888), (851, 0.045746257927109485), (1498, 0.04574517569688478), (3853, 0.04552402415477119), (2065, 0.04548640929907492), (1484, 0.045469663305884735), (3125, 0.045460612304486336), (1866, 0.04540512500633058), (1260, 0.04536889933268722), (3463, 0.045333820408019865), (1892, 0.045261587317509455), (4289, 0.04525640328686854), (4691, 0.0452378789674399), (1215, 0.04519826038634852), (1282, 0.045173220120872784), (1489, 0.04512992708142871), (436, 0.04510859471938235), (1838, 0.0450862231808873), (4470, 0.045081842114165056), (179, 0.045055962160490584), (1630, 0.045025223976765186), (433, 0.04501892023335548), (4366, 0.04500613671919647), (1902, 0.04497248153360216), (2917, 0.04488205748961136), (930, 0.04484080560054059), (1868, 0.04479634246255989), (3570, 0.044780319897688686), (729, 0.044756616441198466), (4337, 0.04463727315217743), (3259, 0.04446871267804438), (143, 0.04446238826126877), (3653, 0.044443471061142575), (3195, 0.044436589150817815), (1655, 0.0444158458682341), (4629, 0.04437802577915676), (1225, 0.04432817702696955), (1504, 0.04431502795346107), (3778, 0.04427840771912913), (46, 0.044266594475960194), (1033, 0.04415725869806347), (800, 0.04415237833469676), (1918, 0.044094094330666404), (3927, 0.04407375591055286), (4016, 0.04405506274069371), (1387, 0.04401108040526071), (743, 0.04397957745892887), (2822, 0.043970017949708874), (350, 0.04393383788641102), (4309, 0.043901866810610694), (3480, 0.0438714570410659), (1806, 0.043869805088272304), (3588, 0.043854653810268304), (732, 0.04382824476760608), (833, 0.043754670948885514), (256, 0.04369795601344612), (3839, 0.043677578836078694), (3960, 0.04362823427948815), (42, 0.043579899259033876), (980, 0.04357564279146058), (2088, 0.04357438500081162), (4695, 0.043540891161071224), (4233, 0.04353552859637177), (3721, 0.04347562662845478), (3727, 0.04345513233960283), (2606, 0.043439169600250675), (2874, 0.04341231016641779), (3516, 0.04340413578223908), (1735, 0.043386079867794296), (493, 0.043383979089135036), (1454, 0.043323526930949506), (1795, 0.04332064212103517), (2519, 0.043317175516418574), (4038, 0.04324147551454782), (1384, 0.04321837629332867), (2316, 0.0432138614140651), (3586, 0.043145851785713216), (4089, 0.043136590634840856), (1129, 0.043120682395090315), (2104, 0.04305787137885578), (2076, 0.04303287737041274), (385, 0.042968350340634114), (4284, 0.04292322952925788), (3731, 0.04288968771227825), (255, 0.04287544606391058), (4045, 0.04275334012218661), (3436, 0.0427508738703825), (869, 0.04274078551925625), (4670, 0.042739601706378624), (65, 0.04273958165098747), (1537, 0.04271738071556732), (1400, 0.04271665432561236), (1843, 0.04271027572087485), (2324, 0.04270490251941226), (1934, 0.04268319531636722), (1083, 0.04263192539801258), (4165, 0.04260025911339682), (33, 0.0425939912943089), (657, 0.04259339114122426), (1643, 0.0425657211325799), (3464, 0.04254317975818994), (1931, 0.04244409241264543), (3905, 0.04234835607146337), (660, 0.04234627357778002), (2082, 0.04229406094472099), (175, 0.042286111363238954), (684, 0.04228597689967765), (4046, 0.04227008029196065), (2825, 0.042255541015825834), (3330, 0.04222721824732763), (2149, 0.04222336063292761), (580, 0.04217191111730896), (845, 0.04215801073934075), (4208, 0.042125432633348954), (3715, 0.04211103307318095), (2949, 0.04210437450387181), (1330, 0.04210382372480302), (3387, 0.042083669641818915), (2424, 0.04204818548433995), (664, 0.04197832480982338), (2011, 0.041941455358848787), (3000, 0.04189223170102579), (3942, 0.04184270200523204), (160, 0.04179205290201579), (4746, 0.041744924273523366), (125, 0.041742433213144504), (3665, 0.04169540222496582), (3373, 0.04167637519551329), (1174, 0.04162348905990026), (716, 0.041585067302076784), (2971, 0.04153557503145323), (923, 0.041450619307763004), (4382, 0.0413791675471033), (1009, 0.04135742841708229), (1705, 0.04135305760522309), (908, 0.04135116908312441), (180, 0.04134756091417168), (474, 0.04130687926850661), (1177, 0.041294435369887916), (1194, 0.041241773925637513), (3514, 0.041240911320379534), (1971, 0.04121952132853413), (3957, 0.04120892557369023), (3279, 0.04117146771114239), (3352, 0.04114237844112449), (2014, 0.041109350104462185), (3108, 0.04108568366158049), (1472, 0.041066184192973726), (613, 0.04106311336177119), (1229, 0.04103688708165939), (3624, 0.040984251882756555), (1223, 0.04094860138713784), (3435, 0.0408758940287636), (238, 0.040862406567457), (3233, 0.040843690320658405), (1138, 0.040842979253251366), (1750, 0.04077575204248611), (3552, 0.04075759283751355), (3342, 0.04075371032634905), (696, 0.04075109932123889), (503, 0.04074604836330642), (4646, 0.04073843678512298), (1140, 0.040711931753096973), (2484, 0.04069224972603079), (1179, 0.04066777227460751), (269, 0.040661541996582055), (16, 0.04064561718420117), (494, 0.04064297985057464), (936, 0.04053834438007346), (1939, 0.040523230765484954), (3227, 0.040506037489227), (1773, 0.04048975592933401), (3696, 0.0404751308426775), (750, 0.040464422186437594), (1191, 0.04042256137211711), (3844, 0.04032569690866095), (4624, 0.04031127885637999), (691, 0.040307015456737386), (2803, 0.04028341692834136), (2757, 0.040200994660443155), (3303, 0.040198907121908975), (4464, 0.04019633800809833), (4093, 0.04007628481603048), (3645, 0.04004744275966385), (3487, 0.04003833559216471), (4571, 0.040027464934219735), (537, 0.03999592656031966), (4557, 0.03992039304921201), (1231, 0.03987260463646428), (3129, 0.03987228766999952), (3571, 0.03987129673172364), (636, 0.03986176925422285), (2981, 0.03985307477911699), (4677, 0.03983179951882619), (1799, 0.039828542030120616), (1536, 0.039824168066293145), (4299, 0.03975629340860419), (3499, 0.03975539224086533), (2061, 0.03975182111190925), (1407, 0.039748208504652466), (3226, 0.0396827840626094), (1046, 0.03967276712864675), (2069, 0.039647387149157956), (1220, 0.0396422943159066), (3975, 0.03962424918822194), (635, 0.03958579110401792), (1462, 0.0395709282584232), (86, 0.039547025063874294), (2480, 0.039541530471000126), (1812, 0.039530435337088166), (1041, 0.03947284586111269), (4674, 0.039400217493082215), (1811, 0.03938615252408324), (4601, 0.039361835296101044), (606, 0.039358565589717315), (1653, 0.03934997304619574), (4156, 0.03930269958187251), (4344, 0.039267809631228556), (3734, 0.03919263018683491), (1405, 0.03916577454894466), (1987, 0.03915228900401413), (863, 0.0391510367324006), (3513, 0.039150824661399956), (4349, 0.039150236167500296), (3117, 0.03912550116141399), (1052, 0.03910727914200892), (2417, 0.039063980053681543), (311, 0.03904565577892866), (1076, 0.03904093475432735), (719, 0.03898868105291788), (2650, 0.03897657812632629), (3623, 0.03893655661246016), (1363, 0.03889846642944297), (3474, 0.038889274357371266), (769, 0.03887761553815145), (706, 0.03886145088665703), (3052, 0.03884609734400623), (880, 0.03883759567743246), (4642, 0.0388107804236878), (2995, 0.038805640083290904), (4331, 0.038775062394486026), (81, 0.03876843734241148), (608, 0.03874582961727279), (3213, 0.038745621089940493), (3018, 0.038699679240635304), (321, 0.03866035972678472), (824, 0.038629497119057554), (2306, 0.03862886065706785), (15, 0.03861675643371451), (2237, 0.038607687837349275), (509, 0.03859382256103309), (3423, 0.03857054459788414), (523, 0.038563059208270786), (1019, 0.038541531954488284), (341, 0.03851791201258675), (3492, 0.038514001609293046), (1819, 0.03851268839731607), (2091, 0.03850796552003577), (2114, 0.038441113711260855), (2858, 0.03839278829559453), (1213, 0.03830556325913232), (3297, 0.038289149758387875), (4081, 0.0382094468967759), (1872, 0.03819556233182223), (794, 0.03814116015710968), (836, 0.03812231752271748), (3149, 0.038114128804620985), (50, 0.03807951932743132), (4515, 0.03807537965821596), (511, 0.03805083607269279), (2031, 0.03799925337542273), (2355, 0.037991992686025766), (727, 0.03797170103180639), (2184, 0.037970218320958656), (2496, 0.03796164994751391), (2714, 0.037949374401490835), (4172, 0.03792602388583775), (4518, 0.03792564451528099), (809, 0.037852091191322185), (313, 0.037851570766201464), (4581, 0.03784576316505148), (762, 0.0378427657299395), (437, 0.037838931434703724), (1261, 0.037777349498061226), (2301, 0.03774185191595586), (3452, 0.037718817474032565), (4664, 0.03771667781351627), (1012, 0.03769699380931696), (3531, 0.03766277738877251), (929, 0.037628754390640964), (1421, 0.037624508670423454), (1266, 0.037596300455188886), (3899, 0.03754852880502673), (4402, 0.03751102357492607), (1001, 0.0374228220252407), (2897, 0.0374013612188074), (4043, 0.03740102238105029), (2899, 0.03737627092129716), (1396, 0.03733724387054679), (1123, 0.037205828542037786), (1375, 0.037098701070111394), (1099, 0.03709377248628665), (2931, 0.03708998425961248), (1262, 0.037089190216680425), (455, 0.037067522270233466), (3910, 0.03706466866332489), (322, 0.03697054925085439), (1044, 0.036960572857941965), (3448, 0.03692344099334396), (31, 0.03687143875564605), (3841, 0.03686404905371223), (3122, 0.03685018679982495), (539, 0.036814632512744805), (1112, 0.03677483103027297), (2476, 0.036743849876259185), (1448, 0.03672098189284746), (2273, 0.03669968964171949), (217, 0.03667927171019877), (4661, 0.03666562096439411), (4653, 0.03665045055031621), (3747, 0.03664617541559938), (4285, 0.03658031380731648), (200, 0.03652339412271968), (1433, 0.03643884366379458), (3939, 0.03634842578530995), (1488, 0.03634065197455644), (3067, 0.03633952935558339), (266, 0.03633596802392103), (204, 0.0363290558510293), (2490, 0.036317464594214977), (3541, 0.03630864737697599), (1852, 0.036216625795675056), (3876, 0.036200867377427386), (910, 0.0361798648970906), (1964, 0.03616376229782233), (1555, 0.03616288665224666), (4028, 0.03612986542052747), (1738, 0.03612934025699024), (4399, 0.036104857388261115), (4591, 0.03607597162680631), (1551, 0.03607152930198597), (1761, 0.036043769847692864), (4527, 0.036023643707646484), (2580, 0.03601939017309842), (3679, 0.03596058193242662), (2425, 0.03593734548749574), (4523, 0.035928616542430104), (367, 0.035895357121830486), (4282, 0.03588470947487618), (2506, 0.03582430734772988), (4432, 0.03581098206685615), (788, 0.0358096144700566), (744, 0.035775095844341666), (61, 0.03575578671762167), (271, 0.035705659612657016), (4162, 0.0357012240186199), (4721, 0.03563508304349909), (632, 0.03562953378842249), (1873, 0.03561873303113783), (1941, 0.035603990304376644), (1809, 0.03557974758065862), (1449, 0.03555788786267815), (3460, 0.03555616832401225), (4504, 0.035523315769659385), (2137, 0.035502067319437086), (358, 0.03548175224788141), (3502, 0.03544647873243257), (3897, 0.035433270772120176), (4307, 0.03537855669376444), (381, 0.03526930784174328), (273, 0.03526246598768101), (1973, 0.03525752646146268), (2962, 0.035254835852675324), (3299, 0.03521238996423312), (868, 0.03519005776714793), (3111, 0.035144612011147734), (2294, 0.03512217106028616), (745, 0.0350816865353449), (3705, 0.035079483993449484), (581, 0.035061190290162636), (2762, 0.03503176113312653), (2231, 0.035026088040125365), (1414, 0.03500750645333938), (1759, 0.034758796823865755), (3222, 0.0347449752973964), (4733, 0.034728586044097884), (3354, 0.03472766592787028), (4590, 0.03471857984372972), (3426, 0.03471766996820056), (775, 0.034702204915976115), (2553, 0.03461727301088232), (1816, 0.034616864078027575), (2469, 0.03460878283645835), (243, 0.034599665408496655), (844, 0.03454079547932034), (3331, 0.03453615206206884), (2454, 0.0345191612820753), (3951, 0.03449554133644368), (3139, 0.03445577239468083), (4640, 0.034427901253787335), (2992, 0.03440322867676618), (563, 0.03439514494447046), (69, 0.03439391063746033), (1760, 0.034380859642936114), (2421, 0.0343755885332663), (1175, 0.03437369449582096), (804, 0.03432185489879713), (796, 0.034237761463017685), (2731, 0.03423094751688818), (1878, 0.034225131600782735), (3091, 0.0341885987951062), (862, 0.03414840484623558), (2833, 0.03409833977445486), (981, 0.03405559779220784), (1712, 0.03404863841856296), (3036, 0.03404781328498645), (1420, 0.03399148090427093), (2683, 0.03397565060792776), (2116, 0.03395218252952983), (3744, 0.03392155377700368), (1146, 0.03390340831524186), (4120, 0.03389994150173114), (203, 0.033887745196109875), (2035, 0.03385656983605673), (2724, 0.03378363723792644), (2404, 0.03376615071885834), (4682, 0.03370299089257522), (642, 0.0335964532526018), (551, 0.033567434542849536), (1158, 0.03356739154796808), (1365, 0.033540417643027724), (1254, 0.033503847626159884), (4230, 0.033502742839077074), (3438, 0.033485490010271485), (514, 0.03343593358176906), (2310, 0.03343544681347322), (3523, 0.03335553240024411), (3945, 0.03335553240024411), (4630, 0.033315606565761935), (2680, 0.03330667274201486), (1608, 0.03324024308164317), (2993, 0.033221925873430036), (3802, 0.03319397381210248), (252, 0.033191564575826685), (3430, 0.033189284719325855), (212, 0.03318279771183341), (4595, 0.033168864063279825), (1245, 0.033129567676903074), (364, 0.03311369182286369), (3420, 0.032983936994097365), (4540, 0.032977374822491023), (4572, 0.032977374822491023), (3178, 0.03293573585839377), (2745, 0.03291548190499158), (354, 0.03290450537813715), (343, 0.03289951185516087), (1214, 0.03288624504938398), (279, 0.03286453518879531), (2084, 0.032859228912081935), (3291, 0.03285838147675413), (1723, 0.03284560087090785), (402, 0.03282411132053055), (434, 0.03280606714224084), (3848, 0.0327896995244298), (4154, 0.03272927326735468), (224, 0.032720115346725545), (4221, 0.0327148047355139), (330, 0.032711305376708716), (2929, 0.032697278840939675), (1696, 0.032676838894272864), (1935, 0.03261539540118075), (2764, 0.03260444675529518), (2505, 0.03258674786003859), (2062, 0.032568532211513866), (979, 0.03255996767312591), (1356, 0.03251058585937645), (2368, 0.03245484264372613), (3168, 0.032419503283075975), (3362, 0.032378875813120635), (1627, 0.03237619778714578), (3558, 0.03236589978586519), (3263, 0.03235409584880831), (2630, 0.03234609400089768), (3658, 0.03232374281949657), (2537, 0.03229839625428042), (3875, 0.03229152749481096), (2529, 0.03226697520934763), (1962, 0.03225241907328225), (4389, 0.03224240658216839), (638, 0.032217673988762616), (2314, 0.0322077838704206), (4753, 0.032202641731913936), (1940, 0.03217969356869258), (2013, 0.03215426300891636), (2991, 0.03209159735073168), (1981, 0.03206580116394683), (4321, 0.032065773069130415), (687, 0.032055519070902254), (3345, 0.03204591986673291), (3022, 0.03203281883910225), (3042, 0.03203193736788963), (1391, 0.03201220209617032), (1167, 0.032008566914561644), (617, 0.031999536773017076), (867, 0.03198971462477034), (855, 0.03196505304075542), (620, 0.03196395769232551), (288, 0.03195887637665706), (2347, 0.03193956538208531), (468, 0.03193773347072751), (3030, 0.03191608722148565), (4665, 0.03191027215483831), (3240, 0.03190572852676473), (2012, 0.03189378986799622), (1332, 0.03187117230180697), (2733, 0.03185720938949579), (2567, 0.03182112917064795), (3440, 0.03177537943049803), (4462, 0.031732135831469055), (2613, 0.03172549416394005), (3524, 0.03171834437405839), (3488, 0.031704776287908694), (1452, 0.03169332366461469), (4149, 0.03167572221778029), (1797, 0.03165214683520007), (3934, 0.03160059395040343), (424, 0.03158312879621628), (512, 0.031577644084237855), (2379, 0.03156514207910394), (0, 0.03150934308063444), (831, 0.03147856867562996), (374, 0.031471005425604597), (595, 0.03145469379465596), (1216, 0.03144392717234159), (4310, 0.031436471691266364), (2288, 0.03142608746248392), (2407, 0.03136837654103876), (425, 0.031341913764132125), (2936, 0.031284830601720326), (4251, 0.0312564840566756), (2868, 0.0312555674517895), (2722, 0.031248674956527497), (2959, 0.03120710860084082), (4106, 0.03119844070169537), (953, 0.03119438379440909), (3576, 0.031154899848865304), (1662, 0.031151207155357095), (3938, 0.03112000210883255), (1682, 0.031119275912059312), (2051, 0.031102445068114132), (2576, 0.03107710160430553), (2599, 0.03102826294215864), (2423, 0.031011075842832074), (327, 0.03093517985752387), (927, 0.030929315322940677), (4119, 0.03089564464100866), (4685, 0.03088956590343823), (2189, 0.03087493807464919), (2209, 0.030822687785894767), (2989, 0.030822481202490502), (2181, 0.030821711177416024), (1976, 0.03080886733450366), (332, 0.03079036924952933), (380, 0.0307810395686282), (2027, 0.030754710651428173), (3421, 0.03074601800126308), (3094, 0.030691813334445487), (4627, 0.030682828060415647), (218, 0.03058954894247069), (1241, 0.030587866681062368), (3990, 0.03058423244663993), (4586, 0.030568091300761574), (2820, 0.030542395546908352), (949, 0.030503854827498116), (3895, 0.030420445546409394), (1344, 0.030404827651662827), (1403, 0.030388905572665614), (420, 0.030366862177421846), (3908, 0.030358793485516657), (2388, 0.030306127808636892), (2299, 0.030302889860020544), (4423, 0.03024941657221335), (2197, 0.030228686757844625), (763, 0.03019101077163952), (3158, 0.030181958989345774), (1515, 0.03017910097320784), (1492, 0.030169991768728005), (4032, 0.030165633258980466), (1619, 0.030133204252542987), (3997, 0.030119641282164815), (891, 0.03011247994129119), (3687, 0.030102697385022983), (3215, 0.030093572412977145), (4158, 0.030083839170420727), (1502, 0.030069463938254642), (1975, 0.030068404708245667), (2403, 0.0300662983946976), (1075, 0.030062613551639764), (1359, 0.03001442657712176), (3925, 0.02999830458956589), (1724, 0.029980896994786878), (1685, 0.02998009254126785), (1732, 0.029950818308054957), (1661, 0.029938992644710165), (2890, 0.02993163771686009), (250, 0.029918116792888343), (4621, 0.02990485993700152), (2923, 0.02980333754185254), (513, 0.029738935541436435), (3787, 0.029719417694706884), (3604, 0.02970356265462812), (1829, 0.02968684151404848), (899, 0.02968117263306779), (847, 0.029670529713001666), (1465, 0.02964160561923624), (2494, 0.02961404858435719), (3322, 0.029609108580077766), (3396, 0.029609108580077766), (4030, 0.029609108580077766), (2960, 0.029594613903773652), (2707, 0.02952664014521001), (3040, 0.029520022248482512), (2819, 0.029498871607530588), (4384, 0.029491621409075436), (2545, 0.029469345034380708), (3470, 0.029447320911419248), (220, 0.029443054064979254), (2769, 0.029437436618548942), (2436, 0.02941774376487532), (957, 0.0293879131983096), (4312, 0.029368865226005687), (4696, 0.029363181636238495), (2841, 0.02933560476353898), (510, 0.029312371210490337), (1554, 0.02926193931518866), (118, 0.02924409561663071), (2870, 0.029231484483623067), (2915, 0.029221104449496764), (4091, 0.029219814504366514), (3814, 0.029213435217290015), (1362, 0.02920682422417007), (2330, 0.029203666680134674), (3822, 0.029183391614894905), (2789, 0.029183127794055838), (895, 0.02917854698369216), (1114, 0.029169745519882072), (1505, 0.029166342005784107), (3163, 0.029165464061158164), (3815, 0.029164191862704098), (1531, 0.029124753310223173), (4587, 0.029118183107024936), (317, 0.029114584657426064), (4090, 0.029112583243131842), (3180, 0.029094217435282992), (919, 0.02909224079129897), (1381, 0.029087221399653675), (2257, 0.029056729469789235), (1426, 0.028984621985293897), (2889, 0.02896392269355944), (3710, 0.028939066357340937), (1659, 0.028929146181306094), (4275, 0.02892575407706441), (3881, 0.02891992976567098), (3833, 0.028904857736133157), (3451, 0.028893386648868865), (2947, 0.02885260139545932), (2626, 0.028849264822048547), (1380, 0.028848045378143145), (2861, 0.028844482231224513), (3005, 0.028842195771554613), (2074, 0.028774127966830394), (1904, 0.028771625629215293), (3584, 0.028734020873966967), (992, 0.028717662391151914), (1951, 0.028709864725422772), (4126, 0.028670078794656707), (3824, 0.028661172128135345), (1431, 0.02865003268870343), (1573, 0.028648692971883872), (2208, 0.028644550579997718), (3385, 0.02863691869022745), (666, 0.028635440123717534), (4261, 0.02862989301087238), (3774, 0.028612724177178025), (3055, 0.028608263836661475), (3144, 0.028607734925230634), (2251, 0.02857769321301777), (1857, 0.02857387129073049), (2872, 0.02855137246966284), (4222, 0.02855137246966284), (571, 0.028545734478310214), (562, 0.028539952653535948), (4749, 0.028534911113935666), (3468, 0.02852185444175105), (102, 0.028516392110514575), (2418, 0.028493714957720837), (4052, 0.0284791185817631), (811, 0.028439807152393085), (78, 0.02843344891861359), (464, 0.028399101888786644), (4377, 0.0283911109316893), (634, 0.02837902492486335), (3264, 0.028362357604630968), (1588, 0.028353184437369203), (3995, 0.02834205058194296), (685, 0.028338951122491695), (1280, 0.028326741838190603), (2740, 0.02831833026831069), (1575, 0.028307120009620008), (4383, 0.02827465148398221), (1435, 0.02827298390445987), (3037, 0.02825838080974065), (3922, 0.02825838080974065), (802, 0.028248406704070764), (4552, 0.028245834541628774), (2916, 0.028239452782843916), (369, 0.02823827920886066), (1791, 0.028218758615583758), (3248, 0.02821806021330787), (2964, 0.028205361520799634), (970, 0.028183957067477994), (1566, 0.028149490561784975), (527, 0.02813960290588058), (1952, 0.028118195511957846), (4392, 0.028104879995914257), (4360, 0.028092120418721674), (1386, 0.028080687099921984), (3782, 0.028065840409995803), (7, 0.02805557684529379), (3793, 0.028049730759754515), (3892, 0.028048419881883457), (1279, 0.028045712364436797), (161, 0.028039488550559724), (4611, 0.028021295446145546), (3903, 0.028013393950375776), (30, 0.02800155864955455), (3074, 0.0279715080808437), (2544, 0.027944164879154812), (1635, 0.02794312579248834), (233, 0.027892706205597077), (303, 0.027857034853753924), (2937, 0.02784492708035569), (4240, 0.027833526388251636), (239, 0.02778378447339624), (2044, 0.02775306145535388), (2136, 0.027724148673706792), (4076, 0.02770582962499621), (4605, 0.027704016345949267), (737, 0.027691609036616268), (3762, 0.027681084224020897), (715, 0.02765538171638935), (2283, 0.0276502705274829), (4264, 0.027646472039263133), (128, 0.027640803082054643), (765, 0.0276397839964669), (2969, 0.02761359787400741), (3850, 0.027607397328655636), (4678, 0.02760616034852874), (1953, 0.027595705943185174), (768, 0.02759368834390128), (2349, 0.027572529826587804), (550, 0.02757188579140723), (3788, 0.02756178266665032), (1859, 0.027535591167950613), (1930, 0.027533502875252316), (1708, 0.02752430809393249), (4548, 0.027511621986699306), (3156, 0.02749074916445423), (315, 0.027487523384574213), (3952, 0.027486559461414012), (1993, 0.027472099597387233), (1901, 0.02746411231190024), (2582, 0.027456684070778573), (4441, 0.027453686468249017), (4292, 0.027447749297963366), (189, 0.027440257162445657), (2463, 0.027406150152565013), (3599, 0.027395891521041823), (4376, 0.027381548080461424), (4544, 0.027372276534945776), (4371, 0.02736523179658068), (3296, 0.02735694156621926), (4243, 0.02735694156621926), (4458, 0.02735694156621926), (4632, 0.02735694156621926), (3124, 0.0273356888411655), (1632, 0.027335053811804937), (3015, 0.027325137539562075), (974, 0.027309616659564537), (3276, 0.027303738981567207), (1048, 0.027281747878264213), (3832, 0.027276471840592648), (2049, 0.027239287757851574), (4708, 0.027211882871253982), (838, 0.02720709720959332), (1351, 0.027192151782751375), (3672, 0.027183714853884603), (3179, 0.027170131709823818), (3723, 0.027146912022765427), (2015, 0.027143983816454532), (3338, 0.027100432020611527), (2565, 0.027080381186060574), (2413, 0.027061122402023123), (2790, 0.027059773149201445), (4248, 0.027036099355937933), (934, 0.02703398163411616), (3520, 0.027016914414601956), (1631, 0.027015211663159403), (4492, 0.027012742080631147), (3131, 0.02701154804920044), (4717, 0.027010603402100555), (2265, 0.02700308254619893), (241, 0.026995039381462974), (1846, 0.026963882799647468), (2568, 0.02696207266851553), (3398, 0.026953631557936293), (2353, 0.026951583973788166), (1622, 0.026950175017674247), (1347, 0.02691379459213335), (1623, 0.026908041136080106), (3128, 0.026895120843772782), (3719, 0.026895120843772782), (3079, 0.02689055025944646), (2901, 0.026859574325507878), (1749, 0.026832154007360373), (3443, 0.026820107646321107), (4706, 0.026816499750081584), (27, 0.02680427165409224), (3307, 0.026802551497036416), (1127, 0.02679238073398465), (1006, 0.026783701964395293), (4438, 0.026772448045501312), (2432, 0.02676098415135287), (2966, 0.026717592068318162), (320, 0.026704730426731563), (3907, 0.02669633727016551), (3884, 0.026693043516820704), (1124, 0.026673313644885496), (1587, 0.026665912829924265), (174, 0.026665139838462415), (1145, 0.02665545987270989), (2246, 0.026646419305326192), (1609, 0.02664109258540962), (4703, 0.02664037138513819), (3469, 0.026637570345797473), (1658, 0.026597614868333525), (787, 0.02659659121851943), (1150, 0.02658628251183642), (4639, 0.02657588087834479), (1914, 0.026572089654621243), (4019, 0.026559982180633823), (849, 0.026547229848759863), (93, 0.026543901650582562), (1881, 0.02651169978632629), (197, 0.02649375303353449), (3432, 0.026478704335284854), (1211, 0.026471483584534092), (2144, 0.02646451115379009), (2326, 0.02644520745929677), (3664, 0.026431173679326306), (389, 0.02642564259775561), (2392, 0.02641516872751445), (2139, 0.02639883921289045), (2914, 0.02638078155998357), (2475, 0.026359848532241065), (3404, 0.026351075377434835), (3479, 0.02634129431315236), (2513, 0.02633120881558362), (3769, 0.026294338329086567), (1451, 0.02628914896308843), (3258, 0.02628096423808087), (4603, 0.02627516729203016), (6, 0.026256388490951736), (2278, 0.026253179867357885), (2832, 0.026253003260419808), (3134, 0.026239777825100837), (2130, 0.02623547329291505), (793, 0.026233627010301196), (4017, 0.02623093586877834), (1807, 0.02621818658149154), (1077, 0.026210767158674413), (4585, 0.026188673025042304), (3874, 0.026188207033486635), (3806, 0.0261822067363346), (766, 0.026169157413090477), (1494, 0.026167650952491302), (95, 0.026156692022480627), (305, 0.0261525906517484), (4025, 0.026144737465502103), (897, 0.026137623115257504), (2601, 0.02613666550688032), (3583, 0.026110624301996857), (2643, 0.026104839022120463), (1933, 0.02609439542878443), (3011, 0.026063437606447384), (135, 0.02605445986697972), (1614, 0.026051636160066734), (2984, 0.026039439188328153), (310, 0.026038504576621352), (2998, 0.026020650732776013), (1428, 0.026018170371827107), (3512, 0.026011432372783274), (2823, 0.02600526156541192), (4012, 0.02599643070297475), (2867, 0.02596170995876269), (4193, 0.02594880888226482), (4718, 0.025925674709467755), (4044, 0.02585955673550478), (3165, 0.025849329050550787), (2628, 0.025823965398621973), (3967, 0.025821471486571605), (496, 0.025795405977968786), (316, 0.02575864837891081), (446, 0.025746845308857395), (3051, 0.02571885084206813), (3136, 0.025710788766617688), (2831, 0.02569546054467651), (1096, 0.025687809554046453), (1919, 0.025686853216348875), (4400, 0.025673222357292844), (2559, 0.025670849965325756), (902, 0.02566129486587411), (3020, 0.025661028739893486), (3239, 0.02562284424716945), (3976, 0.025618243662672607), (633, 0.025608874829579253), (2883, 0.02556365339686435), (3561, 0.025557803722070047), (1633, 0.02554731568643112), (1798, 0.025539394422616594), (2633, 0.025538960769501858), (4704, 0.02552605066337393), (2193, 0.025518415655131584), (1469, 0.02550302302394942), (3391, 0.02549104783621937), (2232, 0.0254557805739328), (609, 0.025436112701061345), (3596, 0.025422045151914117), (2303, 0.025413095027743863), (2775, 0.02540985137692073), (4071, 0.025396051915391432), (3970, 0.025374607784831447), (467, 0.02535219732880098), (2654, 0.025351830302802945), (4529, 0.025325309310872093), (260, 0.02531649816583256), (559, 0.02530353980284247), (3602, 0.025300836070685728), (2167, 0.025294239264857042), (284, 0.025285539363364088), (1358, 0.025268586327559586), (1181, 0.02526628034133431), (3429, 0.025248982377851763), (2087, 0.02523061198227581), (3218, 0.02522522083633324), (2258, 0.025210692639556106), (451, 0.025189007682196844), (2787, 0.025184864628829212), (1274, 0.025177061817574092), (3544, 0.025168505584665685), (1701, 0.025155804447188606), (4705, 0.025153261490048075), (4039, 0.02514926188973961), (1475, 0.025148041211394086), (4322, 0.025139398725125765), (375, 0.025132506511998533), (3161, 0.025120233268605893), (4211, 0.025088635917650783), (3536, 0.025063848869204538), (817, 0.025062721957033365), (4103, 0.025048323049836094), (4014, 0.02504193163303399), (3386, 0.025041603511395817), (4734, 0.025039548568038396), (3555, 0.025036242339945475), (4484, 0.02501121545255989), (4511, 0.024989145462553347), (3292, 0.024982238124217526), (3361, 0.02498009369348252), (2798, 0.02495873751112191), (407, 0.024933035851740046), (2744, 0.024930808069477298), (3135, 0.0249160450415717), (347, 0.024901016453733334), (2900, 0.02489432691899034), (452, 0.0248860684695041), (1207, 0.024885153369260265), (2640, 0.02485306681560595), (3495, 0.024835759854056297), (94, 0.02482347943186564), (735, 0.024815608243883583), (1182, 0.024806459374191424), (4697, 0.02480183985286402), (3643, 0.0247866925637471), (3919, 0.024784240473825325), (4426, 0.024783776565288285), (2977, 0.024770342516963747), (4582, 0.02476359207764864), (2847, 0.024725623927627585), (1998, 0.02472530475992705), (4339, 0.024720208818702533), (1197, 0.024717928325874557), (4274, 0.024703049347881485), (3126, 0.024690268001678898), (164, 0.024683190562558993), (39, 0.024680888949131657), (1688, 0.024672682060161023), (2809, 0.02463141767615398), (1936, 0.024631026122576533), (460, 0.024622540231241528), (3733, 0.024618509742200173), (1593, 0.02456303689987496), (782, 0.024551434578065023), (4290, 0.02454446952337845), (619, 0.024536063177245795), (3886, 0.024506349936433885), (1382, 0.024490479174618482), (4693, 0.024471341395987462), (1087, 0.02446983264007937), (1860, 0.024468933021659783), (3143, 0.024461139032371234), (2678, 0.024453227182776118), (4202, 0.024450772871504187), (4606, 0.02443099039329893), (1082, 0.02442815427307801), (2000, 0.024419011433429103), (3191, 0.024399481724732906), (697, 0.024399089311732174), (306, 0.024388110027995152), (921, 0.024382049181166224), (1753, 0.024381288841915146), (90, 0.024367170450595332), (240, 0.0243649871565003), (1546, 0.024333420146706926), (3328, 0.024331562917441596), (2245, 0.024284692815836912), (4328, 0.024284202269948013), (4102, 0.02427295736014685), (3823, 0.024264195159277798), (4298, 0.02425832553105937), (2748, 0.02425135490777485), (677, 0.024235358225982613), (1480, 0.024228397312439143), (3166, 0.024226202602975616), (3689, 0.024199679414294177), (4521, 0.024141499196011378), (426, 0.024119642514644976), (1021, 0.024093520918210744), (1125, 0.024073735799985438), (1446, 0.024062640951062243), (3613, 0.024054623383324075), (3720, 0.024046049672658665), (4209, 0.024043484023843348), (3605, 0.02401466388207063), (4513, 0.023997301522746355), (152, 0.023996312865024228), (2448, 0.02398008334679472), (4082, 0.02397280162342375), (810, 0.023971667052066718), (776, 0.02394615476101085), (3651, 0.023919046423858503), (2442, 0.02389390743117202), (3151, 0.023880894743219416), (4583, 0.0238675013951379), (1512, 0.023865423795557252), (4335, 0.023857839540574632), (104, 0.023844530609023737), (526, 0.02384223254666017), (2277, 0.0238323574495629), (4729, 0.02380408885469666), (3367, 0.02380210015156732), (1990, 0.023793623650048237), (2207, 0.023773772167894114), (2980, 0.023755118252111795), (449, 0.02375295219303045), (2698, 0.023750426497301618), (553, 0.023722227732677324), (3098, 0.023710644783097423), (4723, 0.023685751006618325), (1562, 0.023682783670289156), (3528, 0.023648968664236193), (472, 0.023639647827143243), (1045, 0.023573702745237988), (3237, 0.02356811778589351), (3395, 0.02353928864697646), (4692, 0.023530415186523178), (2933, 0.023512026512529267), (3359, 0.02351054384790279), (346, 0.02348457386940712), (1445, 0.023461216213389157), (631, 0.023436890404375858), (3590, 0.023436025767603327), (933, 0.023386379312067468), (3100, 0.023386292479809154), (3776, 0.023380710031597002), (893, 0.02335796375836694), (898, 0.023355392377243153), (182, 0.023348980751764826), (1430, 0.023328703424959355), (3784, 0.02330710799774549), (690, 0.023298900828964818), (3399, 0.023290675917305124), (4488, 0.023281536172814355), (3246, 0.02326714483087825), (1579, 0.023255864527995374), (661, 0.023252998780452026), (3257, 0.023226238806427407), (2350, 0.023221040247203152), (2474, 0.023198073611572143), (1020, 0.02319634533167455), (461, 0.023177621293987268), (2711, 0.023157913101054715), (2986, 0.02315542433887976), (2290, 0.023154755443450675), (4418, 0.023135558399751222), (850, 0.023120362627445566), (2309, 0.023116404314748436), (3767, 0.023114138898292225), (651, 0.02310691090307582), (734, 0.023083586071265844), (397, 0.023077426015423997), (3081, 0.023054846094307878), (4151, 0.02305359563150346), (4607, 0.023031522054438838), (3004, 0.023007769888148653), (82, 0.022980106527275362), (2957, 0.022925199019787113), (941, 0.02292321244631193), (79, 0.022918748354198156), (290, 0.022916340246876738), (3453, 0.022913603090414597), (1553, 0.02288338532443802), (2473, 0.02286351979001188), (4042, 0.02286283180888568), (2535, 0.022861024087717775), (1906, 0.02285546956619303), (1699, 0.022851232953244406), (4468, 0.022833730539217275), (2682, 0.022827369331553556), (32, 0.022825190439142835), (3133, 0.022814161144771153), (409, 0.022805044330792668), (1612, 0.022786765704477654), (803, 0.022775260145782777), (2199, 0.022757446451232007), (191, 0.022730361945520552), (3462, 0.022716083246281247), (3295, 0.022706799019493656), (2812, 0.022693285887603776), (3729, 0.02268313729354415), (1281, 0.022681060482228135), (3852, 0.02267016406208604), (2572, 0.02264811793948538), (1840, 0.02263980588127236), (3346, 0.022633086366471333), (1772, 0.02262276608315086), (2052, 0.022616196728209605), (1784, 0.02261348340154788), (187, 0.022588495315366657), (3966, 0.022588384353865735), (3456, 0.022587289635488506), (3262, 0.0225750026089917), (3827, 0.0225750026089917), (3046, 0.02257486473158482), (4079, 0.02255855761590637), (3619, 0.02255251119363989), (932, 0.022550383544969986), (597, 0.02252870742566182), (4482, 0.022508176165823526), (4308, 0.022498524988813936), (2161, 0.02248343612982063), (1875, 0.022472593099262063), (3219, 0.02243102018000116), (925, 0.022429855067587177), (3329, 0.022429334772215898), (323, 0.022398546921701686), (4306, 0.022356649703619214), (3878, 0.022344364360164674), (4573, 0.022329897336042015), (80, 0.022319798543944176), (3667, 0.0223187730002546), (3160, 0.02231257482299526), (119, 0.022277209648953956), (3409, 0.022235345169072086), (353, 0.022234527551247427), (4713, 0.02222482824820293), (3935, 0.022206518635172298), (3826, 0.02219491516534233), (3375, 0.02219447785075349), (1793, 0.02217513692566228), (889, 0.022170248399269888), (962, 0.02216504088448846), (3580, 0.022154493133482833), (3944, 0.022131070077424434), (295, 0.022112788364656535), (1741, 0.022109642765626256), (997, 0.02210397827992482), (1208, 0.022042665337977142), (2460, 0.022042182075368576), (2394, 0.022019196399708424), (1559, 0.022013264250444448), (162, 0.021999447703303303), (2289, 0.021995507777057416), (1539, 0.021980847303826965), (3821, 0.02197971262571885), (1710, 0.021958601570422023), (234, 0.02195489292631259), (4184, 0.02194108914002074), (183, 0.02193610507805388), (3247, 0.021924498852436237), (3527, 0.021922274973101983), (1650, 0.021919062303501238), (445, 0.02188200804481788), (4336, 0.021875467401914758), (4314, 0.021874901426846085), (1037, 0.021872585499267173), (924, 0.021860895855311067), (4416, 0.02185714823701988), (3405, 0.021828988219591717), (3282, 0.021817087089403105), (2103, 0.021808659170408824), (469, 0.02178805471567084), (2639, 0.02177552133596179), (2434, 0.021773007154211394), (2541, 0.021769068343652172), (428, 0.021752228397992974), (294, 0.021747916837450986), (3737, 0.021744251206669157), (1388, 0.021728976286144445), (242, 0.021728024518972884), (3958, 0.02172649726156343), (1312, 0.02171921837848114), (4407, 0.02170327184192061), (2942, 0.02168948458431923), (1762, 0.02168033823628375), (1361, 0.021678045192951047), (625, 0.021671567396802222), (2706, 0.02167119469104667), (3880, 0.021669990560557007), (3363, 0.02163943607179875), (4649, 0.02163451518414788), (3954, 0.021629299919703852), (3031, 0.02162787435191546), (3620, 0.021627543730060737), (3389, 0.02159621024707184), (2298, 0.021553675513983277), (289, 0.02154671927843574), (2143, 0.02152964144772772), (2614, 0.021516860850559892), (2838, 0.021512847795666326), (3579, 0.02150146509784323), (4257, 0.021491062266169474), (4719, 0.0214811537021231), (756, 0.021457276243587394), (1154, 0.02145573285895913), (3989, 0.021447566198708547), (2970, 0.02143143201125084), (3339, 0.02141652610412492), (4419, 0.021412623411091333), (2696, 0.021408445154197243), (1206, 0.021393558791332812), (3754, 0.02137499080842322), (1690, 0.021325978885320628), (1309, 0.021324565318165484), (3656, 0.0213174208930033), (314, 0.021284965528469212), (2266, 0.02126596280373446), (1538, 0.021229889196740202), (777, 0.021208317945662053), (1925, 0.021202636364499424), (1910, 0.02120047227358459), (1152, 0.021199562508267406), (4228, 0.02116729397170698), (4365, 0.021153755478615324), (4461, 0.021123636050629575), (3273, 0.021119107865374364), (76, 0.021113469663205233), (4002, 0.021113290164817018), (2557, 0.02111119889913907), (1401, 0.021109039670055122), (3616, 0.021106260845514705), (2236, 0.021079111862168664), (1590, 0.021058545395817724), (3072, 0.02104543051873956), (2644, 0.021031745059702813), (1049, 0.021020794927738815), (2411, 0.021006992686202364), (4694, 0.020977804113343896), (2801, 0.02096677258936218), (1144, 0.020960612359459476), (3425, 0.02095710865655807), (63, 0.020939718844581297), (1920, 0.020915249166084816), (2623, 0.020897471668795197), (1121, 0.020886767437760172), (4748, 0.020883036449751355), (159, 0.02086223103035073), (3829, 0.02084893061367167), (3274, 0.020836622263402084), (4318, 0.02083559840700869), (2579, 0.020806619782035473), (2437, 0.020793975125470952), (4652, 0.020784778124550415), (478, 0.02077910658313387), (3358, 0.020763975816503615), (814, 0.02076187792017344), (723, 0.020760743664009502), (2415, 0.020750224364764976), (4225, 0.020749909177795827), (1308, 0.020749428221927727), (1523, 0.020742495401965003), (586, 0.020742083448093744), (1120, 0.020736186186086785), (2975, 0.02072804074226475), (4107, 0.020648259037779063), (4205, 0.02063047509127889), (2848, 0.020614313628350135), (3898, 0.020609394277517432), (1730, 0.020588993236067506), (2376, 0.020588890400205232), (4147, 0.020579732037946268), (2285, 0.020567522048460685), (2834, 0.02055172045061156), (1514, 0.02052368339907516), (3152, 0.020519438370867935), (966, 0.020506633363422355), (4161, 0.020494066887503114), (721, 0.020491906108004467), (403, 0.02045883115381812), (4507, 0.020454183310057238), (4160, 0.020450096411514927), (1395, 0.020437674160372975), (3813, 0.020428294492931418), (4361, 0.020428057916727305), (3253, 0.020424356300702468), (2786, 0.02041838171669917), (2797, 0.02038453948370715), (3140, 0.02038329724914479), (1880, 0.020367965706457), (2997, 0.020344619425344844), (1764, 0.02031164399526366), (4075, 0.02030879536235432), (4589, 0.02030184035025636), (2378, 0.02030002010028675), (4254, 0.020286243343565248), (1905, 0.020273843470243736), (3621, 0.020246599559775258), (2587, 0.02024533260649112), (518, 0.020240380299434042), (3146, 0.020232679769644882), (3962, 0.02020813286524554), (3062, 0.020182636832041946), (1571, 0.020171999045151746), (2438, 0.020163917126259378), (705, 0.020134396173281843), (1477, 0.020127841386571366), (307, 0.020123556693097074), (2142, 0.020118949676468916), (3636, 0.02011346555056599), (3932, 0.02010500430283488), (3044, 0.020084908453702567), (2619, 0.020067212443551502), (640, 0.02006697520318897), (156, 0.02005213242399164), (3861, 0.020049425561559187), (4625, 0.02004776186749934), (3434, 0.020041629711767577), (2603, 0.02003630322010564), (3337, 0.020029289310065885), (4555, 0.020016764519095273), (3904, 0.020011468671811156), (639, 0.020000711611659665), (738, 0.019969877607968024), (3534, 0.019936239970315482), (4594, 0.019907220491365812), (1458, 0.019901629804074252), (2108, 0.019894148836019313), (4369, 0.019892770061892148), (783, 0.019888651080758903), (1530, 0.019876204673162663), (2895, 0.019869873037546528), (2573, 0.019869153034817445), (2078, 0.01986333392074564), (2974, 0.01982452754228996), (2821, 0.019801488106281556), (326, 0.019797082239338154), (4280, 0.019790370385040414), (2488, 0.019786897568624208), (4138, 0.019776676255101606), (611, 0.0197575612364411), (1239, 0.019740790595476853), (3615, 0.01971714871512385), (3484, 0.019711110327986035), (3526, 0.019709262918474406), (2857, 0.01970682065093322), (3, 0.01970533578072717), (157, 0.019702124480872944), (60, 0.019692025903794076), (2400, 0.019677489197142923), (231, 0.019647639157682344), (2570, 0.019617351929466), (2293, 0.019604474626882612), (1499, 0.019598874805804186), (1278, 0.01957455330230433), (3497, 0.01956308370347948), (3007, 0.01955042150089214), (2478, 0.019542871581050433), (3242, 0.019533778290378598), (1331, 0.019528650396136295), (2530, 0.019526850196745153), (3096, 0.019523756197812304), (4528, 0.019512716258758573), (1576, 0.01950642939509657), (3842, 0.01948120852029789), (3634, 0.019471583137481506), (2173, 0.01945138285701598), (3601, 0.019422188782389226), (616, 0.01942147169233456), (489, 0.01940229673463085), (3159, 0.019401614146125505), (1862, 0.019400166315357847), (1497, 0.019369311112092426), (422, 0.019367086225915226), (1136, 0.019365863370014978), (2302, 0.01935242029744633), (1164, 0.019338908495718607), (3413, 0.019338714360118907), (487, 0.019335859355903182), (4213, 0.019296217992929306), (3779, 0.019255753691939173), (2738, 0.01924755853284718), (1654, 0.019242177250664044), (309, 0.019241469862817488), (2987, 0.019217197858878772), (4111, 0.019184744349050258), (1743, 0.01915979727558628), (2805, 0.01913669313727488), (3269, 0.019125032569899145), (4326, 0.01911769381514503), (1885, 0.019116231894603212), (2286, 0.01911535070620373), (441, 0.019112451757433802), (1683, 0.01910402659866071), (3357, 0.019103500800552335), (3772, 0.019103181012615513), (4505, 0.019092791251905793), (1711, 0.019090387251507673), (3804, 0.01903990924563627), (508, 0.019035903101007185), (3214, 0.019010098030577655), (3707, 0.019002481134289283), (2211, 0.018996789938858193), (1909, 0.018974393037064052), (1947, 0.018967676024768416), (2533, 0.018956104287754034), (1950, 0.01894032434253915), (431, 0.01893404248547962), (2705, 0.018926185572057178), (2924, 0.01890362245820119), (3206, 0.0188901902672159), (2674, 0.018884288788779516), (1187, 0.018883143827574857), (3750, 0.018874853769293654), (3353, 0.018852985758314317), (843, 0.018841600960095753), (3540, 0.018841504480985073), (1895, 0.01882982769419079), (25, 0.018815205277910422), (4584, 0.01878177808182663), (4333, 0.018780945057186405), (4497, 0.018749956599656194), (922, 0.018748803639550705), (4397, 0.01874275887762273), (3364, 0.01873259963539908), (3183, 0.018704396870690563), (2702, 0.018694591820750128), (4756, 0.01869109543362472), (2563, 0.018679412105223295), (2159, 0.018668916855042666), (1434, 0.01865973775467622), (4117, 0.018628411351743944), (3630, 0.01861781879604398), (3016, 0.018613217831641153), (2401, 0.01860251247069186), (4409, 0.018586311422257317), (3355, 0.018576929396792678), (3235, 0.018550747901877752), (3714, 0.01853907670987136), (4311, 0.018513229944418886), (2391, 0.018493062495584047), (4391, 0.018490993039230522), (75, 0.01845061919990391), (2624, 0.018450600919418747), (545, 0.01844040883606294), (2796, 0.01843022989746287), (1833, 0.01841460969172127), (2561, 0.01840709183165711), (3356, 0.018390589988853043), (2405, 0.018381799702878347), (3911, 0.01836770046100037), (13, 0.01836023824896064), (903, 0.01835984103643146), (3745, 0.01834747823898246), (3230, 0.0183260877294269), (1792, 0.01832336782720743), (641, 0.018287490188651327), (2366, 0.018275570156226967), (497, 0.018262506175004127), (4295, 0.018249322219842795), (3751, 0.018231055716409896), (1988, 0.01821639452148789), (2190, 0.018200815242433076), (2772, 0.01819557255383114), (2953, 0.018182905783753096), (3763, 0.01818177449147809), (3799, 0.01815876998514864), (3410, 0.018147842423349637), (826, 0.018114790063543447), (587, 0.01811081709715784), (4604, 0.01810651673538933), (3537, 0.01809375108123856), (2664, 0.018079136823196403), (3414, 0.01807150071544993), (3026, 0.01805584940839939), (140, 0.018032342009032875), (4169, 0.018024403342644824), (3577, 0.018016628023807317), (1210, 0.018014276638204693), (3302, 0.01801181321294472), (4732, 0.017987260316405233), (4516, 0.017981670199739033), (1805, 0.01797593656895547), (77, 0.017974517388805233), (4657, 0.01794489394711722), (791, 0.01793854481700262), (3308, 0.017938433222021783), (4471, 0.017926683518478936), (122, 0.01791442491077127), (3889, 0.017914316541820106), (1995, 0.01791176951361564), (4650, 0.01790974756483466), (3101, 0.017908006528563086), (4267, 0.017907117752357614), (3781, 0.01789671300641182), (3408, 0.017893005833679834), (113, 0.0178869107633721), (4259, 0.017875194805700417), (2361, 0.017874867102456258), (176, 0.017872073203470073), (3057, 0.017864123558777093), (4633, 0.017859416715953473), (4363, 0.017832764495401075), (3749, 0.017813242029432824), (2844, 0.01780922928599426), (3372, 0.01780307210651287), (4354, 0.017801769540168908), (262, 0.01777768586485337), (3093, 0.017766890178601415), (1169, 0.017751448490644653), (1787, 0.017735001567423504), (906, 0.017716921538728527), (4616, 0.01768837250769499), (1887, 0.017687336013548972), (4668, 0.01767707837019913), (2320, 0.017676474796350396), (2629, 0.017666125514128148), (3542, 0.017663896159886446), (998, 0.017639305194664934), (1802, 0.017626873599759445), (4602, 0.017624535905441788), (2720, 0.017620530486608887), (253, 0.01761587461018903), (2725, 0.017612007978638787), (813, 0.017595042777050266), (2356, 0.017591920775620627), (2134, 0.017581471077115312), (4368, 0.017575792413556706), (476, 0.01755862230836283), (2507, 0.017551275508413577), (3003, 0.017551105563455602), (1293, 0.017523491919880927), (4386, 0.01751899965262462), (4744, 0.01751492732668496), (1398, 0.01751458360116002), (2556, 0.017504176257440326), (3920, 0.01749672374116066), (2177, 0.01747938379377865), (2884, 0.01745389902905071), (3417, 0.0174521408446467), (2145, 0.01743258050956132), (4024, 0.017427025713969254), (3013, 0.01740994303252416), (4182, 0.01740439613846001), (2783, 0.017397823909961748), (648, 0.017393574915718017), (444, 0.017388093600552726), (2148, 0.01737192394455095), (4575, 0.017369083839895053), (1752, 0.01736787435484093), (1342, 0.017363527949746306), (2223, 0.01736199614195242), (985, 0.01735786368218164), (2390, 0.017352973947016077), (4680, 0.01734952796361572), (3866, 0.01733685583710555), (3983, 0.017335492401006382), (1656, 0.017316628650410098), (596, 0.017309778161223775), (1376, 0.017294244683434403), (3611, 0.017269577782026493), (3678, 0.017260975607248194), (3639, 0.017259655495723464), (4545, 0.017248729726513347), (3064, 0.017233238729637026), (999, 0.01723138464773572), (2792, 0.017226132911637947), (4140, 0.017217521481517225), (8, 0.01720857127364171), (3677, 0.017205300076106676), (3770, 0.01719771517991548), (3867, 0.017197293527092355), (3877, 0.01718729274749603), (3084, 0.017181229307649662), (1168, 0.017173941341946473), (3116, 0.017169287547965876), (1747, 0.017168074858619507), (2585, 0.01716318424055482), (130, 0.01715691050592458), (2943, 0.017152520091762588), (4273, 0.017150983523509158), (2887, 0.017143589245650157), (2176, 0.01712447341701073), (3170, 0.01710542003845004), (2882, 0.01710105923135906), (3557, 0.01707595060753175), (3560, 0.01707275722571996), (3893, 0.017067603578156138), (1350, 0.017027783274974378), (2072, 0.01701837091375726), (3917, 0.017016458730333455), (3075, 0.017009459638912584), (2531, 0.017006801991204648), (3593, 0.017006564603946835), (4262, 0.01699394801238937), (3987, 0.01698681771471195), (1826, 0.016981219762244135), (1153, 0.01697312508169591), (4304, 0.016951356805206434), (3234, 0.01694507962539963), (4245, 0.016943946568018835), (4, 0.016925557382750943), (3316, 0.016924339168235172), (308, 0.016917805458651184), (2230, 0.01691249820375127), (57, 0.016902663317955875), (1072, 0.016895391450397423), (3148, 0.016884325855140377), (4296, 0.016878567007621994), (3187, 0.016869786967135238), (1547, 0.016863587885538274), (4287, 0.016840520692446036), (739, 0.016824695465562003), (717, 0.016824481424456354), (1890, 0.016824201599319633), (627, 0.016820257262645702), (3496, 0.016803257371993358), (1959, 0.01679008240426806), (2723, 0.016783034455103013), (1409, 0.01677457299980405), (4422, 0.016762078087550474), (4743, 0.016762061252858663), (318, 0.016757072708447465), (3511, 0.016754608925702776), (3268, 0.01675116986027527), (2005, 0.01675009068697098), (1670, 0.01674309608386102), (2317, 0.01673967190736014), (3224, 0.016722015075287422), (2410, 0.016716786981290085), (2386, 0.01670916525649292), (4269, 0.01670056051363285), (3500, 0.016685682093783943), (1157, 0.016672689986764067), (1848, 0.016667886617410622), (2776, 0.01666724966667137), (4448, 0.016663959768827504), (3113, 0.016659129547050663), (3184, 0.016656301787138596), (4495, 0.016650521322586216), (3873, 0.01664064166817052), (1594, 0.01660481560815378), (3809, 0.016603920784740017), (2893, 0.016597068298094722), (1870, 0.01658933470651242), (2105, 0.016584324907343607), (3173, 0.016573634680127527), (1109, 0.01656703798287382), (2687, 0.016559889446972748), (4596, 0.016557439732055663), (4087, 0.016537871414186413), (4401, 0.01653631528797684), (2292, 0.016535790785239726), (2592, 0.016521475762434804), (192, 0.016521232674085142), (4145, 0.01651015172903537), (3186, 0.016501870531511836), (4301, 0.016474476260922622), (448, 0.016466468468152223), (1410, 0.016451119801041383), (4638, 0.016444352753100924), (2048, 0.0164390946003519), (1957, 0.016428859992565013), (1439, 0.016426822370071422), (499, 0.016409663659913535), (3419, 0.01640641706831821), (579, 0.01639258651773867), (2755, 0.01638875580204274), (2269, 0.016358465473091624), (2370, 0.016355029226568184), (395, 0.016338359737447922), (4340, 0.016324833293169066), (1479, 0.016320018825052417), (4566, 0.016318382737647987), (41, 0.016317444288092262), (3647, 0.016310553394999292), (4343, 0.016306979887470978), (2741, 0.016296625199230034), (3241, 0.016296205480383033), (4427, 0.01629526432100204), (1907, 0.016277700426101358), (1916, 0.016265065020099206), (4574, 0.01626201354800045), (2402, 0.0162492922500909), (3335, 0.016236589051756043), (1660, 0.01622966115385197), (857, 0.016221083886212358), (74, 0.01622004584383629), (1032, 0.01620328583871585), (226, 0.016175968778341553), (235, 0.016174490455762233), (1637, 0.016166122266286036), (2595, 0.01616089094969152), (473, 0.01615548445597424), (646, 0.016140574403662417), (1040, 0.01613713940838985), (623, 0.016132738961470584), (4051, 0.01613244816868128), (4206, 0.016129476766256957), (1733, 0.01611308744529887), (3654, 0.016112569471205568), (1324, 0.016098806119755643), (4501, 0.016098743898555003), (4132, 0.016088503262739674), (1402, 0.016083647139602312), (3587, 0.016074703693351174), (2830, 0.016070196047312014), (4686, 0.016068581962465144), (4535, 0.016062791996468345), (4330, 0.01606032629704957), (3449, 0.016048098347105536), (2554, 0.016041444284245164), (12, 0.01604005646325838), (614, 0.016038397648321313), (4334, 0.01603749830326477), (2946, 0.016027343323949235), (624, 0.0160177681711466), (466, 0.016005306714981883), (2911, 0.0160004055593487), (419, 0.01598802376163707), (3757, 0.015981921911014083), (4263, 0.015977735221909435), (2260, 0.01596721906868244), (1580, 0.015963446825437717), (378, 0.01596232801009436), (1851, 0.015962038189208806), (4266, 0.015960998848246165), (1717, 0.015953703647684288), (4320, 0.01595151773568893), (3882, 0.015947565092175046), (1415, 0.015935526211878), (4286, 0.01592862763311998), (1100, 0.01592727099644636), (3406, 0.01592110834210676), (4520, 0.015900095812353535), (3341, 0.015889643982956635), (2940, 0.015878896890741703), (3627, 0.015866221100317667), (3150, 0.015865676637199087), (4080, 0.015861836038075536), (3431, 0.01584727772606651), (2782, 0.015846917661140682), (1306, 0.015835325757676197), (1893, 0.015819918032014376), (612, 0.015815950931252837), (20, 0.015815358685456065), (3551, 0.015813480565528403), (3608, 0.01581051457765713), (564, 0.015804912365653557), (4446, 0.015795208760246777), (2393, 0.01577866015419978), (1349, 0.015758022869883353), (2999, 0.015751727252444083), (3915, 0.01574848145417301), (1722, 0.015738067206391752), (2679, 0.015737800101025184), (2735, 0.01573770371985279), (4489, 0.0157372226975538), (848, 0.015735517425658367), (2907, 0.015733637241414068), (987, 0.015733442665747777), (4348, 0.015732928724736212), (1748, 0.015731990232391583), (3506, 0.015725268090920123), (1411, 0.015724144747388747), (504, 0.015717783523272643), (887, 0.01571720913773939), (917, 0.015704737722194682), (1364, 0.015697057671688847), (767, 0.01569608747922448), (2661, 0.015695086878818296), (693, 0.015688718664175934), (1768, 0.0156872101951915), (975, 0.01568389731108883), (2466, 0.015683493232212), (4049, 0.015682896129851232), (1790, 0.01567521170150349), (2419, 0.015664447738371636), (3069, 0.01565353610736227), (4101, 0.015648670245569714), (4083, 0.01563307040271214), (211, 0.01563021393722075), (1310, 0.015612352374160332), (4643, 0.015603732223402432), (3900, 0.015590049038046132), (1518, 0.015589440514403767), (2853, 0.015587906429150523), (3271, 0.01555892169191696), (3902, 0.015558803322030775), (2926, 0.01554974185337919), (19, 0.015545919263678053), (3050, 0.01554563798440349), (4136, 0.015526572571149965), (1884, 0.015515010644344462), (1570, 0.015514089157763747), (1714, 0.015512491381952593), (3289, 0.0155114841121924), (2651, 0.015509798503736372), (4563, 0.015494434339237754), (1161, 0.015491438116864965), (2863, 0.015484382715121444), (3388, 0.015480674360026866), (4355, 0.015471984546686761), (4712, 0.01546505493797543), (4113, 0.015458774795124464), (66, 0.015457353868552544), (1090, 0.015454965691591428), (4567, 0.01545324288644364), (3314, 0.015447822061306458), (1628, 0.015447441859209408), (1476, 0.015446094917518444), (2073, 0.015436333731292455), (283, 0.015424549851214867), (246, 0.015406700656074145), (1946, 0.015404355202519949), (2746, 0.015402886782227777), (1163, 0.015386938504021796), (3986, 0.01538441816564121), (4130, 0.015382171156150336), (3348, 0.01537674435738033), (1625, 0.01537422755003342), (2396, 0.015368137746877975), (1249, 0.015354677292872711), (4129, 0.015352476583004855), (1294, 0.015348117092387046), (2688, 0.015343231941694648), (3216, 0.015341830486599648), (2385, 0.015338709553078268), (377, 0.01533747923942409), (3283, 0.015331239830765297), (4054, 0.015327799125380027), (26, 0.015321195632832359), (3198, 0.01531623211266531), (4381, 0.01530733348469083), (1204, 0.0152975149341593), (2904, 0.015297039981297117), (2976, 0.015289632948495736), (115, 0.01527894280504918), (680, 0.015271483249145146), (4142, 0.01526622729663876), (884, 0.015263845865748724), (3701, 0.015258734026938161), (3225, 0.015244528669684723), (4357, 0.015235794890024634), (3174, 0.015231339490535442), (3755, 0.015222830486597099), (3290, 0.015216904994389603), (2888, 0.015209789253998964), (993, 0.015206952303178796), (1822, 0.015204069680358449), (2397, 0.015203779341310274), (4356, 0.015196549488744058), (2894, 0.015163698778194918), (3243, 0.015158719323525758), (3478, 0.015156078364459638), (2354, 0.015151902950609978), (593, 0.015149756417304304), (588, 0.015135821909368595), (488, 0.015131965770165567), (940, 0.015126216197042481), (2195, 0.015119010218150953), (2492, 0.015113136658018056), (3458, 0.015096745639104755), (4687, 0.015094020888849851), (4530, 0.01508206475094235), (576, 0.015074897146189354), (4420, 0.015069143029034853), (1877, 0.01506881641826345), (400, 0.01505782968561923), (198, 0.015049318628938246), (178, 0.015048606747195542), (1617, 0.015046201497029323), (1397, 0.015037864054629172), (2319, 0.01501979546516936), (3260, 0.015000020529893989), (1102, 0.014997192026844528), (1703, 0.014972163227977885), (3928, 0.014966793440382405), (872, 0.01496471919670453), (3477, 0.014957739915385003), (2945, 0.014950151973795019), (2141, 0.014918470701751002), (430, 0.014918073089139108), (890, 0.014896798252046147), (2340, 0.014885658253764887), (4197, 0.014882541104438343), (2163, 0.014877342929889438), (2495, 0.014875856036476296), (3845, 0.01487379998066996), (2609, 0.014873068109874132), (3491, 0.014866672448909473), (3668, 0.014858845729816291), (2034, 0.014847856371935019), (1516, 0.014847295478291063), (1634, 0.014846814629882783), (774, 0.014842139905828597), (555, 0.014840686982086872), (1765, 0.014823516592435033), (169, 0.01482048907260571), (2416, 0.01481294264134679), (3517, 0.014798571963281286), (1891, 0.014796180396988538), (3412, 0.014775379951197343), (2610, 0.014764655827601902), (4536, 0.014764636524094942), (1176, 0.014750862281823372), (3739, 0.014732693009935316), (471, 0.014730895795155451), (3673, 0.01472876282982317), (1574, 0.01472441704730468), (2169, 0.014714425486632605), (4183, 0.014706341781499585), (2387, 0.01470288411074614), (71, 0.014693618783213055), (3565, 0.014692560661789658), (1474, 0.014682782966462525), (3441, 0.014680161233405436), (2826, 0.014656190488404768), (1355, 0.014652075650750407), (399, 0.014650436316684952), (1706, 0.014648954901046563), (2068, 0.014638002697051278), (2747, 0.014627977895791696), (2571, 0.01462588327602415), (883, 0.014604556796761068), (1378, 0.01460448034447948), (3493, 0.014597126786746335), (2612, 0.014596046800857566), (103, 0.01459500016768261), (3792, 0.014589895712325038), (2779, 0.014586327644955788), (984, 0.014579499904507106), (2129, 0.014579187288944615), (3548, 0.014578182238626058), (1550, 0.014574222514417373), (4056, 0.01456416506604615), (3906, 0.014562302860359734), (3890, 0.014557657107202568), (4059, 0.014556457536610036), (1084, 0.014555745270166136), (1059, 0.014554613663348648), (1672, 0.014531679526511592), (2213, 0.014526675688785953), (3211, 0.014486879432173822), (3369, 0.014479012959836116), (2569, 0.014478787979028632), (4085, 0.014469442211648656), (1122, 0.014461155058370636), (4472, 0.014459393367515592), (456, 0.014456696027609253), (1598, 0.01445185863855045), (2131, 0.014442354323893911), (969, 0.01443401820823953), (4608, 0.014424887163700642), (23, 0.014422437577146778), (1831, 0.014417497541488163), (871, 0.01440246069214544), (1117, 0.01439793063529861), (490, 0.014393097196757867), (2652, 0.014392293475012882), (1896, 0.014381652842637208), (1286, 0.014376275104889305), (2422, 0.014367651430936304), (98, 0.014353382834027146), (4394, 0.014341165793398569), (4020, 0.014330884251160345), (655, 0.01432119876619141), (3606, 0.014316474478875369), (3646, 0.014315478249469707), (247, 0.014314997947086945), (2192, 0.01430850098829368), (1313, 0.014301720598526631), (4036, 0.014300502782012668), (221, 0.014289808009048409), (1170, 0.014289093327089627), (2954, 0.014286001724814744), (505, 0.014285784834248657), (2102, 0.014285762765208506), (1110, 0.014281807675545842), (1304, 0.014281200493691077), (3182, 0.014269014778128369), (2642, 0.014265597131130322), (3220, 0.014262738491672915), (3379, 0.0142573639925817), (3402, 0.01425526923386301), (1298, 0.014249658974237831), (2467, 0.014245213036650849), (114, 0.014241446607382476), (348, 0.014238663185834834), (973, 0.014226185247543717), (755, 0.014220064827415583), (1319, 0.014217385610327211), (3390, 0.014200297605919959), (3455, 0.014200051479007039), (4155, 0.014169149250800827), (2268, 0.014169024222769866), (1036, 0.014166322344574836), (2117, 0.014160868024212719), (3147, 0.01415265039538627), (4137, 0.014152602807021275), (2446, 0.0141479776404695), (538, 0.014131732780943347), (2367, 0.014131151789260136), (372, 0.014127541655376837), (1744, 0.01412467707931616), (229, 0.01412262763944745), (1007, 0.014108421972728165), (4277, 0.014090486267798104), (865, 0.01408712096099992), (907, 0.014075158647169371), (495, 0.014064806096675224), (3445, 0.014054606954219827), (3298, 0.014054030523337886), (1416, 0.014038719031681756), (1663, 0.014028938387180445), (3913, 0.014027950271048082), (3706, 0.01402063613391304), (3765, 0.014013667093969732), (3278, 0.014004461248835628), (959, 0.01399951622634817), (886, 0.013995068161076357), (4011, 0.013991067434437635), (2430, 0.013981511774860272), (1422, 0.013974922060859468), (2060, 0.013972418268852831), (1641, 0.01396833894065031), (2461, 0.013966412136064919), (268, 0.013953041179372504), (645, 0.01393280070831218), (453, 0.013931583629961533), (4620, 0.01392667144957085), (3811, 0.0139214273139751), (541, 0.013919280958065742), (3028, 0.013912929892373558), (1533, 0.0139107966510249), (1408, 0.013887979509213999), (11, 0.013884561360317162), (4069, 0.013883874845284819), (1247, 0.01388079622546926), (2892, 0.013877074894686365), (722, 0.013874658840358805), (2226, 0.013869151039687425), (4359, 0.013865647039111105), (4104, 0.013862820616110398), (127, 0.013857747418733092), (3381, 0.013846093135093803), (647, 0.013845831041893722), (4634, 0.013837424688487435), (2912, 0.013834877842492418), (2593, 0.01382908219914102), (3014, 0.013819032450281658), (2457, 0.013806919510916907), (1543, 0.013801761792155214), (2083, 0.013796454551034848), (3300, 0.013794877505355392), (698, 0.013792361030121287), (1813, 0.013790414443520301), (749, 0.01378792918302224), (2765, 0.01378549005498094), (3691, 0.013779902483494482), (167, 0.013768367424023716), (2004, 0.013761551037990842), (944, 0.013761318252099067), (2146, 0.013760687225997765), (132, 0.013759415604102376), (1463, 0.013758380051018659), (672, 0.013756676142349324), (4487, 0.013753297093153058), (2965, 0.013745299699859126), (2878, 0.01374516653348535), (1929, 0.013733976612036833), (507, 0.013719381433795396), (4598, 0.013719340485483511), (1882, 0.013718912102063557), (1404, 0.013709535881431614), (522, 0.013702706660989963), (2323, 0.013693044467536853), (2909, 0.013686551607798424), (1034, 0.013665055598408332), (2972, 0.013650538629774176), (4220, 0.01364786663196436), (3304, 0.013644875380762292), (1042, 0.01363249368700269), (2111, 0.013628003535574307), (2201, 0.01362776512497282), (1558, 0.01361971412320767), (2525, 0.013608773366467458), (3868, 0.0135980999343024), (1273, 0.013578120375201), (4636, 0.013574895163457093), (158, 0.013574754017473638), (1954, 0.013563821542779105), (3200, 0.013557886523095789), (4429, 0.013556876156640767), (388, 0.01355115542661874), (798, 0.013546034424398824), (3327, 0.013545893327646294), (3953, 0.013541132013291188), (1597, 0.013525927214179233), (2520, 0.013511558887793552), (1742, 0.013488939712127545), (3039, 0.013484654817418553), (4135, 0.013480818176056567), (3315, 0.013477838966801398), (2399, 0.013469947459279505), (165, 0.013462911423073832), (2634, 0.013455372961914997), (1642, 0.013447421087358637), (480, 0.013447191348568206), (3564, 0.013435010950186062), (2862, 0.013423363393965338), (2099, 0.01341870418605344), (3071, 0.01341816425986857), (2800, 0.013411508672778573), (731, 0.013410136053414148), (3347, 0.013401132251375441), (659, 0.013393888596104632), (1284, 0.013393011221012887), (1666, 0.01336147783797537), (805, 0.013352476668782896), (1026, 0.013342444674931923), (2802, 0.013339766919021005), (325, 0.013332129198396762), (2591, 0.013326530628268857), (1418, 0.013313997611839445), (2453, 0.01330541858773797), (759, 0.013278551821721586), (2338, 0.013273403890442584), (885, 0.013272544919592382), (324, 0.01326202250494967), (1002, 0.013250984740293388), (1209, 0.013250955707722029), (524, 0.01324768669451919), (1372, 0.013240390726523766), (1605, 0.013233722761087386), (1027, 0.013224079139018753), (4476, 0.013212701998798053), (1869, 0.013207135782703867), (3894, 0.013204615506724577), (2242, 0.013195074548287155), (2067, 0.013191266579678748), (3669, 0.01317904916570842), (1528, 0.013176082105282495), (1357, 0.013159753715949511), (4139, 0.01315803466512639), (1370, 0.013155648148689008), (2552, 0.013152811218840833), (2132, 0.013127725498409014), (1693, 0.013120512292269255), (3641, 0.013119020021398822), (121, 0.013105885063758623), (355, 0.013097271851897997), (3795, 0.013090907561942595), (2920, 0.013081040567103585), (3863, 0.013080198341203676), (359, 0.013073372454943083), (1098, 0.013071594592880419), (4247, 0.013069504475250963), (1004, 0.013053174653479474), (1827, 0.013051208266534697), (2313, 0.01303513635142538), (1977, 0.013035105961253401), (2611, 0.01302808901793733), (1969, 0.01302488587451664), (1423, 0.013022735530103587), (1814, 0.013008473509665263), (3725, 0.01300479157616391), (1503, 0.012995017982463485), (416, 0.012992280432002736), (598, 0.0129685121060049), (2127, 0.012968190668779548), (1060, 0.012967475717580173), (707, 0.01295517130059705), (2509, 0.01294336369762282), (1080, 0.012937010978754333), (349, 0.01292579484183051), (1131, 0.012923955653470902), (410, 0.012916404333231487), (3311, 0.01290770071687853), (3380, 0.012897132728402635), (3167, 0.012892622335168868), (1763, 0.012887325140543112), (3503, 0.01288413634830677), (4226, 0.012873246294486022), (3024, 0.012872058635869049), (136, 0.01287069374088764), (3614, 0.012861321234849074), (2528, 0.012854379905287384), (1456, 0.01285355445048309), (1392, 0.012849672561868843), (589, 0.012847448413637863), (4550, 0.012844719066677397), (4428, 0.012841740087921502), (3194, 0.012840100549152595), (215, 0.012838857834605887), (4074, 0.012836597591009288), (4066, 0.012830530231871775), (1565, 0.012813832843624884), (4345, 0.012811645937679788), (594, 0.012800712723378231), (457, 0.012793026903144107), (267, 0.012762019627573971), (854, 0.012756651302714273), (4479, 0.012755491646981828), (4350, 0.01275160370435531), (195, 0.012751210486915389), (1645, 0.012732572116574917), (92, 0.012709159205582092), (154, 0.012690977245471028), (4174, 0.0126837351710624), (3254, 0.012654918373710685), (1079, 0.012624370669052542), (3336, 0.012620164730402486), (4411, 0.012619969150462094), (4152, 0.012616148462264698), (3027, 0.012600133553705282), (3538, 0.012597625575253072), (951, 0.012588977079286872), (1782, 0.012560376480566116), (852, 0.0125223671688509), (2845, 0.012507271386571152), (2166, 0.012504081571825292), (3657, 0.012490871960029511), (1366, 0.012459998008264445), (2753, 0.01244710953073223), (3056, 0.012441300763264636), (1980, 0.012427590181941745), (373, 0.012420178601157236), (357, 0.012409619569087158), (4626, 0.012408102373359707), (605, 0.012406375232712144), (856, 0.012395993043479655), (249, 0.012391548837106074), (1318, 0.012387113024442122), (1186, 0.01238407281908029), (3629, 0.012381196727518359), (2047, 0.012365949637795927), (1921, 0.012336609291883615), (2526, 0.012317061204171552), (2743, 0.012304345030285855), (2502, 0.01229235407972066), (3742, 0.012276705107994109), (1352, 0.012273270157841062), (1719, 0.01226363633373381), (2728, 0.012230045835037054), (4473, 0.012156997996320109), (3855, 0.012117706976354607), (1219, 0.012106760125752179), (97, 0.012102030056946267), (1450, 0.012092854588140672), (1616, 0.01207187759673062), (2873, 0.012066743593543032), (1583, 0.012031818704375905), (815, 0.012022611325182104), (1808, 0.012021084965048568), (1394, 0.011981049768017445), (4445, 0.011960845708326558), (2721, 0.011957833140853802), (2270, 0.011929836497714853), (196, 0.011914422848611942), (1801, 0.011898055000497591), (1691, 0.011885460959387957), (712, 0.011873777667016435), (2287, 0.011868217770521947), (1251, 0.01185922772268466), (1301, 0.011839303538084565), (2482, 0.01178638707546901), (2761, 0.011774843810880554), (1217, 0.011754680111175043), (1943, 0.011747461614896601), (3252, 0.011735642838841764), (432, 0.011725470726976052), (184, 0.011718399817902962), (2010, 0.01171443153660366), (3238, 0.011683546464350214), (1340, 0.011673467814563776), (3575, 0.011669607146088954), (3569, 0.01165797342420223), (2382, 0.011622525404061479), (1199, 0.011617991132954484), (703, 0.01160494807526148), (293, 0.011604014520658946), (3393, 0.01158800145661893), (901, 0.011501836841097079), (2816, 0.011498536956685113), (4015, 0.011466321375755711), (1948, 0.011459579737431905), (1088, 0.01145417769967493), (2758, 0.011443408138865753), (4143, 0.011392024120001357), (2339, 0.01136757053424186), (1427, 0.011354675770894294), (278, 0.011346954014374694), (2527, 0.01130695991058988), (2240, 0.01130684119752344), (626, 0.011289428318982081), (2510, 0.011283541776177903), (2359, 0.011273920774292439), (1830, 0.011259065828688549), (3199, 0.011232167291756141), (2039, 0.01121493582897295), (4200, 0.011207485797108936), (286, 0.011193580562397935), (1737, 0.011176648997464232), (2441, 0.011166941477447888), (607, 0.011133610973664306), (1828, 0.011131425104749687), (3256, 0.011121982718543862), (1305, 0.011041823175935741), (1624, 0.010979172259046387), (1770, 0.010955288275578963), (194, 0.010936724079124282), (1526, 0.010869375606068005), (4061, 0.010846273628466118), (2726, 0.01084133233259687), (3626, 0.010829348267573083), (1014, 0.010798246892640053), (582, 0.010737200487973194), (4752, 0.010720461804368515), (2101, 0.010658558331763665), (1277, 0.01062424235563231), (3926, 0.010584848939479563), (3365, 0.010583033212282676), (1692, 0.010574394300872567), (1886, 0.010537424653136916), (2767, 0.01051665138673835), (232, 0.010458490661845307), (4467, 0.01043886568371916), (1677, 0.01040492019440994), (3301, 0.01039950450193216), (2760, 0.010371799159008677), (1718, 0.010332110595356946), (3515, 0.01032186081692076), (4351, 0.010318427625327814), (4171, 0.010308762116378205), (3632, 0.010307974200074276), (1486, 0.010268602464291527), (3594, 0.010260376982549611), (351, 0.010257537063288462), (2426, 0.010246087174287766), (2902, 0.010223583450356158), (1238, 0.010151741437697098), (4738, 0.010150589363951187), (778, 0.01014642688962762), (671, 0.010144088667725296), (3546, 0.010138787281819068), (1069, 0.010113138039887396), (4077, 0.010084917534392198), (2335, 0.01006431547461767), (2766, 0.010030037993913644), (4001, 0.010029479827517002), (340, 0.009910748376285186), (4196, 0.009902858189032799), (2732, 0.009861703655113418), (3008, 0.009847609572467839), (228, 0.009825891811177063), (2636, 0.009813271742701798), (4236, 0.009811260185070548), (1425, 0.009809646890694676), (3265, 0.009808306044303232), (4057, 0.009759382903249727), (758, 0.009746717905516138), (3648, 0.009745918341233685), (3033, 0.009720759265792168), (2056, 0.009718815779377782), (4388, 0.009703509920053874), (1267, 0.009694925901459355), (3309, 0.009686924095644634), (2708, 0.009628143845348946), (748, 0.009623968389649493), (4342, 0.009622173824240219), (600, 0.009568432208603681), (4272, 0.009540632471108042), (1501, 0.009533174725500146), (2198, 0.009520295926381019), (615, 0.0095187052456213), (3392, 0.009508025834888426), (4367, 0.009494433667991754), (413, 0.009492859265712335), (1250, 0.009491770521421571), (3748, 0.009476318374750466), (4008, 0.009470649004874944), (812, 0.009423968204668415), (56, 0.009423722670992514), (1345, 0.009409619778801441), (1374, 0.009406372271198197), (752, 0.009396116421212339), (301, 0.009390594535691694), (1647, 0.009387816345028688), (3288, 0.009374671284888784), (363, 0.00936070020930206), (4564, 0.009304411183836452), (821, 0.009301420698470562), (2503, 0.009277882988458231), (1867, 0.009268418790276753), (3023, 0.009267060623057028), (1913, 0.009262080553408015), (202, 0.009237679201676532), (1329, 0.009199541166437895), (131, 0.009192004752338273), (22, 0.009189750032721256), (3457, 0.009176114032961591), (129, 0.009166019102850887), (2203, 0.009158606404744798), (1172, 0.009158492125914132), (1849, 0.009158327949137273), (3066, 0.009158155995566566), (2098, 0.009146608149770549), (1644, 0.009141092180889673), (3909, 0.009117609736736037), (2095, 0.009096540863826094), (834, 0.009082897439695783), (1911, 0.00906961621694257), (386, 0.009066947724167536), (2691, 0.009060584115798107), (2244, 0.009003198303531077), (2113, 0.00898675915798325), (4217, 0.008977109472836135), (1327, 0.008960332388900318), (1111, 0.00895765792779632), (1094, 0.00895657885108812), (230, 0.008952122198336146), (2020, 0.008951729010692126), (1552, 0.00894486693001862), (2517, 0.008933179809881371), (568, 0.008910104547057124), (1746, 0.00888945869684014), (1195, 0.008883611679411669), (3244, 0.008864697276581473), (3825, 0.008844711397053872), (4726, 0.008843386579022778), (3864, 0.008816854882851452), (24, 0.008795013903124824), (248, 0.008789080166246322), (958, 0.00877089718135801), (4009, 0.008737290996555971), (618, 0.008734801545122508), (740, 0.008718342210113385), (1863, 0.00869723128179164), (1715, 0.008687947003840785), (2202, 0.008684142603842454), (1818, 0.008666811979142581), (4099, 0.008659515147312065), (2160, 0.008643081476969246), (4210, 0.008621022842728728), (4459, 0.008616867709189036), (858, 0.008613765865514737), (1908, 0.008596969282361581), (3998, 0.00850167286131774), (1841, 0.00848613236554613), (1095, 0.008483854518944773), (3598, 0.008471130219657143), (2185, 0.00846115373185441), (3566, 0.00844662301704626), (835, 0.008418794342285941), (300, 0.008418455712959306), (4385, 0.008407669974848169), (1684, 0.008405876787566621), (2239, 0.008398555099791134), (9, 0.00838926686957532), (3114, 0.00837641088348353), (583, 0.008363647752570142), (177, 0.008340869967913136), (2205, 0.008336020629553527), (1307, 0.008335147807856528), (4303, 0.008322328267665574), (35, 0.008312737369191829), (1316, 0.008310763397239917), (263, 0.008295271555377482), (1780, 0.008283286272549041), (1903, 0.00827233393714478), (521, 0.008238190556806711), (1664, 0.008199484552467148), (185, 0.008198988764873592), (3509, 0.008196715157088233), (2156, 0.00806939260851742), (2439, 0.00804716791852107), (2175, 0.007994424082014152), (2935, 0.007969128754150887), (2058, 0.007951956290367792), (4055, 0.00793204722896441), (4035, 0.00792330315859977), (3752, 0.007853325249804626), (3164, 0.0077093570625252844), (3940, 0.007631873574525912), (3865, 0.007620059319614704), (2291, 0.007588667911011915), (168, 0.007585077794838965), (4110, 0.007412678994335262), (2665, 0.007282766956679865), (3559, 0.0072076829365534684), (1695, 0.007205233891258673), (475, 0.007180747415211424), (477, 0.007150403170161928), (4373, 0.007084782741060221), (1453, 0.006989925013219389), (2774, 0.006864712754071696), (2022, 0.0068499220273152105), (336, 0.006759262989247388), (414, 0.0066366171097639315), (2064, 0.006596860712676057), (561, 0.0065677500546925454), (3563, 0.006494610516323364), (155, 0.006459866589873309), (3205, 0.005982501831100197), (2157, 0.005964674971576744), (2660, 0.0058165979354084865), (2534, 0.00550682414906941), (1, 0.0), (2, 0.0), (14, 0.0), (17, 0.0), (28, 0.0), (36, 0.0), (37, 0.0), (49, 0.0), (53, 0.0), (54, 0.0), (55, 0.0), (58, 0.0), (59, 0.0), (64, 0.0), (73, 0.0), (91, 0.0), (100, 0.0), (101, 0.0), (110, 0.0), (117, 0.0), (133, 0.0), (134, 0.0), (141, 0.0), (146, 0.0), (150, 0.0), (151, 0.0), (153, 0.0), (163, 0.0), (171, 0.0), (186, 0.0), (188, 0.0), (205, 0.0), (214, 0.0), (219, 0.0), (223, 0.0), (225, 0.0), (237, 0.0), (245, 0.0), (257, 0.0), (258, 0.0), (259, 0.0), (264, 0.0), (265, 0.0), (272, 0.0), (275, 0.0), (297, 0.0), (298, 0.0), (299, 0.0), (302, 0.0), (312, 0.0), (319, 0.0), (331, 0.0), (335, 0.0), (337, 0.0), (338, 0.0), (339, 0.0), (344, 0.0), (352, 0.0), (361, 0.0), (362, 0.0), (365, 0.0), (366, 0.0), (376, 0.0), (379, 0.0), (382, 0.0), (383, 0.0), (384, 0.0), (390, 0.0), (391, 0.0), (392, 0.0), (393, 0.0), (394, 0.0), (398, 0.0), (401, 0.0), (404, 0.0), (405, 0.0), (411, 0.0), (415, 0.0), (421, 0.0), (423, 0.0), (427, 0.0), (439, 0.0), (440, 0.0), (454, 0.0), (459, 0.0), (462, 0.0), (484, 0.0), (486, 0.0), (491, 0.0), (492, 0.0), (498, 0.0), (506, 0.0), (516, 0.0), (517, 0.0), (520, 0.0), (525, 0.0), (528, 0.0), (529, 0.0), (531, 0.0), (535, 0.0), (536, 0.0), (546, 0.0), (548, 0.0), (549, 0.0), (552, 0.0), (554, 0.0), (556, 0.0), (557, 0.0), (565, 0.0), (567, 0.0), (569, 0.0), (570, 0.0), (572, 0.0), (573, 0.0), (574, 0.0), (575, 0.0), (577, 0.0), (585, 0.0), (591, 0.0), (592, 0.0), (599, 0.0), (601, 0.0), (602, 0.0), (603, 0.0), (610, 0.0), (630, 0.0), (649, 0.0), (650, 0.0), (656, 0.0), (658, 0.0), (662, 0.0), (663, 0.0), (665, 0.0), (674, 0.0), (679, 0.0), (681, 0.0), (686, 0.0), (699, 0.0), (700, 0.0), (702, 0.0), (704, 0.0), (708, 0.0), (709, 0.0), (711, 0.0), (713, 0.0), (714, 0.0), (718, 0.0), (720, 0.0), (724, 0.0), (725, 0.0), (726, 0.0), (730, 0.0), (736, 0.0), (741, 0.0), (746, 0.0), (747, 0.0), (751, 0.0), (754, 0.0), (764, 0.0), (770, 0.0), (771, 0.0), (772, 0.0), (773, 0.0), (780, 0.0), (781, 0.0), (784, 0.0), (785, 0.0), (786, 0.0), (789, 0.0), (797, 0.0), (807, 0.0), (819, 0.0), (820, 0.0), (822, 0.0), (837, 0.0), (839, 0.0), (840, 0.0), (841, 0.0), (846, 0.0), (859, 0.0), (881, 0.0), (882, 0.0), (892, 0.0), (909, 0.0), (912, 0.0), (913, 0.0), (914, 0.0), (920, 0.0), (926, 0.0), (938, 0.0), (943, 0.0), (945, 0.0), (946, 0.0), (950, 0.0), (954, 0.0), (955, 0.0), (956, 0.0), (960, 0.0), (961, 0.0), (964, 0.0), (965, 0.0), (971, 0.0), (972, 0.0), (977, 0.0), (978, 0.0), (982, 0.0), (983, 0.0), (990, 0.0), (995, 0.0), (1008, 0.0), (1010, 0.0), (1011, 0.0), (1013, 0.0), (1016, 0.0), (1022, 0.0), (1025, 0.0), (1028, 0.0), (1029, 0.0), (1031, 0.0), (1038, 0.0), (1039, 0.0), (1051, 0.0), (1055, 0.0), (1056, 0.0), (1057, 0.0), (1062, 0.0), (1066, 0.0), (1067, 0.0), (1073, 0.0), (1081, 0.0), (1085, 0.0), (1086, 0.0), (1089, 0.0), (1091, 0.0), (1093, 0.0), (1097, 0.0), (1101, 0.0), (1103, 0.0), (1105, 0.0), (1106, 0.0), (1108, 0.0), (1113, 0.0), (1126, 0.0), (1130, 0.0), (1133, 0.0), (1135, 0.0), (1139, 0.0), (1142, 0.0), (1143, 0.0), (1147, 0.0), (1149, 0.0), (1151, 0.0), (1155, 0.0), (1156, 0.0), (1159, 0.0), (1165, 0.0), (1166, 0.0), (1171, 0.0), (1178, 0.0), (1180, 0.0), (1189, 0.0), (1190, 0.0), (1193, 0.0), (1196, 0.0), (1198, 0.0), (1200, 0.0), (1201, 0.0), (1205, 0.0), (1212, 0.0), (1218, 0.0), (1221, 0.0), (1222, 0.0), (1227, 0.0), (1228, 0.0), (1233, 0.0), (1235, 0.0), (1240, 0.0), (1242, 0.0), (1244, 0.0), (1246, 0.0), (1253, 0.0), (1256, 0.0), (1258, 0.0), (1263, 0.0), (1265, 0.0), (1268, 0.0), (1269, 0.0), (1271, 0.0), (1283, 0.0), (1285, 0.0), (1287, 0.0), (1288, 0.0), (1289, 0.0), (1291, 0.0), (1295, 0.0), (1296, 0.0), (1297, 0.0), (1299, 0.0), (1315, 0.0), (1321, 0.0), (1322, 0.0), (1323, 0.0), (1326, 0.0), (1328, 0.0), (1333, 0.0), (1336, 0.0), (1346, 0.0), (1353, 0.0), (1354, 0.0), (1368, 0.0), (1373, 0.0), (1390, 0.0), (1399, 0.0), (1424, 0.0), (1437, 0.0), (1441, 0.0), (1444, 0.0), (1447, 0.0), (1457, 0.0), (1459, 0.0), (1460, 0.0), (1466, 0.0), (1467, 0.0), (1468, 0.0), (1470, 0.0), (1473, 0.0), (1482, 0.0), (1485, 0.0), (1487, 0.0), (1490, 0.0), (1491, 0.0), (1495, 0.0), (1496, 0.0), (1508, 0.0), (1511, 0.0), (1517, 0.0), (1520, 0.0), (1521, 0.0), (1522, 0.0), (1524, 0.0), (1525, 0.0), (1529, 0.0), (1532, 0.0), (1534, 0.0), (1535, 0.0), (1541, 0.0), (1545, 0.0), (1548, 0.0), (1549, 0.0), (1556, 0.0), (1557, 0.0), (1560, 0.0), (1561, 0.0), (1563, 0.0), (1564, 0.0), (1569, 0.0), (1577, 0.0), (1578, 0.0), (1581, 0.0), (1584, 0.0), (1586, 0.0), (1589, 0.0), (1592, 0.0), (1596, 0.0), (1599, 0.0), (1600, 0.0), (1601, 0.0), (1602, 0.0), (1603, 0.0), (1604, 0.0), (1606, 0.0), (1607, 0.0), (1610, 0.0), (1611, 0.0), (1613, 0.0), (1615, 0.0), (1618, 0.0), (1626, 0.0), (1636, 0.0), (1638, 0.0), (1639, 0.0), (1640, 0.0), (1646, 0.0), (1649, 0.0), (1651, 0.0), (1652, 0.0), (1657, 0.0), (1668, 0.0), (1669, 0.0), (1673, 0.0), (1679, 0.0), (1686, 0.0), (1689, 0.0), (1697, 0.0), (1698, 0.0), (1700, 0.0), (1702, 0.0), (1704, 0.0), (1709, 0.0), (1720, 0.0), (1725, 0.0), (1726, 0.0), (1728, 0.0), (1729, 0.0), (1731, 0.0), (1734, 0.0), (1745, 0.0), (1751, 0.0), (1755, 0.0), (1756, 0.0), (1757, 0.0), (1758, 0.0), (1766, 0.0), (1767, 0.0), (1769, 0.0), (1771, 0.0), (1775, 0.0), (1777, 0.0), (1778, 0.0), (1783, 0.0), (1785, 0.0), (1786, 0.0), (1794, 0.0), (1800, 0.0), (1803, 0.0), (1804, 0.0), (1810, 0.0), (1820, 0.0), (1823, 0.0), (1824, 0.0), (1825, 0.0), (1834, 0.0), (1835, 0.0), (1836, 0.0), (1837, 0.0), (1839, 0.0), (1842, 0.0), (1844, 0.0), (1855, 0.0), (1856, 0.0), (1879, 0.0), (1883, 0.0), (1888, 0.0), (1889, 0.0), (1894, 0.0), (1898, 0.0), (1899, 0.0), (1912, 0.0), (1915, 0.0), (1917, 0.0), (1926, 0.0), (1928, 0.0), (1932, 0.0), (1938, 0.0), (1944, 0.0), (1955, 0.0), (1956, 0.0), (1961, 0.0), (1963, 0.0), (1965, 0.0), (1966, 0.0), (1972, 0.0), (1974, 0.0), (1978, 0.0), (1979, 0.0), (1984, 0.0), (1999, 0.0), (2001, 0.0), (2002, 0.0), (2003, 0.0), (2006, 0.0), (2007, 0.0), (2009, 0.0), (2017, 0.0), (2018, 0.0), (2019, 0.0), (2021, 0.0), (2025, 0.0), (2028, 0.0), (2030, 0.0), (2032, 0.0), (2033, 0.0), (2036, 0.0), (2038, 0.0), (2041, 0.0), (2042, 0.0), (2043, 0.0), (2046, 0.0), (2050, 0.0), (2054, 0.0), (2059, 0.0), (2063, 0.0), (2071, 0.0), (2079, 0.0), (2081, 0.0), (2085, 0.0), (2086, 0.0), (2090, 0.0), (2092, 0.0), (2100, 0.0), (2106, 0.0), (2107, 0.0), (2115, 0.0), (2118, 0.0), (2120, 0.0), (2124, 0.0), (2125, 0.0), (2128, 0.0), (2135, 0.0), (2138, 0.0), (2140, 0.0), (2150, 0.0), (2152, 0.0), (2153, 0.0), (2164, 0.0), (2165, 0.0), (2168, 0.0), (2170, 0.0), (2171, 0.0), (2172, 0.0), (2179, 0.0), (2180, 0.0), (2182, 0.0), (2183, 0.0), (2186, 0.0), (2194, 0.0), (2200, 0.0), (2204, 0.0), (2215, 0.0), (2217, 0.0), (2218, 0.0), (2219, 0.0), (2220, 0.0), (2222, 0.0), (2225, 0.0), (2227, 0.0), (2233, 0.0), (2234, 0.0), (2238, 0.0), (2241, 0.0), (2243, 0.0), (2247, 0.0), (2249, 0.0), (2253, 0.0), (2256, 0.0), (2259, 0.0), (2261, 0.0), (2262, 0.0), (2263, 0.0), (2267, 0.0), (2271, 0.0), (2272, 0.0), (2274, 0.0), (2281, 0.0), (2282, 0.0), (2296, 0.0), (2297, 0.0), (2300, 0.0), (2305, 0.0), (2307, 0.0), (2311, 0.0), (2312, 0.0), (2315, 0.0), (2322, 0.0), (2325, 0.0), (2327, 0.0), (2329, 0.0), (2331, 0.0), (2332, 0.0), (2333, 0.0), (2337, 0.0), (2341, 0.0), (2342, 0.0), (2345, 0.0), (2351, 0.0), (2352, 0.0), (2357, 0.0), (2358, 0.0), (2360, 0.0), (2364, 0.0), (2365, 0.0), (2369, 0.0), (2371, 0.0), (2372, 0.0), (2373, 0.0), (2377, 0.0), (2380, 0.0), (2381, 0.0), (2384, 0.0), (2389, 0.0), (2395, 0.0), (2398, 0.0), (2409, 0.0), (2414, 0.0), (2420, 0.0), (2431, 0.0), (2433, 0.0), (2435, 0.0), (2445, 0.0), (2449, 0.0), (2450, 0.0), (2451, 0.0), (2452, 0.0), (2455, 0.0), (2456, 0.0), (2458, 0.0), (2462, 0.0), (2465, 0.0), (2470, 0.0), (2471, 0.0), (2472, 0.0), (2479, 0.0), (2483, 0.0), (2485, 0.0), (2491, 0.0), (2493, 0.0), (2497, 0.0), (2498, 0.0), (2499, 0.0), (2500, 0.0), (2504, 0.0), (2508, 0.0), (2511, 0.0), (2514, 0.0), (2515, 0.0), (2516, 0.0), (2518, 0.0), (2521, 0.0), (2523, 0.0), (2532, 0.0), (2536, 0.0), (2539, 0.0), (2542, 0.0), (2543, 0.0), (2547, 0.0), (2548, 0.0), (2549, 0.0), (2551, 0.0), (2562, 0.0), (2564, 0.0), (2566, 0.0), (2574, 0.0), (2575, 0.0), (2577, 0.0), (2578, 0.0), (2583, 0.0), (2584, 0.0), (2586, 0.0), (2588, 0.0), (2589, 0.0), (2590, 0.0), (2594, 0.0), (2596, 0.0), (2597, 0.0), (2604, 0.0), (2605, 0.0), (2608, 0.0), (2615, 0.0), (2616, 0.0), (2620, 0.0), (2627, 0.0), (2631, 0.0), (2637, 0.0), (2641, 0.0), (2646, 0.0), (2648, 0.0), (2656, 0.0), (2657, 0.0), (2658, 0.0), (2659, 0.0), (2662, 0.0), (2663, 0.0), (2666, 0.0), (2667, 0.0), (2669, 0.0), (2670, 0.0), (2671, 0.0), (2672, 0.0), (2675, 0.0), (2676, 0.0), (2677, 0.0), (2681, 0.0), (2684, 0.0), (2685, 0.0), (2686, 0.0), (2690, 0.0), (2693, 0.0), (2699, 0.0), (2701, 0.0), (2703, 0.0), (2704, 0.0), (2709, 0.0), (2710, 0.0), (2713, 0.0), (2715, 0.0), (2717, 0.0), (2718, 0.0), (2719, 0.0), (2729, 0.0), (2730, 0.0), (2734, 0.0), (2737, 0.0), (2749, 0.0), (2750, 0.0), (2754, 0.0), (2756, 0.0), (2763, 0.0), (2770, 0.0), (2773, 0.0), (2781, 0.0), (2785, 0.0), (2793, 0.0), (2794, 0.0), (2799, 0.0), (2804, 0.0), (2806, 0.0), (2810, 0.0), (2811, 0.0), (2813, 0.0), (2814, 0.0), (2817, 0.0), (2818, 0.0), (2824, 0.0), (2827, 0.0), (2828, 0.0), (2829, 0.0), (2835, 0.0), (2836, 0.0), (2837, 0.0), (2839, 0.0), (2842, 0.0), (2843, 0.0), (2850, 0.0), (2851, 0.0), (2852, 0.0), (2855, 0.0), (2856, 0.0), (2860, 0.0), (2864, 0.0), (2865, 0.0), (2866, 0.0), (2875, 0.0), (2877, 0.0), (2880, 0.0), (2885, 0.0), (2891, 0.0), (2896, 0.0), (2898, 0.0), (2905, 0.0), (2906, 0.0), (2921, 0.0), (2922, 0.0), (2927, 0.0), (2928, 0.0), (2930, 0.0), (2938, 0.0), (2941, 0.0), (2950, 0.0), (2951, 0.0), (2952, 0.0), (2955, 0.0), (2956, 0.0), (2958, 0.0), (2967, 0.0), (2968, 0.0), (2973, 0.0), (2979, 0.0), (2982, 0.0), (2983, 0.0), (2990, 0.0), (3001, 0.0), (3002, 0.0), (3006, 0.0), (3009, 0.0), (3017, 0.0), (3021, 0.0), (3025, 0.0), (3029, 0.0), (3034, 0.0), (3038, 0.0), (3041, 0.0), (3047, 0.0), (3048, 0.0), (3053, 0.0), (3054, 0.0), (3058, 0.0), (3059, 0.0), (3060, 0.0), (3061, 0.0), (3063, 0.0), (3068, 0.0), (3073, 0.0), (3077, 0.0), (3078, 0.0), (3080, 0.0), (3082, 0.0), (3083, 0.0), (3087, 0.0), (3088, 0.0), (3089, 0.0), (3090, 0.0), (3092, 0.0), (3103, 0.0), (3104, 0.0), (3105, 0.0), (3106, 0.0), (3107, 0.0), (3109, 0.0), (3115, 0.0), (3121, 0.0), (3130, 0.0), (3132, 0.0), (3138, 0.0), (3141, 0.0), (3145, 0.0), (3162, 0.0), (3169, 0.0), (3172, 0.0), (3175, 0.0), (3176, 0.0), (3177, 0.0), (3181, 0.0), (3188, 0.0), (3189, 0.0), (3190, 0.0), (3193, 0.0), (3197, 0.0), (3201, 0.0), (3202, 0.0), (3203, 0.0), (3204, 0.0), (3207, 0.0), (3208, 0.0), (3212, 0.0), (3217, 0.0), (3221, 0.0), (3223, 0.0), (3229, 0.0), (3231, 0.0), (3236, 0.0), (3250, 0.0), (3251, 0.0), (3255, 0.0), (3261, 0.0), (3266, 0.0), (3270, 0.0), (3272, 0.0), (3277, 0.0), (3281, 0.0), (3286, 0.0), (3287, 0.0), (3305, 0.0), (3310, 0.0), (3319, 0.0), (3320, 0.0), (3321, 0.0), (3323, 0.0), (3324, 0.0), (3332, 0.0), (3333, 0.0), (3340, 0.0), (3343, 0.0), (3350, 0.0), (3366, 0.0), (3368, 0.0), (3371, 0.0), (3378, 0.0), (3383, 0.0), (3394, 0.0), (3397, 0.0), (3400, 0.0), (3401, 0.0), (3411, 0.0), (3415, 0.0), (3422, 0.0), (3424, 0.0), (3427, 0.0), (3428, 0.0), (3439, 0.0), (3442, 0.0), (3444, 0.0), (3454, 0.0), (3459, 0.0), (3461, 0.0), (3467, 0.0), (3472, 0.0), (3473, 0.0), (3475, 0.0), (3476, 0.0), (3481, 0.0), (3482, 0.0), (3485, 0.0), (3489, 0.0), (3490, 0.0), (3494, 0.0), (3505, 0.0), (3510, 0.0), (3519, 0.0), (3522, 0.0), (3525, 0.0), (3529, 0.0), (3530, 0.0), (3532, 0.0), (3533, 0.0), (3539, 0.0), (3543, 0.0), (3545, 0.0), (3547, 0.0), (3549, 0.0), (3550, 0.0), (3554, 0.0), (3562, 0.0), (3567, 0.0), (3568, 0.0), (3572, 0.0), (3573, 0.0), (3574, 0.0), (3578, 0.0), (3581, 0.0), (3585, 0.0), (3589, 0.0), (3591, 0.0), (3592, 0.0), (3595, 0.0), (3600, 0.0), (3603, 0.0), (3607, 0.0), (3609, 0.0), (3610, 0.0), (3617, 0.0), (3622, 0.0), (3625, 0.0), (3628, 0.0), (3631, 0.0), (3633, 0.0), (3644, 0.0), (3649, 0.0), (3650, 0.0), (3662, 0.0), (3663, 0.0), (3671, 0.0), (3676, 0.0), (3681, 0.0), (3682, 0.0), (3683, 0.0), (3685, 0.0), (3686, 0.0), (3688, 0.0), (3690, 0.0), (3693, 0.0), (3695, 0.0), (3697, 0.0), (3698, 0.0), (3700, 0.0), (3702, 0.0), (3703, 0.0), (3709, 0.0), (3712, 0.0), (3716, 0.0), (3717, 0.0), (3718, 0.0), (3722, 0.0), (3724, 0.0), (3726, 0.0), (3730, 0.0), (3732, 0.0), (3735, 0.0), (3736, 0.0), (3738, 0.0), (3740, 0.0), (3743, 0.0), (3753, 0.0), (3758, 0.0), (3759, 0.0), (3760, 0.0), (3761, 0.0), (3764, 0.0), (3773, 0.0), (3783, 0.0), (3785, 0.0), (3786, 0.0), (3789, 0.0), (3790, 0.0), (3791, 0.0), (3796, 0.0), (3798, 0.0), (3800, 0.0), (3803, 0.0), (3805, 0.0), (3808, 0.0), (3812, 0.0), (3816, 0.0), (3817, 0.0), (3818, 0.0), (3820, 0.0), (3830, 0.0), (3831, 0.0), (3834, 0.0), (3836, 0.0), (3837, 0.0), (3838, 0.0), (3840, 0.0), (3843, 0.0), (3846, 0.0), (3847, 0.0), (3851, 0.0), (3856, 0.0), (3858, 0.0), (3859, 0.0), (3869, 0.0), (3870, 0.0), (3871, 0.0), (3879, 0.0), (3885, 0.0), (3887, 0.0), (3891, 0.0), (3896, 0.0), (3912, 0.0), (3914, 0.0), (3916, 0.0), (3918, 0.0), (3921, 0.0), (3923, 0.0), (3929, 0.0), (3930, 0.0), (3931, 0.0), (3933, 0.0), (3936, 0.0), (3937, 0.0), (3943, 0.0), (3948, 0.0), (3950, 0.0), (3963, 0.0), (3964, 0.0), (3965, 0.0), (3968, 0.0), (3969, 0.0), (3971, 0.0), (3972, 0.0), (3977, 0.0), (3979, 0.0), (3980, 0.0), (3981, 0.0), (3982, 0.0), (3985, 0.0), (3988, 0.0), (3991, 0.0), (3994, 0.0), (3996, 0.0), (4003, 0.0), (4006, 0.0), (4010, 0.0), (4018, 0.0), (4021, 0.0), (4022, 0.0), (4026, 0.0), (4027, 0.0), (4029, 0.0), (4031, 0.0), (4034, 0.0), (4037, 0.0), (4040, 0.0), (4041, 0.0), (4058, 0.0), (4063, 0.0), (4064, 0.0), (4065, 0.0), (4067, 0.0), (4070, 0.0), (4072, 0.0), (4073, 0.0), (4078, 0.0), (4084, 0.0), (4086, 0.0), (4097, 0.0), (4100, 0.0), (4108, 0.0), (4109, 0.0), (4112, 0.0), (4114, 0.0), (4115, 0.0), (4125, 0.0), (4127, 0.0), (4128, 0.0), (4131, 0.0), (4144, 0.0), (4146, 0.0), (4150, 0.0), (4153, 0.0), (4157, 0.0), (4159, 0.0), (4166, 0.0), (4167, 0.0), (4168, 0.0), (4170, 0.0), (4173, 0.0), (4179, 0.0), (4180, 0.0), (4181, 0.0), (4185, 0.0), (4186, 0.0), (4188, 0.0), (4190, 0.0), (4191, 0.0), (4194, 0.0), (4195, 0.0), (4198, 0.0), (4199, 0.0), (4201, 0.0), (4204, 0.0), (4207, 0.0), (4212, 0.0), (4214, 0.0), (4215, 0.0), (4218, 0.0), (4223, 0.0), (4224, 0.0), (4229, 0.0), (4234, 0.0), (4237, 0.0), (4238, 0.0), (4239, 0.0), (4241, 0.0), (4250, 0.0), (4253, 0.0), (4256, 0.0), (4258, 0.0), (4260, 0.0), (4270, 0.0), (4271, 0.0), (4276, 0.0), (4278, 0.0), (4279, 0.0), (4291, 0.0), (4294, 0.0), (4297, 0.0), (4300, 0.0), (4302, 0.0), (4305, 0.0), (4313, 0.0), (4315, 0.0), (4316, 0.0), (4317, 0.0), (4319, 0.0), (4323, 0.0), (4324, 0.0), (4327, 0.0), (4329, 0.0), (4332, 0.0), (4338, 0.0), (4341, 0.0), (4346, 0.0), (4347, 0.0), (4352, 0.0), (4353, 0.0), (4358, 0.0), (4364, 0.0), (4370, 0.0), (4372, 0.0), (4393, 0.0), (4404, 0.0), (4405, 0.0), (4406, 0.0), (4408, 0.0), (4410, 0.0), (4413, 0.0), (4414, 0.0), (4415, 0.0), (4417, 0.0), (4421, 0.0), (4424, 0.0), (4425, 0.0), (4433, 0.0), (4434, 0.0), (4437, 0.0), (4439, 0.0), (4447, 0.0), (4449, 0.0), (4451, 0.0), (4452, 0.0), (4453, 0.0), (4454, 0.0), (4455, 0.0), (4457, 0.0), (4460, 0.0), (4463, 0.0), (4478, 0.0), (4480, 0.0), (4483, 0.0), (4485, 0.0), (4491, 0.0), (4493, 0.0), (4496, 0.0), (4498, 0.0), (4499, 0.0), (4500, 0.0), (4506, 0.0), (4508, 0.0), (4509, 0.0), (4519, 0.0), (4525, 0.0), (4526, 0.0), (4532, 0.0), (4539, 0.0), (4541, 0.0), (4542, 0.0), (4547, 0.0), (4549, 0.0), (4556, 0.0), (4558, 0.0), (4559, 0.0), (4560, 0.0), (4561, 0.0), (4562, 0.0), (4565, 0.0), (4568, 0.0), (4569, 0.0), (4570, 0.0), (4577, 0.0), (4578, 0.0), (4580, 0.0), (4588, 0.0), (4592, 0.0), (4597, 0.0), (4599, 0.0), (4600, 0.0), (4609, 0.0), (4613, 0.0), (4615, 0.0), (4618, 0.0), (4622, 0.0), (4628, 0.0), (4631, 0.0), (4635, 0.0), (4644, 0.0), (4645, 0.0), (4647, 0.0), (4648, 0.0), (4651, 0.0), (4654, 0.0), (4655, 0.0), (4659, 0.0), (4662, 0.0), (4667, 0.0), (4671, 0.0), (4672, 0.0), (4675, 0.0), (4676, 0.0), (4681, 0.0), (4683, 0.0), (4688, 0.0), (4690, 0.0), (4700, 0.0), (4702, 0.0), (4711, 0.0), (4714, 0.0), (4716, 0.0), (4720, 0.0), (4725, 0.0), (4728, 0.0), (4730, 0.0), (4736, 0.0), (4737, 0.0), (4740, 0.0), (4741, 0.0), (4742, 0.0), (4745, 0.0), (4750, 0.0), (4751, 0.0), (4754, 0.0), (4755, 0.0), (4758, 0.0), (4759, 0.0)]\n"
          ]
        }
      ]
    },
    {
      "cell_type": "markdown",
      "source": [
        "print the name of similar movies based on the index"
      ],
      "metadata": {
        "id": "WjxVB4N7VuGQ"
      }
    },
    {
      "cell_type": "code",
      "source": [
        "print('Top 30 Movies Suggested for You: \\n')\n",
        "i=1\n",
        "\n",
        "for movie in Sorted_Similar_Movies:\n",
        "  index= movie[0]\n",
        "  title_from_index=df[df.Movie_ID==index]['Movie_Title'].values\n",
        "  if(i<31):\n",
        "    print(i,'.',title_from_index)\n",
        "    i+=1\n"
      ],
      "metadata": {
        "colab": {
          "base_uri": "https://localhost:8080/"
        },
        "id": "QZaj3tSfVxsw",
        "outputId": "a9c54e0c-7bad-40b1-b352-962b3a678abb"
      },
      "execution_count": null,
      "outputs": [
        {
          "output_type": "stream",
          "name": "stdout",
          "text": [
            "Top 30 Movies Suggested for You: \n",
            "\n",
            "1 . ['Avatar']\n",
            "2 . ['Precious']\n",
            "3 . ['Mooz-lum']\n",
            "4 . ['Jumper']\n",
            "5 . ['Final Fantasy: The Spirits Within']\n",
            "6 . [\"Hell's Angels\"]\n",
            "7 . ['Bright Lights, Big City']\n",
            "8 . ['The Opposite Sex']\n",
            "9 . ['Goddess of Love']\n",
            "10 . ['Standard Operating Procedure']\n",
            "11 . ['Heaven is for Real']\n",
            "12 . ['Gran Torino']\n",
            "13 . ['Gerry']\n",
            "14 . ['Blue Ruin']\n",
            "15 . ['Despicable Me 2']\n",
            "16 . [\"Dude Where's My Dog?\"]\n",
            "17 . ['Lone Star']\n",
            "18 . ['I Origins']\n",
            "19 . ['Disaster Movie']\n",
            "20 . ['The Firm']\n",
            "21 . ['Abandoned']\n",
            "22 . ['Cure']\n",
            "23 . ['Exam']\n",
            "24 . ['The Singing Detective']\n",
            "25 . ['The Change-Up']\n",
            "26 . ['There Be Dragons']\n",
            "27 . ['Hercules']\n",
            "28 . ['Meet Joe Black']\n",
            "29 . ['Six Days Seven Nights']\n",
            "30 . ['Joyful Noise']\n"
          ]
        }
      ]
    },
    {
      "cell_type": "markdown",
      "source": [
        "**TOP 10 MOVIE RECOMMENDATION SYSTEM**"
      ],
      "metadata": {
        "id": "pxPNFBA7V3uJ"
      }
    },
    {
      "cell_type": "code",
      "source": [
        "Movie_Name=input ('Enter your favourite movie name:')\n",
        "list_of_all_titles=df['Movie_Title'].tolist()\n",
        "Find_Close_Match= difflib.get_close_matches(Movie_Name,list_of_all_titles)\n",
        "Close_Match=Find_Close_Match[0]\n",
        "Index_of_Movie= df[df.Movie_Title==Close_Match]['Movie_ID'].values[0]\n",
        "Recommendation_Score= list (enumerate(Similarity_Score[Index_of_Movie]))\n",
        "Sorted_Similar_Movies= sorted(Recommendation_Score,key= lambda x:x[1],reverse=True)\n",
        "print('Top 10 suggested Movies for you:\\n')\n",
        "i=1\n",
        "\n",
        "for movie in Sorted_Similar_Movies:\n",
        "  index= movie[0]\n",
        "  title_from_index=df[df.Movie_ID==index]['Movie_Title'].values\n",
        "  if(i<11):\n",
        "    print(i,'.',title_from_index)\n",
        "    i+=1"
      ],
      "metadata": {
        "colab": {
          "base_uri": "https://localhost:8080/"
        },
        "id": "RfPX0U6wV-V5",
        "outputId": "5bb4752e-450d-4919-92bb-d90a81d6aa3a"
      },
      "execution_count": null,
      "outputs": [
        {
          "output_type": "stream",
          "name": "stdout",
          "text": [
            "Enter your favourite movie name:avatar\n",
            "Top 10 suggested Movies for you:\n",
            "\n",
            "1 . ['Avatar']\n",
            "2 . ['Precious']\n",
            "3 . ['Mooz-lum']\n",
            "4 . ['Jumper']\n",
            "5 . ['Final Fantasy: The Spirits Within']\n",
            "6 . [\"Hell's Angels\"]\n",
            "7 . ['Bright Lights, Big City']\n",
            "8 . ['The Opposite Sex']\n",
            "9 . ['Goddess of Love']\n",
            "10 . ['Standard Operating Procedure']\n"
          ]
        }
      ]
    }
  ]
}